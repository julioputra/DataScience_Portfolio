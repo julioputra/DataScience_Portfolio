{
 "cells": [
  {
   "cell_type": "markdown",
   "metadata": {},
   "source": [
    "# Milestone 2 Phase 1\n",
    "\n",
    "Name: Julio Putra David\n",
    "\n",
    "Batch: 10\n",
    "\n",
    "___________"
   ]
  },
  {
   "cell_type": "markdown",
   "metadata": {
    "id": "OOxQVDWSxcAL"
   },
   "source": [
    "## **1. Introduction**\n",
    "\n",
    "This notebook will cover the establishments of several supervised machine learning models to predict the price of Spanish Wine. The dataset that will be used is related to red variants of spanish wines. The dataset describes several popularity and description metrics their effect on it's quality. `Price` is the target variable. We will predict the price of the wine without knowning the name of the wine and winery.\n",
    "\n",
    "_**Citation:**_\n",
    "\n",
    "    fedesoriano. (April 2022). Spanish Wine Quality Dataset. Retrieved [Date Retrieved] from https://www.kaggle.com/datasets/fedesoriano/spanish-wine-quality-dataset"
   ]
  },
  {
   "cell_type": "markdown",
   "metadata": {
    "id": "ZWRPDaWKxcAM"
   },
   "source": [
    "## **2. Import Libraries**"
   ]
  },
  {
   "cell_type": "code",
   "execution_count": 1,
   "metadata": {
    "id": "CJeN9AAoxcAO"
   },
   "outputs": [],
   "source": [
    "# Basic Libraries\n",
    "import pandas as pd\n",
    "import matplotlib.pyplot as plt\n",
    "import matplotlib.image as mpimg\n",
    "import seaborn as sns\n",
    "import numpy as np \n",
    "from scipy.stats import pearsonr\n",
    "\n",
    "# Pre-processing Libraries\n",
    "from feature_engine.outliers import Winsorizer, OutlierTrimmer\n",
    "from feature_engine.imputation import CategoricalImputer, MeanMedianImputer, DropMissingData\n",
    "from sklearn.model_selection import train_test_split, cross_val_score, GridSearchCV, RandomizedSearchCV\n",
    "from sklearn.preprocessing import MinMaxScaler, StandardScaler, PowerTransformer, OneHotEncoder, OrdinalEncoder, RobustScaler\n",
    "from sklearn.impute import SimpleImputer\n",
    "\n",
    "# Regression Algorithm Libraries\n",
    "from sklearn.linear_model import LinearRegression, Lasso, Ridge, ElasticNet\n",
    "from sklearn.tree import DecisionTreeRegressor\n",
    "from sklearn.ensemble import RandomForestRegressor, GradientBoostingRegressor\n",
    "from sklearn.neighbors import KNeighborsRegressor\n",
    "from xgboost import XGBRegressor\n",
    "\n",
    "from sklearn.pipeline import make_pipeline\n",
    "from sklearn.compose import ColumnTransformer\n",
    "\n",
    "# Model Evaluation Metrics Libraries\n",
    "from sklearn.metrics import r2_score, mean_absolute_error, mean_squared_error\n",
    "\n",
    "# Warning Neglect Library\n",
    "import warnings\n",
    "warnings.filterwarnings('ignore')"
   ]
  },
  {
   "cell_type": "markdown",
   "metadata": {
    "id": "n-6df6YNxcAR"
   },
   "source": [
    "## **3. Data Loading**"
   ]
  },
  {
   "cell_type": "code",
   "execution_count": 2,
   "metadata": {
    "colab": {
     "base_uri": "https://localhost:8080/",
     "height": 488
    },
    "id": "bD27cniwxcAS",
    "outputId": "e4284fb3-5ddf-4e98-d0a2-ab7ab3155a7a"
   },
   "outputs": [
    {
     "data": {
      "text/html": [
       "<div>\n",
       "<style scoped>\n",
       "    .dataframe tbody tr th:only-of-type {\n",
       "        vertical-align: middle;\n",
       "    }\n",
       "\n",
       "    .dataframe tbody tr th {\n",
       "        vertical-align: top;\n",
       "    }\n",
       "\n",
       "    .dataframe thead th {\n",
       "        text-align: right;\n",
       "    }\n",
       "</style>\n",
       "<table border=\"1\" class=\"dataframe\">\n",
       "  <thead>\n",
       "    <tr style=\"text-align: right;\">\n",
       "      <th></th>\n",
       "      <th>winery</th>\n",
       "      <th>wine</th>\n",
       "      <th>year</th>\n",
       "      <th>rating</th>\n",
       "      <th>num_reviews</th>\n",
       "      <th>country</th>\n",
       "      <th>region</th>\n",
       "      <th>price</th>\n",
       "      <th>type</th>\n",
       "      <th>body</th>\n",
       "      <th>acidity</th>\n",
       "    </tr>\n",
       "  </thead>\n",
       "  <tbody>\n",
       "    <tr>\n",
       "      <th>0</th>\n",
       "      <td>Teso La Monja</td>\n",
       "      <td>Tinto</td>\n",
       "      <td>2013</td>\n",
       "      <td>4.9</td>\n",
       "      <td>58</td>\n",
       "      <td>Espana</td>\n",
       "      <td>Toro</td>\n",
       "      <td>995.00</td>\n",
       "      <td>Toro Red</td>\n",
       "      <td>5.0</td>\n",
       "      <td>3.0</td>\n",
       "    </tr>\n",
       "    <tr>\n",
       "      <th>1</th>\n",
       "      <td>Artadi</td>\n",
       "      <td>Vina El Pison</td>\n",
       "      <td>2018</td>\n",
       "      <td>4.9</td>\n",
       "      <td>31</td>\n",
       "      <td>Espana</td>\n",
       "      <td>Vino de Espana</td>\n",
       "      <td>313.50</td>\n",
       "      <td>Tempranillo</td>\n",
       "      <td>4.0</td>\n",
       "      <td>2.0</td>\n",
       "    </tr>\n",
       "    <tr>\n",
       "      <th>2</th>\n",
       "      <td>Vega Sicilia</td>\n",
       "      <td>Unico</td>\n",
       "      <td>2009</td>\n",
       "      <td>4.8</td>\n",
       "      <td>1793</td>\n",
       "      <td>Espana</td>\n",
       "      <td>Ribera del Duero</td>\n",
       "      <td>324.95</td>\n",
       "      <td>Ribera Del Duero Red</td>\n",
       "      <td>5.0</td>\n",
       "      <td>3.0</td>\n",
       "    </tr>\n",
       "    <tr>\n",
       "      <th>3</th>\n",
       "      <td>Vega Sicilia</td>\n",
       "      <td>Unico</td>\n",
       "      <td>1999</td>\n",
       "      <td>4.8</td>\n",
       "      <td>1705</td>\n",
       "      <td>Espana</td>\n",
       "      <td>Ribera del Duero</td>\n",
       "      <td>692.96</td>\n",
       "      <td>Ribera Del Duero Red</td>\n",
       "      <td>5.0</td>\n",
       "      <td>3.0</td>\n",
       "    </tr>\n",
       "    <tr>\n",
       "      <th>4</th>\n",
       "      <td>Vega Sicilia</td>\n",
       "      <td>Unico</td>\n",
       "      <td>1996</td>\n",
       "      <td>4.8</td>\n",
       "      <td>1309</td>\n",
       "      <td>Espana</td>\n",
       "      <td>Ribera del Duero</td>\n",
       "      <td>778.06</td>\n",
       "      <td>Ribera Del Duero Red</td>\n",
       "      <td>5.0</td>\n",
       "      <td>3.0</td>\n",
       "    </tr>\n",
       "  </tbody>\n",
       "</table>\n",
       "</div>"
      ],
      "text/plain": [
       "          winery           wine  year  rating  num_reviews country  \\\n",
       "0  Teso La Monja          Tinto  2013     4.9           58  Espana   \n",
       "1         Artadi  Vina El Pison  2018     4.9           31  Espana   \n",
       "2   Vega Sicilia          Unico  2009     4.8         1793  Espana   \n",
       "3   Vega Sicilia          Unico  1999     4.8         1705  Espana   \n",
       "4   Vega Sicilia          Unico  1996     4.8         1309  Espana   \n",
       "\n",
       "             region   price                  type  body  acidity  \n",
       "0              Toro  995.00              Toro Red   5.0      3.0  \n",
       "1    Vino de Espana  313.50           Tempranillo   4.0      2.0  \n",
       "2  Ribera del Duero  324.95  Ribera Del Duero Red   5.0      3.0  \n",
       "3  Ribera del Duero  692.96  Ribera Del Duero Red   5.0      3.0  \n",
       "4  Ribera del Duero  778.06  Ribera Del Duero Red   5.0      3.0  "
      ]
     },
     "execution_count": 2,
     "metadata": {},
     "output_type": "execute_result"
    }
   ],
   "source": [
    "df = pd.read_csv('wines_SPA.csv')\n",
    "df.head()"
   ]
  },
  {
   "cell_type": "code",
   "execution_count": 3,
   "metadata": {
    "colab": {
     "base_uri": "https://localhost:8080/"
    },
    "id": "COc4vHR0xcAU",
    "outputId": "4263ff07-01b6-4acb-eed6-7f3613200d0f"
   },
   "outputs": [
    {
     "name": "stdout",
     "output_type": "stream",
     "text": [
      "Number of rows    = 7500\n",
      "Number of columns = 11\n"
     ]
    }
   ],
   "source": [
    "r = df.shape[0]\n",
    "c = df.shape[1]\n",
    "print('Number of rows    =', r)\n",
    "print('Number of columns =', c)"
   ]
  },
  {
   "cell_type": "code",
   "execution_count": 4,
   "metadata": {
    "colab": {
     "base_uri": "https://localhost:8080/"
    },
    "id": "OTi_-czCxcAX",
    "outputId": "8f8db0c9-65aa-4fed-e54e-a4f1e5c4b284"
   },
   "outputs": [
    {
     "name": "stdout",
     "output_type": "stream",
     "text": [
      "<class 'pandas.core.frame.DataFrame'>\n",
      "RangeIndex: 7500 entries, 0 to 7499\n",
      "Data columns (total 11 columns):\n",
      " #   Column       Non-Null Count  Dtype  \n",
      "---  ------       --------------  -----  \n",
      " 0   winery       7500 non-null   object \n",
      " 1   wine         7500 non-null   object \n",
      " 2   year         7498 non-null   object \n",
      " 3   rating       7500 non-null   float64\n",
      " 4   num_reviews  7500 non-null   int64  \n",
      " 5   country      7500 non-null   object \n",
      " 6   region       7500 non-null   object \n",
      " 7   price        7500 non-null   float64\n",
      " 8   type         6955 non-null   object \n",
      " 9   body         6331 non-null   float64\n",
      " 10  acidity      6331 non-null   float64\n",
      "dtypes: float64(4), int64(1), object(6)\n",
      "memory usage: 644.7+ KB\n"
     ]
    }
   ],
   "source": [
    "df.info()"
   ]
  },
  {
   "cell_type": "markdown",
   "metadata": {
    "id": "gyP3_l1BxcAY"
   },
   "source": [
    "Make a copy of the original dataset."
   ]
  },
  {
   "cell_type": "code",
   "execution_count": 5,
   "metadata": {
    "id": "8Kvgg6RmxcAa"
   },
   "outputs": [],
   "source": [
    "data = df.copy()"
   ]
  },
  {
   "cell_type": "markdown",
   "metadata": {
    "id": "Cp_fbt8UxcAb"
   },
   "source": [
    "## **4. Exploratory Data Analysis (EDA)**"
   ]
  },
  {
   "cell_type": "markdown",
   "metadata": {
    "id": "xaxv6iHbxcAb"
   },
   "source": [
    "#### **1. List of numerical columns**"
   ]
  },
  {
   "cell_type": "code",
   "execution_count": 6,
   "metadata": {
    "colab": {
     "base_uri": "https://localhost:8080/"
    },
    "id": "w8nbrG_vxcAc",
    "outputId": "b263bc67-00d8-4d50-857c-9bfc65a6d6a0"
   },
   "outputs": [
    {
     "data": {
      "text/plain": [
       "['rating', 'num_reviews', 'price', 'body', 'acidity']"
      ]
     },
     "execution_count": 6,
     "metadata": {},
     "output_type": "execute_result"
    }
   ],
   "source": [
    "num_data = data.select_dtypes(include=np.number).columns.tolist()\n",
    "num_data"
   ]
  },
  {
   "cell_type": "markdown",
   "metadata": {
    "id": "Oetuoj7hxcAd"
   },
   "source": [
    "#### **2. List of categorical columns**"
   ]
  },
  {
   "cell_type": "code",
   "execution_count": 7,
   "metadata": {
    "colab": {
     "base_uri": "https://localhost:8080/"
    },
    "id": "NeVqt9gXxcAe",
    "outputId": "65bbe0f3-6734-4498-bf06-e5141da72533"
   },
   "outputs": [
    {
     "data": {
      "text/plain": [
       "['winery', 'wine', 'year', 'country', 'region', 'type']"
      ]
     },
     "execution_count": 7,
     "metadata": {},
     "output_type": "execute_result"
    }
   ],
   "source": [
    "data.select_dtypes(include=['object','category']).columns.tolist()"
   ]
  },
  {
   "cell_type": "code",
   "execution_count": 8,
   "metadata": {},
   "outputs": [
    {
     "data": {
      "text/plain": [
       "winery          480\n",
       "wine            847\n",
       "year             72\n",
       "rating            8\n",
       "num_reviews     817\n",
       "country           1\n",
       "region           76\n",
       "price          1292\n",
       "type             22\n",
       "body              5\n",
       "acidity           4\n",
       "dtype: int64"
      ]
     },
     "execution_count": 8,
     "metadata": {},
     "output_type": "execute_result"
    }
   ],
   "source": [
    "data.nunique(axis=0, dropna=False)"
   ]
  },
  {
   "cell_type": "code",
   "execution_count": 9,
   "metadata": {},
   "outputs": [
    {
     "data": {
      "text/html": [
       "<div>\n",
       "<style scoped>\n",
       "    .dataframe tbody tr th:only-of-type {\n",
       "        vertical-align: middle;\n",
       "    }\n",
       "\n",
       "    .dataframe tbody tr th {\n",
       "        vertical-align: top;\n",
       "    }\n",
       "\n",
       "    .dataframe thead th {\n",
       "        text-align: right;\n",
       "    }\n",
       "</style>\n",
       "<table border=\"1\" class=\"dataframe\">\n",
       "  <thead>\n",
       "    <tr style=\"text-align: right;\">\n",
       "      <th></th>\n",
       "      <th>winery</th>\n",
       "      <th>wine</th>\n",
       "      <th>year</th>\n",
       "      <th>rating</th>\n",
       "      <th>num_reviews</th>\n",
       "      <th>country</th>\n",
       "      <th>region</th>\n",
       "      <th>price</th>\n",
       "      <th>type</th>\n",
       "      <th>body</th>\n",
       "      <th>acidity</th>\n",
       "    </tr>\n",
       "  </thead>\n",
       "  <tbody>\n",
       "    <tr>\n",
       "      <th>276</th>\n",
       "      <td>Hacienda Monasterio</td>\n",
       "      <td>Reserva</td>\n",
       "      <td>2017</td>\n",
       "      <td>4.6</td>\n",
       "      <td>64</td>\n",
       "      <td>Espana</td>\n",
       "      <td>Ribera del Duero</td>\n",
       "      <td>50.000000</td>\n",
       "      <td>Ribera Del Duero Red</td>\n",
       "      <td>5.0</td>\n",
       "      <td>3.0</td>\n",
       "    </tr>\n",
       "    <tr>\n",
       "      <th>382</th>\n",
       "      <td>Pago de Carraovejas</td>\n",
       "      <td>Reserva</td>\n",
       "      <td>2014</td>\n",
       "      <td>4.5</td>\n",
       "      <td>1148</td>\n",
       "      <td>Espana</td>\n",
       "      <td>Ribera del Duero</td>\n",
       "      <td>69.580324</td>\n",
       "      <td>Ribera Del Duero Red</td>\n",
       "      <td>5.0</td>\n",
       "      <td>3.0</td>\n",
       "    </tr>\n",
       "    <tr>\n",
       "      <th>397</th>\n",
       "      <td>Hacienda Monasterio</td>\n",
       "      <td>Reserva</td>\n",
       "      <td>2015</td>\n",
       "      <td>4.5</td>\n",
       "      <td>629</td>\n",
       "      <td>Espana</td>\n",
       "      <td>Ribera del Duero</td>\n",
       "      <td>53.950000</td>\n",
       "      <td>Ribera Del Duero Red</td>\n",
       "      <td>5.0</td>\n",
       "      <td>3.0</td>\n",
       "    </tr>\n",
       "    <tr>\n",
       "      <th>423</th>\n",
       "      <td>Hacienda Monasterio</td>\n",
       "      <td>Reserva</td>\n",
       "      <td>2016</td>\n",
       "      <td>4.5</td>\n",
       "      <td>297</td>\n",
       "      <td>Espana</td>\n",
       "      <td>Ribera del Duero</td>\n",
       "      <td>55.950000</td>\n",
       "      <td>Ribera Del Duero Red</td>\n",
       "      <td>5.0</td>\n",
       "      <td>3.0</td>\n",
       "    </tr>\n",
       "    <tr>\n",
       "      <th>473</th>\n",
       "      <td>Dominio del Aguila</td>\n",
       "      <td>Reserva</td>\n",
       "      <td>2018</td>\n",
       "      <td>4.5</td>\n",
       "      <td>141</td>\n",
       "      <td>Espana</td>\n",
       "      <td>Ribera del Duero</td>\n",
       "      <td>59.800000</td>\n",
       "      <td>Ribera Del Duero Red</td>\n",
       "      <td>5.0</td>\n",
       "      <td>3.0</td>\n",
       "    </tr>\n",
       "    <tr>\n",
       "      <th>...</th>\n",
       "      <td>...</td>\n",
       "      <td>...</td>\n",
       "      <td>...</td>\n",
       "      <td>...</td>\n",
       "      <td>...</td>\n",
       "      <td>...</td>\n",
       "      <td>...</td>\n",
       "      <td>...</td>\n",
       "      <td>...</td>\n",
       "      <td>...</td>\n",
       "      <td>...</td>\n",
       "    </tr>\n",
       "    <tr>\n",
       "      <th>7445</th>\n",
       "      <td>Contino</td>\n",
       "      <td>Reserva</td>\n",
       "      <td>2016</td>\n",
       "      <td>4.2</td>\n",
       "      <td>392</td>\n",
       "      <td>Espana</td>\n",
       "      <td>Rioja</td>\n",
       "      <td>19.980000</td>\n",
       "      <td>Rioja Red</td>\n",
       "      <td>4.0</td>\n",
       "      <td>3.0</td>\n",
       "    </tr>\n",
       "    <tr>\n",
       "      <th>7451</th>\n",
       "      <td>La Vicalanda</td>\n",
       "      <td>Reserva</td>\n",
       "      <td>2015</td>\n",
       "      <td>4.2</td>\n",
       "      <td>420</td>\n",
       "      <td>Espana</td>\n",
       "      <td>Rioja</td>\n",
       "      <td>17.500000</td>\n",
       "      <td>Rioja Red</td>\n",
       "      <td>4.0</td>\n",
       "      <td>3.0</td>\n",
       "    </tr>\n",
       "    <tr>\n",
       "      <th>7470</th>\n",
       "      <td>Contino</td>\n",
       "      <td>Reserva</td>\n",
       "      <td>2016</td>\n",
       "      <td>4.2</td>\n",
       "      <td>392</td>\n",
       "      <td>Espana</td>\n",
       "      <td>Rioja</td>\n",
       "      <td>19.980000</td>\n",
       "      <td>Rioja Red</td>\n",
       "      <td>4.0</td>\n",
       "      <td>3.0</td>\n",
       "    </tr>\n",
       "    <tr>\n",
       "      <th>7476</th>\n",
       "      <td>La Vicalanda</td>\n",
       "      <td>Reserva</td>\n",
       "      <td>2015</td>\n",
       "      <td>4.2</td>\n",
       "      <td>420</td>\n",
       "      <td>Espana</td>\n",
       "      <td>Rioja</td>\n",
       "      <td>17.500000</td>\n",
       "      <td>Rioja Red</td>\n",
       "      <td>4.0</td>\n",
       "      <td>3.0</td>\n",
       "    </tr>\n",
       "    <tr>\n",
       "      <th>7495</th>\n",
       "      <td>Contino</td>\n",
       "      <td>Reserva</td>\n",
       "      <td>2016</td>\n",
       "      <td>4.2</td>\n",
       "      <td>392</td>\n",
       "      <td>Espana</td>\n",
       "      <td>Rioja</td>\n",
       "      <td>19.980000</td>\n",
       "      <td>Rioja Red</td>\n",
       "      <td>4.0</td>\n",
       "      <td>3.0</td>\n",
       "    </tr>\n",
       "  </tbody>\n",
       "</table>\n",
       "<p>467 rows × 11 columns</p>\n",
       "</div>"
      ],
      "text/plain": [
       "                   winery     wine  year  rating  num_reviews country  \\\n",
       "276   Hacienda Monasterio  Reserva  2017     4.6           64  Espana   \n",
       "382   Pago de Carraovejas  Reserva  2014     4.5         1148  Espana   \n",
       "397   Hacienda Monasterio  Reserva  2015     4.5          629  Espana   \n",
       "423   Hacienda Monasterio  Reserva  2016     4.5          297  Espana   \n",
       "473    Dominio del Aguila  Reserva  2018     4.5          141  Espana   \n",
       "...                   ...      ...   ...     ...          ...     ...   \n",
       "7445              Contino  Reserva  2016     4.2          392  Espana   \n",
       "7451         La Vicalanda  Reserva  2015     4.2          420  Espana   \n",
       "7470              Contino  Reserva  2016     4.2          392  Espana   \n",
       "7476         La Vicalanda  Reserva  2015     4.2          420  Espana   \n",
       "7495              Contino  Reserva  2016     4.2          392  Espana   \n",
       "\n",
       "                region      price                  type  body  acidity  \n",
       "276   Ribera del Duero  50.000000  Ribera Del Duero Red   5.0      3.0  \n",
       "382   Ribera del Duero  69.580324  Ribera Del Duero Red   5.0      3.0  \n",
       "397   Ribera del Duero  53.950000  Ribera Del Duero Red   5.0      3.0  \n",
       "423   Ribera del Duero  55.950000  Ribera Del Duero Red   5.0      3.0  \n",
       "473   Ribera del Duero  59.800000  Ribera Del Duero Red   5.0      3.0  \n",
       "...                ...        ...                   ...   ...      ...  \n",
       "7445             Rioja  19.980000             Rioja Red   4.0      3.0  \n",
       "7451             Rioja  17.500000             Rioja Red   4.0      3.0  \n",
       "7470             Rioja  19.980000             Rioja Red   4.0      3.0  \n",
       "7476             Rioja  17.500000             Rioja Red   4.0      3.0  \n",
       "7495             Rioja  19.980000             Rioja Red   4.0      3.0  \n",
       "\n",
       "[467 rows x 11 columns]"
      ]
     },
     "execution_count": 9,
     "metadata": {},
     "output_type": "execute_result"
    }
   ],
   "source": [
    "data[data['wine']=='Reserva']"
   ]
  },
  {
   "cell_type": "markdown",
   "metadata": {
    "id": "kDVqMhIGxcAf"
   },
   "source": [
    "#### **3. Descriptive Statistics**"
   ]
  },
  {
   "cell_type": "code",
   "execution_count": 10,
   "metadata": {
    "colab": {
     "base_uri": "https://localhost:8080/",
     "height": 0
    },
    "id": "Y3vzMGDVxcAf",
    "outputId": "54cb36c2-da53-4fee-9fce-196865a67c69"
   },
   "outputs": [
    {
     "data": {
      "text/html": [
       "<div>\n",
       "<style scoped>\n",
       "    .dataframe tbody tr th:only-of-type {\n",
       "        vertical-align: middle;\n",
       "    }\n",
       "\n",
       "    .dataframe tbody tr th {\n",
       "        vertical-align: top;\n",
       "    }\n",
       "\n",
       "    .dataframe thead th {\n",
       "        text-align: right;\n",
       "    }\n",
       "</style>\n",
       "<table border=\"1\" class=\"dataframe\">\n",
       "  <thead>\n",
       "    <tr style=\"text-align: right;\">\n",
       "      <th></th>\n",
       "      <th>rating</th>\n",
       "      <th>num_reviews</th>\n",
       "      <th>price</th>\n",
       "      <th>body</th>\n",
       "      <th>acidity</th>\n",
       "    </tr>\n",
       "  </thead>\n",
       "  <tbody>\n",
       "    <tr>\n",
       "      <th>count</th>\n",
       "      <td>7500.000000</td>\n",
       "      <td>7500.000000</td>\n",
       "      <td>7500.000000</td>\n",
       "      <td>6331.000000</td>\n",
       "      <td>6331.000000</td>\n",
       "    </tr>\n",
       "    <tr>\n",
       "      <th>mean</th>\n",
       "      <td>4.254933</td>\n",
       "      <td>451.109067</td>\n",
       "      <td>60.095822</td>\n",
       "      <td>4.158427</td>\n",
       "      <td>2.946612</td>\n",
       "    </tr>\n",
       "    <tr>\n",
       "      <th>std</th>\n",
       "      <td>0.118029</td>\n",
       "      <td>723.001856</td>\n",
       "      <td>150.356676</td>\n",
       "      <td>0.583352</td>\n",
       "      <td>0.248202</td>\n",
       "    </tr>\n",
       "    <tr>\n",
       "      <th>min</th>\n",
       "      <td>4.200000</td>\n",
       "      <td>25.000000</td>\n",
       "      <td>4.990000</td>\n",
       "      <td>2.000000</td>\n",
       "      <td>1.000000</td>\n",
       "    </tr>\n",
       "    <tr>\n",
       "      <th>25%</th>\n",
       "      <td>4.200000</td>\n",
       "      <td>389.000000</td>\n",
       "      <td>18.900000</td>\n",
       "      <td>4.000000</td>\n",
       "      <td>3.000000</td>\n",
       "    </tr>\n",
       "    <tr>\n",
       "      <th>50%</th>\n",
       "      <td>4.200000</td>\n",
       "      <td>404.000000</td>\n",
       "      <td>28.530000</td>\n",
       "      <td>4.000000</td>\n",
       "      <td>3.000000</td>\n",
       "    </tr>\n",
       "    <tr>\n",
       "      <th>75%</th>\n",
       "      <td>4.200000</td>\n",
       "      <td>415.000000</td>\n",
       "      <td>51.350000</td>\n",
       "      <td>5.000000</td>\n",
       "      <td>3.000000</td>\n",
       "    </tr>\n",
       "    <tr>\n",
       "      <th>max</th>\n",
       "      <td>4.900000</td>\n",
       "      <td>32624.000000</td>\n",
       "      <td>3119.080000</td>\n",
       "      <td>5.000000</td>\n",
       "      <td>3.000000</td>\n",
       "    </tr>\n",
       "  </tbody>\n",
       "</table>\n",
       "</div>"
      ],
      "text/plain": [
       "            rating   num_reviews        price         body      acidity\n",
       "count  7500.000000   7500.000000  7500.000000  6331.000000  6331.000000\n",
       "mean      4.254933    451.109067    60.095822     4.158427     2.946612\n",
       "std       0.118029    723.001856   150.356676     0.583352     0.248202\n",
       "min       4.200000     25.000000     4.990000     2.000000     1.000000\n",
       "25%       4.200000    389.000000    18.900000     4.000000     3.000000\n",
       "50%       4.200000    404.000000    28.530000     4.000000     3.000000\n",
       "75%       4.200000    415.000000    51.350000     5.000000     3.000000\n",
       "max       4.900000  32624.000000  3119.080000     5.000000     3.000000"
      ]
     },
     "execution_count": 10,
     "metadata": {},
     "output_type": "execute_result"
    }
   ],
   "source": [
    "data.describe()"
   ]
  },
  {
   "cell_type": "markdown",
   "metadata": {
    "id": "GEEY4GcyxcAg"
   },
   "source": [
    "#### **4. Missing Values Detection**"
   ]
  },
  {
   "cell_type": "code",
   "execution_count": 11,
   "metadata": {
    "colab": {
     "base_uri": "https://localhost:8080/"
    },
    "id": "nmqX9tr9xcAh",
    "outputId": "c8023ec8-6f1f-4d58-beea-1e04c3b1dc40"
   },
   "outputs": [
    {
     "data": {
      "text/plain": [
       "winery         False\n",
       "wine           False\n",
       "year            True\n",
       "rating         False\n",
       "num_reviews    False\n",
       "country        False\n",
       "region         False\n",
       "price          False\n",
       "type            True\n",
       "body            True\n",
       "acidity         True\n",
       "dtype: bool"
      ]
     },
     "execution_count": 11,
     "metadata": {},
     "output_type": "execute_result"
    }
   ],
   "source": [
    "data.isnull().any()"
   ]
  },
  {
   "cell_type": "markdown",
   "metadata": {},
   "source": [
    "#### **5. Distribution of Features**"
   ]
  },
  {
   "cell_type": "code",
   "execution_count": 12,
   "metadata": {},
   "outputs": [],
   "source": [
    "# This is the function for checking the skewness of the columns\n",
    "\n",
    "def skew_check(data, column):\n",
    "    skewness = data[column].skew(axis = 0, skipna = True)\n",
    "    if skewness <= 0.5 and skewness >= -0.5:\n",
    "        print(f'[Gaussian] Skewness of {column} =', skewness)\n",
    "    else:\n",
    "        print(f'[Skewed] Skewness of {column} =', skewness)"
   ]
  },
  {
   "cell_type": "code",
   "execution_count": 13,
   "metadata": {},
   "outputs": [
    {
     "name": "stdout",
     "output_type": "stream",
     "text": [
      "[Skewed] Skewness of rating = 2.4434745058974765\n",
      "[Skewed] Skewness of num_reviews = 17.85606162561893\n",
      "[Skewed] Skewness of price = 9.643681639976837\n",
      "[Gaussian] Skewness of body = -0.19899269531188457\n",
      "[Skewed] Skewness of acidity = -5.008214324371584\n"
     ]
    }
   ],
   "source": [
    "for feature in data.select_dtypes(include=np.number).columns:\n",
    "    skew_check(data, feature)"
   ]
  },
  {
   "cell_type": "code",
   "execution_count": 14,
   "metadata": {},
   "outputs": [
    {
     "data": {
      "image/png": "[encoded data removed]",
      "text/plain": [
       "<Figure size 1008x432 with 5 Axes>"
      ]
     },
     "metadata": {
      "needs_background": "light"
     },
     "output_type": "display_data"
    }
   ],
   "source": [
    "plt.figure(figsize=(14,6))\n",
    "for i in range(0,len(data.select_dtypes(include=np.number).columns)):\n",
    "    plt.subplot(2,3, i+1)\n",
    "    sns.distplot(x=data[data.select_dtypes(include=np.number).columns[i]], color='blue')\n",
    "    plt.title(f'{data.select_dtypes(include=np.number).columns[i]}')\n",
    "    plt.tight_layout()"
   ]
  },
  {
   "cell_type": "markdown",
   "metadata": {},
   "source": [
    "#### **6. Boxplot Analysis**"
   ]
  },
  {
   "cell_type": "code",
   "execution_count": 15,
   "metadata": {},
   "outputs": [
    {
     "data": {
      "image/png": "[encoded data removed]",
      "text/plain": [
       "<Figure size 1008x288 with 5 Axes>"
      ]
     },
     "metadata": {
      "needs_background": "light"
     },
     "output_type": "display_data"
    }
   ],
   "source": [
    "plt.figure(figsize=(14,4))\n",
    "for i in range(0,len(data.select_dtypes(include=np.number).columns)):\n",
    "    plt.subplot(2,3, i+1)\n",
    "    sns.boxplot(x=data[data.select_dtypes(include=np.number).columns[i]], color='green')\n",
    "    plt.tight_layout()"
   ]
  },
  {
   "cell_type": "code",
   "execution_count": 16,
   "metadata": {},
   "outputs": [
    {
     "data": {
      "image/png": "[encoded data removed]",
      "text/plain": [
       "<Figure size 1296x504 with 1 Axes>"
      ]
     },
     "metadata": {
      "needs_background": "light"
     },
     "output_type": "display_data"
    }
   ],
   "source": [
    "fig, ax = plt.subplots(ncols=1, figsize=(18,7))\n",
    "sns.boxplot(y='price', x='type', data=data, ax=ax, palette='bright')\n",
    "plt.title('Type vs. Price', fontsize=16)\n",
    "plt.xticks(rotation=90)\n",
    "plt.show()"
   ]
  },
  {
   "cell_type": "code",
   "execution_count": 17,
   "metadata": {},
   "outputs": [
    {
     "data": {
      "image/png": "[encoded data removed]",
      "text/plain": [
       "<Figure size 1584x504 with 1 Axes>"
      ]
     },
     "metadata": {
      "needs_background": "light"
     },
     "output_type": "display_data"
    }
   ],
   "source": [
    "fig, ax = plt.subplots(ncols=1, figsize=(22,7))\n",
    "sns.barplot(y='price', x='year', data=data.sort_values('year'), ax=ax, palette='bright')\n",
    "plt.xticks(rotation=90)\n",
    "plt.show()"
   ]
  },
  {
   "cell_type": "code",
   "execution_count": 18,
   "metadata": {},
   "outputs": [
    {
     "data": {
      "text/plain": [
       "array(['2013', '2018', '2009', '1999', '1996', '1998', '2010', '1995',\n",
       "       '2015', '2011', '2016', '1970', '1946', '1962', '2019', '2004',\n",
       "       'N.V.', '1931', '1979', '2005', '2020', '2014', '1985', '1929',\n",
       "       '2007', '2012', '2017', '2008', nan, '2006', '2000', '2003',\n",
       "       '2002', '1991', '1994', '1990', '1989', '1987', '1986', '1981',\n",
       "       '2001', '1968', '1964', '1982', '1974', '1983', '1955', '1980',\n",
       "       '1972', '1953', '1958', '1942', '1965', '1992', '1973', '1997',\n",
       "       '1967', '1975', '1910', '1961', '1954', '1988', '1969', '1951',\n",
       "       '1928', '1976', '1949', '2021', '1959', '1922', '1978', '1925'],\n",
       "      dtype=object)"
      ]
     },
     "execution_count": 18,
     "metadata": {},
     "output_type": "execute_result"
    }
   ],
   "source": [
    "data.year.unique()"
   ]
  },
  {
   "cell_type": "code",
   "execution_count": 19,
   "metadata": {},
   "outputs": [
    {
     "data": {
      "text/plain": [
       "year    288\n",
       "dtype: int64"
      ]
     },
     "execution_count": 19,
     "metadata": {},
     "output_type": "execute_result"
    }
   ],
   "source": [
    "data[data['year']=='N.V.'][['year']].count()"
   ]
  },
  {
   "cell_type": "markdown",
   "metadata": {},
   "source": [
    "N.V. is short for Non-Vintage wines.\n",
    "\n",
    "According to McWilliam's Wines website, a vintage wine is one made from grapes that were all, or primarily, grown and picked in a single specified year. Each vintage wine has a unique flavour profile reflective of the fruit picked during that year.\n",
    "\n",
    "A non-vintage wine is created by blending together a number wines from different vintages. In a lot of the wine descriptions when you look for the vintage year and see “NV”, this designates a Non Vintage wine.\n",
    "\n",
    "Because we do not have any numerical value to represent the Non-Vintage wines, we will drop them out."
   ]
  },
  {
   "cell_type": "code",
   "execution_count": 20,
   "metadata": {},
   "outputs": [
    {
     "data": {
      "image/png": "[encoded data removed]",
      "text/plain": [
       "<Figure size 1296x504 with 1 Axes>"
      ]
     },
     "metadata": {
      "needs_background": "light"
     },
     "output_type": "display_data"
    }
   ],
   "source": [
    "fig, ax = plt.subplots(ncols=1, figsize=(18,7))\n",
    "sns.boxplot(y='price', x='region', data=data, ax=ax, palette='bright')\n",
    "plt.title('Region vs. Price', fontsize=16)\n",
    "plt.xticks(rotation=90)\n",
    "plt.show()"
   ]
  },
  {
   "cell_type": "markdown",
   "metadata": {},
   "source": [
    "#### **Country**"
   ]
  },
  {
   "cell_type": "code",
   "execution_count": 21,
   "metadata": {},
   "outputs": [
    {
     "data": {
      "text/plain": [
       "array(['Espana'], dtype=object)"
      ]
     },
     "execution_count": 21,
     "metadata": {},
     "output_type": "execute_result"
    }
   ],
   "source": [
    "data['country'].unique()"
   ]
  },
  {
   "cell_type": "markdown",
   "metadata": {},
   "source": [
    "We will drop `country` because it has only one value."
   ]
  },
  {
   "cell_type": "markdown",
   "metadata": {},
   "source": [
    "## **5. Data Pre-processing**"
   ]
  },
  {
   "cell_type": "markdown",
   "metadata": {},
   "source": [
    "### **5.1 Feature Engineering**"
   ]
  },
  {
   "cell_type": "markdown",
   "metadata": {},
   "source": [
    "Drop `country`"
   ]
  },
  {
   "cell_type": "code",
   "execution_count": 22,
   "metadata": {},
   "outputs": [],
   "source": [
    "data.drop(['country'], axis=1, inplace=True)"
   ]
  },
  {
   "cell_type": "markdown",
   "metadata": {},
   "source": [
    "Drop `N.V.` in `year`"
   ]
  },
  {
   "cell_type": "code",
   "execution_count": 23,
   "metadata": {},
   "outputs": [],
   "source": [
    "data.drop(data.loc[data['year']=='N.V.'].index, inplace=True)"
   ]
  },
  {
   "cell_type": "markdown",
   "metadata": {},
   "source": [
    "Convert `year` into integer."
   ]
  },
  {
   "cell_type": "code",
   "execution_count": 24,
   "metadata": {},
   "outputs": [],
   "source": [
    "data['year'] = pd.to_numeric(data['year'], errors='ignore')\n",
    "data.dropna(subset=['year'], inplace=True)\n",
    "data['year'] = data['year'].astype('int64')"
   ]
  },
  {
   "cell_type": "markdown",
   "metadata": {},
   "source": [
    "### **5.2 High Cardinality Reduction**"
   ]
  },
  {
   "cell_type": "markdown",
   "metadata": {},
   "source": [
    "We have high cardinality on `type`. Now we will reduce the cardinality by using a simple Aggregating function below. (*Source code*: https://towardsdatascience.com/dealing-with-features-that-have-high-cardinality-1c9212d7ff1b)"
   ]
  },
  {
   "cell_type": "code",
   "execution_count": 25,
   "metadata": {},
   "outputs": [],
   "source": [
    "from collections import Counter\n",
    "def cumulatively_categorise(column,threshold=0.75,return_categories_list=True):\n",
    "    threshold_value=int(threshold*len(column))    \n",
    "    categories_list=[]                            \n",
    "    s=0                                           \n",
    "    counts=Counter(column)                        \n",
    "    \n",
    "    for i,j in counts.most_common():\n",
    "        s+=dict(counts)[i] \n",
    "        categories_list.append(i)\n",
    "        if s>=threshold_value:\n",
    "            break\n",
    "    categories_list.append('Other')\n",
    "\n",
    "    new_column=column.apply(lambda x: x if x in categories_list else 'Other')\n",
    "\n",
    "    if(return_categories_list):\n",
    "        return new_column,categories_list\n",
    "    else:\n",
    "        return new_column"
   ]
  },
  {
   "cell_type": "code",
   "execution_count": 26,
   "metadata": {},
   "outputs": [],
   "source": [
    "reduced_type, new_type_list = cumulatively_categorise(data['type'],threshold=0.8,return_categories_list=True)\n",
    "reduced_wine, new_wine_list = cumulatively_categorise(data['wine'],threshold=0.8,return_categories_list=True)\n",
    "reduced_winery, new_winery_list = cumulatively_categorise(data['winery'],threshold=0.8,return_categories_list=True)\n",
    "reduced_region, new_wine_list = cumulatively_categorise(data['region'],threshold=0.8,return_categories_list=True)"
   ]
  },
  {
   "cell_type": "code",
   "execution_count": 27,
   "metadata": {},
   "outputs": [],
   "source": [
    "data['type_reduced'] = reduced_type\n",
    "data.drop('type', axis=1, inplace=True)\n",
    "\n",
    "data['wine_reduced'] = reduced_wine\n",
    "data.drop('wine', axis=1, inplace=True)\n",
    "\n",
    "data['winery_reduced'] = reduced_winery\n",
    "data.drop('winery', axis=1, inplace=True)\n",
    "\n",
    "data['region_reduced'] = reduced_region\n",
    "data.drop('region', axis=1, inplace=True)"
   ]
  },
  {
   "cell_type": "markdown",
   "metadata": {},
   "source": [
    "### **5.3 Inference Dataset**"
   ]
  },
  {
   "cell_type": "markdown",
   "metadata": {},
   "source": [
    "We will take out 10 samples from the dataset to be our inference dataset."
   ]
  },
  {
   "cell_type": "code",
   "execution_count": 28,
   "metadata": {},
   "outputs": [],
   "source": [
    "data_inf = data.sample(10, random_state=77)"
   ]
  },
  {
   "cell_type": "markdown",
   "metadata": {},
   "source": [
    "Dropping the data that has been assigned as inference."
   ]
  },
  {
   "cell_type": "code",
   "execution_count": 29,
   "metadata": {},
   "outputs": [],
   "source": [
    "data.drop(data_inf.index, inplace=True)"
   ]
  },
  {
   "cell_type": "markdown",
   "metadata": {},
   "source": [
    "Resetting the index to prevent unwanted errors."
   ]
  },
  {
   "cell_type": "code",
   "execution_count": 30,
   "metadata": {},
   "outputs": [],
   "source": [
    "data.reset_index(drop=True, inplace=True)\n",
    "data_inf.reset_index(drop=True, inplace=True)"
   ]
  },
  {
   "cell_type": "markdown",
   "metadata": {},
   "source": [
    "### **5.3 Data Splitting**"
   ]
  },
  {
   "cell_type": "markdown",
   "metadata": {},
   "source": [
    "75% for train set and 25% for test set."
   ]
  },
  {
   "cell_type": "code",
   "execution_count": 31,
   "metadata": {},
   "outputs": [],
   "source": [
    "X = data.drop('price', axis=1)\n",
    "y = data['price']\n",
    "\n",
    "X_train, X_test, y_train, y_test = train_test_split(X, y, random_state=42)"
   ]
  },
  {
   "cell_type": "code",
   "execution_count": 32,
   "metadata": {},
   "outputs": [
    {
     "name": "stdout",
     "output_type": "stream",
     "text": [
      "Size of feature training data : (5400, 9)\n",
      "Size of feature testing data  : (1800, 9)\n",
      "Size of target training data : (5400,)\n",
      "Size of target testing data  : (1800,)\n"
     ]
    }
   ],
   "source": [
    "print('Size of feature training data :', X_train.shape)\n",
    "print('Size of feature testing data  :', X_test.shape)\n",
    "print('Size of target training data :', y_train.shape)\n",
    "print('Size of target testing data  :', y_test.shape)"
   ]
  },
  {
   "cell_type": "markdown",
   "metadata": {},
   "source": [
    "### **5.4 Handling Outliers**"
   ]
  },
  {
   "cell_type": "code",
   "execution_count": 33,
   "metadata": {},
   "outputs": [],
   "source": [
    "# This is the function to detect how many outliers in each column\n",
    "\n",
    "def detect_otl(data, column):\n",
    "    skewness = data[column].skew(axis = 0, skipna = True)\n",
    "    if skewness <= 0.5 and skewness >= -0.5:\n",
    "        upper_boundary = data[column].mean() + 1.5 * data[column].std()\n",
    "        lower_boundary = data[column].mean() - 1.5 * data[column].std()\n",
    "        print(f'[Gaussian] Skewness of {column} =', skewness)\n",
    "        print('% above upper boundary : {}'.format(len(data[data[column] > upper_boundary]) / len(data) * 100))\n",
    "        print('% below lower boundary : {}'.format(len(data[data[column] < lower_boundary]) / len(data) * 100))\n",
    "        print('-'*75)\n",
    "    else:\n",
    "        IQR = data[column].quantile(0.75) - data[column].quantile(0.25)\n",
    "        lower_boundary = data[column].quantile(0.25) - (IQR * 1.5)\n",
    "        upper_boundary = data[column].quantile(0.75) + (IQR * 1.5)\n",
    "        print(f'[Skewed] Skewness of {column} =', skewness)\n",
    "        print('% above upper boundary : {}'.format(len(data[data[column] > upper_boundary]) / len(data) * 100))\n",
    "        print('% below lower boundary : {}'.format(len(data[data[column] < lower_boundary]) / len(data) * 100))\n",
    "        print('-'*75)"
   ]
  },
  {
   "cell_type": "markdown",
   "metadata": {},
   "source": [
    "Since `body` and `acidity` are ordinal data, we will not handle their outliers."
   ]
  },
  {
   "cell_type": "code",
   "execution_count": 34,
   "metadata": {},
   "outputs": [
    {
     "name": "stdout",
     "output_type": "stream",
     "text": [
      "[Skewed] Skewness of rating = 2.4813884918907227\n",
      "% above upper boundary : 23.833333333333336\n",
      "% below lower boundary : 0.0\n",
      "---------------------------------------------------------------------------\n",
      "[Skewed] Skewness of num_reviews = 9.534345426000874\n",
      "% above upper boundary : 7.2407407407407405\n",
      "% below lower boundary : 17.833333333333336\n",
      "---------------------------------------------------------------------------\n"
     ]
    }
   ],
   "source": [
    "for i in ['rating', 'num_reviews']:\n",
    "    detect_otl(X_train, i)"
   ]
  },
  {
   "cell_type": "markdown",
   "metadata": {},
   "source": [
    "We will cap the outliers."
   ]
  },
  {
   "cell_type": "code",
   "execution_count": 35,
   "metadata": {},
   "outputs": [
    {
     "name": "stdout",
     "output_type": "stream",
     "text": [
      "X_train dataset - Before Capping\n",
      "              year       rating   num_reviews         body      acidity\n",
      "count  5400.000000  5400.000000   5400.000000  4520.000000  4520.000000\n",
      "mean   2013.483333     4.253981    453.263333     4.165044     2.945354\n",
      "std       7.052872     0.117212    632.469771     0.589214     0.246014\n",
      "min    1910.000000     4.200000     25.000000     2.000000     1.000000\n",
      "25%    2011.000000     4.200000    389.000000     4.000000     3.000000\n",
      "50%    2015.000000     4.200000    404.000000     4.000000     3.000000\n",
      "75%    2017.000000     4.200000    415.000000     5.000000     3.000000\n",
      "max    2021.000000     4.900000  16505.000000     5.000000     3.000000\n",
      "\n",
      "X_train dataset - After Capping\n",
      "              year        rating  num_reviews         body      acidity\n",
      "count  5400.000000  5.400000e+03  5400.000000  4520.000000  4520.000000\n",
      "mean   2013.483333  4.200000e+00   398.795741     4.165044     2.945354\n",
      "std       7.052872  4.183708e-13    27.919007     0.589214     0.246014\n",
      "min    1910.000000  4.200000e+00   350.000000     2.000000     1.000000\n",
      "25%    2011.000000  4.200000e+00   389.000000     4.000000     3.000000\n",
      "50%    2015.000000  4.200000e+00   404.000000     4.000000     3.000000\n",
      "75%    2017.000000  4.200000e+00   415.000000     5.000000     3.000000\n",
      "max    2021.000000  4.200000e+00   454.000000     5.000000     3.000000\n"
     ]
    }
   ],
   "source": [
    "winsorizer = Winsorizer(capping_method='iqr', \n",
    "                        tail='both',\n",
    "                        fold=1.5,\n",
    "                        variables=['rating', 'num_reviews'])\n",
    "\n",
    "X_train_capped = winsorizer.fit_transform(X_train)\n",
    "print('X_train dataset - Before Capping')\n",
    "print(X_train.describe())\n",
    "print('')\n",
    "print('X_train dataset - After Capping')\n",
    "print(X_train_capped.describe())"
   ]
  },
  {
   "cell_type": "markdown",
   "metadata": {},
   "source": [
    "### **5.5 Handling Missing Values**"
   ]
  },
  {
   "cell_type": "markdown",
   "metadata": {},
   "source": [
    "First, we will check number of missing values in X_train and X_test."
   ]
  },
  {
   "cell_type": "code",
   "execution_count": 36,
   "metadata": {},
   "outputs": [
    {
     "data": {
      "text/plain": [
       "year                0\n",
       "rating              0\n",
       "num_reviews         0\n",
       "body              880\n",
       "acidity           880\n",
       "type_reduced      404\n",
       "wine_reduced        0\n",
       "winery_reduced      0\n",
       "region_reduced      0\n",
       "dtype: int64"
      ]
     },
     "execution_count": 36,
     "metadata": {},
     "output_type": "execute_result"
    }
   ],
   "source": [
    "X_train_capped.isnull().sum()"
   ]
  },
  {
   "cell_type": "code",
   "execution_count": 37,
   "metadata": {},
   "outputs": [
    {
     "data": {
      "text/plain": [
       "year                0\n",
       "rating              0\n",
       "num_reviews         0\n",
       "body              257\n",
       "acidity           257\n",
       "type_reduced      131\n",
       "wine_reduced        0\n",
       "winery_reduced      0\n",
       "region_reduced      0\n",
       "dtype: int64"
      ]
     },
     "execution_count": 37,
     "metadata": {},
     "output_type": "execute_result"
    }
   ],
   "source": [
    "X_test.isnull().sum()"
   ]
  },
  {
   "cell_type": "markdown",
   "metadata": {},
   "source": [
    "Next, we will determine the type of the missing values, whether it is MAR (Missing At Random), MNAR (Missing Not At Random), or MCAR (Missing Completely At Random)."
   ]
  },
  {
   "cell_type": "code",
   "execution_count": 38,
   "metadata": {},
   "outputs": [
    {
     "data": {
      "text/html": [
       "<div>\n",
       "<style scoped>\n",
       "    .dataframe tbody tr th:only-of-type {\n",
       "        vertical-align: middle;\n",
       "    }\n",
       "\n",
       "    .dataframe tbody tr th {\n",
       "        vertical-align: top;\n",
       "    }\n",
       "\n",
       "    .dataframe thead th {\n",
       "        text-align: right;\n",
       "    }\n",
       "</style>\n",
       "<table border=\"1\" class=\"dataframe\">\n",
       "  <thead>\n",
       "    <tr style=\"text-align: right;\">\n",
       "      <th></th>\n",
       "      <th>year</th>\n",
       "      <th>rating</th>\n",
       "      <th>num_reviews</th>\n",
       "      <th>price</th>\n",
       "      <th>body</th>\n",
       "      <th>acidity</th>\n",
       "      <th>type_reduced</th>\n",
       "      <th>wine_reduced</th>\n",
       "      <th>winery_reduced</th>\n",
       "      <th>region_reduced</th>\n",
       "    </tr>\n",
       "  </thead>\n",
       "  <tbody>\n",
       "    <tr>\n",
       "      <th>7142</th>\n",
       "      <td>2020</td>\n",
       "      <td>4.2</td>\n",
       "      <td>404</td>\n",
       "      <td>19.90</td>\n",
       "      <td>NaN</td>\n",
       "      <td>NaN</td>\n",
       "      <td>NaN</td>\n",
       "      <td>Nounat</td>\n",
       "      <td>Binigrau</td>\n",
       "      <td>Mallorca</td>\n",
       "    </tr>\n",
       "    <tr>\n",
       "      <th>7164</th>\n",
       "      <td>2020</td>\n",
       "      <td>4.2</td>\n",
       "      <td>407</td>\n",
       "      <td>11.95</td>\n",
       "      <td>NaN</td>\n",
       "      <td>NaN</td>\n",
       "      <td>NaN</td>\n",
       "      <td>Treixadura</td>\n",
       "      <td>Ramon do Casar</td>\n",
       "      <td>Other</td>\n",
       "    </tr>\n",
       "    <tr>\n",
       "      <th>7166</th>\n",
       "      <td>2020</td>\n",
       "      <td>4.2</td>\n",
       "      <td>404</td>\n",
       "      <td>19.90</td>\n",
       "      <td>NaN</td>\n",
       "      <td>NaN</td>\n",
       "      <td>NaN</td>\n",
       "      <td>Nounat</td>\n",
       "      <td>Binigrau</td>\n",
       "      <td>Mallorca</td>\n",
       "    </tr>\n",
       "    <tr>\n",
       "      <th>7188</th>\n",
       "      <td>2020</td>\n",
       "      <td>4.2</td>\n",
       "      <td>407</td>\n",
       "      <td>11.95</td>\n",
       "      <td>NaN</td>\n",
       "      <td>NaN</td>\n",
       "      <td>NaN</td>\n",
       "      <td>Treixadura</td>\n",
       "      <td>Ramon do Casar</td>\n",
       "      <td>Other</td>\n",
       "    </tr>\n",
       "    <tr>\n",
       "      <th>7190</th>\n",
       "      <td>2020</td>\n",
       "      <td>4.2</td>\n",
       "      <td>404</td>\n",
       "      <td>19.90</td>\n",
       "      <td>NaN</td>\n",
       "      <td>NaN</td>\n",
       "      <td>NaN</td>\n",
       "      <td>Nounat</td>\n",
       "      <td>Binigrau</td>\n",
       "      <td>Mallorca</td>\n",
       "    </tr>\n",
       "  </tbody>\n",
       "</table>\n",
       "</div>"
      ],
      "text/plain": [
       "      year  rating  num_reviews  price  body  acidity type_reduced  \\\n",
       "7142  2020     4.2          404  19.90   NaN      NaN          NaN   \n",
       "7164  2020     4.2          407  11.95   NaN      NaN          NaN   \n",
       "7166  2020     4.2          404  19.90   NaN      NaN          NaN   \n",
       "7188  2020     4.2          407  11.95   NaN      NaN          NaN   \n",
       "7190  2020     4.2          404  19.90   NaN      NaN          NaN   \n",
       "\n",
       "     wine_reduced  winery_reduced region_reduced  \n",
       "7142       Nounat        Binigrau       Mallorca  \n",
       "7164   Treixadura  Ramon do Casar          Other  \n",
       "7166       Nounat        Binigrau       Mallorca  \n",
       "7188   Treixadura  Ramon do Casar          Other  \n",
       "7190       Nounat        Binigrau       Mallorca  "
      ]
     },
     "execution_count": 38,
     "metadata": {},
     "output_type": "execute_result"
    }
   ],
   "source": [
    "data.loc[data.isna().any(axis=1)].tail()"
   ]
  },
  {
   "cell_type": "markdown",
   "metadata": {},
   "source": [
    "Based on the data above, `type`, `body`, and `acidity` are categorized as **MNAR**, because when the type is unknown it is not possible to know the richness and weight of the wine (body) and the acidity. Since `type`, `body`, and `acidity` are ordinal variables, we will impute them with their respective **modes**."
   ]
  },
  {
   "cell_type": "code",
   "execution_count": 39,
   "metadata": {},
   "outputs": [],
   "source": [
    "mode_imputer = CategoricalImputer(imputation_method='frequent',\n",
    "                                  variables=['type_reduced', 'body', 'acidity'],\n",
    "                                  ignore_format=True)\n",
    "\n",
    "X_train_ipt = mode_imputer.fit_transform(X_train)\n",
    "X_test_ipt = mode_imputer.transform(X_test)"
   ]
  },
  {
   "cell_type": "code",
   "execution_count": 41,
   "metadata": {},
   "outputs": [
    {
     "data": {
      "text/plain": [
       "year              0\n",
       "rating            0\n",
       "num_reviews       0\n",
       "body              0\n",
       "acidity           0\n",
       "type_reduced      0\n",
       "wine_reduced      0\n",
       "winery_reduced    0\n",
       "region_reduced    0\n",
       "dtype: int64"
      ]
     },
     "execution_count": 41,
     "metadata": {},
     "output_type": "execute_result"
    }
   ],
   "source": [
    "X_train_ipt.isnull().sum()"
   ]
  },
  {
   "cell_type": "code",
   "execution_count": 42,
   "metadata": {},
   "outputs": [
    {
     "data": {
      "text/plain": [
       "year              0\n",
       "rating            0\n",
       "num_reviews       0\n",
       "body              0\n",
       "acidity           0\n",
       "type_reduced      0\n",
       "wine_reduced      0\n",
       "winery_reduced    0\n",
       "region_reduced    0\n",
       "dtype: int64"
      ]
     },
     "execution_count": 42,
     "metadata": {},
     "output_type": "execute_result"
    }
   ],
   "source": [
    "X_test_ipt.isnull().sum()"
   ]
  },
  {
   "cell_type": "markdown",
   "metadata": {
    "id": "wVqEmneUxcA9"
   },
   "source": [
    "Then we will equalize the length of X_train_ipt and y_train according to their matching indices."
   ]
  },
  {
   "cell_type": "code",
   "execution_count": 43,
   "metadata": {
    "id": "_ZSBjdB2xcA9"
   },
   "outputs": [],
   "source": [
    "y_train_new = y_train[X_train_ipt.index]\n",
    "y_test_new = y_test[X_test_ipt.index]"
   ]
  },
  {
   "cell_type": "code",
   "execution_count": 44,
   "metadata": {
    "colab": {
     "base_uri": "https://localhost:8080/"
    },
    "id": "YRe6lqwqxcA9",
    "outputId": "c855e46f-0f54-4117-aded-89c9068e5ac4"
   },
   "outputs": [
    {
     "name": "stdout",
     "output_type": "stream",
     "text": [
      "(5400, 9)\n",
      "(5400,)\n",
      "(1800, 9)\n",
      "(1800,)\n"
     ]
    }
   ],
   "source": [
    "print(X_train_ipt.shape)\n",
    "print(y_train_new.shape)\n",
    "print(X_test_ipt.shape)\n",
    "print(y_test_new.shape)"
   ]
  },
  {
   "cell_type": "markdown",
   "metadata": {},
   "source": [
    "### **5.6 Feature Selection**"
   ]
  },
  {
   "cell_type": "code",
   "execution_count": 45,
   "metadata": {},
   "outputs": [],
   "source": [
    "y_train_df = pd.DataFrame(y_train_new, columns=['price'])"
   ]
  },
  {
   "cell_type": "code",
   "execution_count": 46,
   "metadata": {},
   "outputs": [
    {
     "data": {
      "text/plain": [
       "(5400, 10)"
      ]
     },
     "execution_count": 46,
     "metadata": {},
     "output_type": "execute_result"
    }
   ],
   "source": [
    "feature_selection = X_train_ipt.copy()\n",
    "feature_selection['price'] = y_train_df['price']\n",
    "feature_selection.shape"
   ]
  },
  {
   "cell_type": "code",
   "execution_count": 47,
   "metadata": {},
   "outputs": [
    {
     "data": {
      "image/png": "[encoded data removed]",
      "text/plain": [
       "<Figure size 720x360 with 2 Axes>"
      ]
     },
     "metadata": {
      "needs_background": "light"
     },
     "output_type": "display_data"
    }
   ],
   "source": [
    "plt.figure(figsize=(10,5))\n",
    "sns.heatmap(feature_selection.corr(),annot=True, mask=np.triu(feature_selection.corr()), cmap='Blues')\n",
    "plt.title('Pearson Correlation', fontsize=16)\n",
    "plt.show()"
   ]
  },
  {
   "cell_type": "markdown",
   "metadata": {},
   "source": [
    "We will choose `year`, `rating`, and `body`."
   ]
  },
  {
   "cell_type": "code",
   "execution_count": 144,
   "metadata": {},
   "outputs": [],
   "source": [
    "X_train_drop = X_train_ipt.drop(['num_reviews', 'acidity'], axis=1)\n",
    "X_test_drop = X_test_ipt.drop(['num_reviews', 'acidity'], axis=1)\n",
    "\n",
    "# X_train_drop = X_train_ipt.copy()\n",
    "# X_test_drop = X_test_ipt.copy()"
   ]
  },
  {
   "cell_type": "code",
   "execution_count": 145,
   "metadata": {},
   "outputs": [
    {
     "data": {
      "text/plain": [
       "year              0\n",
       "rating            0\n",
       "body              0\n",
       "type_reduced      0\n",
       "wine_reduced      0\n",
       "winery_reduced    0\n",
       "region_reduced    0\n",
       "dtype: int64"
      ]
     },
     "execution_count": 145,
     "metadata": {},
     "output_type": "execute_result"
    }
   ],
   "source": [
    "X_train_drop.isnull().sum()"
   ]
  },
  {
   "cell_type": "markdown",
   "metadata": {},
   "source": [
    "### **5.7 Feature Scaling and Encoding**"
   ]
  },
  {
   "cell_type": "markdown",
   "metadata": {},
   "source": [
    "#### **5.7.1 Splitting Numerical and Categorical Columns**"
   ]
  },
  {
   "cell_type": "code",
   "execution_count": 146,
   "metadata": {},
   "outputs": [
    {
     "name": "stdout",
     "output_type": "stream",
     "text": [
      "Numerical Columns   : ['year', 'rating', 'body']\n",
      "Categorical Columns : ['type_reduced', 'wine_reduced', 'winery_reduced', 'region_reduced']\n"
     ]
    }
   ],
   "source": [
    "num_columns  = X_train_drop.select_dtypes(include=np.number).columns.tolist()\n",
    "cat_columns  = X_train_drop.select_dtypes(include=['object','category']).columns.tolist()\n",
    "\n",
    "X_train_num = X_train_drop[num_columns]\n",
    "X_train_cat = X_train_drop[cat_columns]\n",
    "\n",
    "X_test_num = X_test_drop[num_columns]\n",
    "X_test_cat = X_test_drop[cat_columns]\n",
    "\n",
    "print('Numerical Columns   :', num_columns)\n",
    "print('Categorical Columns :', cat_columns)"
   ]
  },
  {
   "cell_type": "markdown",
   "metadata": {},
   "source": [
    "#### **5.7.2 Feature Scaling**"
   ]
  },
  {
   "cell_type": "markdown",
   "metadata": {},
   "source": [
    "We will exclude `body` and `acidity` from feature scaling because both are ordinal data."
   ]
  },
  {
   "cell_type": "code",
   "execution_count": 148,
   "metadata": {},
   "outputs": [],
   "source": [
    "Xtrain_for_scaling = X_train_num.drop(['body'], axis=1)\n",
    "Xtest_for_scaling = X_test_num.drop(['body'], axis=1)\n",
    "\n",
    "# Xtrain_for_scaling = X_train_num.copy()\n",
    "# Xtest_for_scaling = X_test_num.copy()"
   ]
  },
  {
   "cell_type": "code",
   "execution_count": 149,
   "metadata": {},
   "outputs": [],
   "source": [
    "scaler = StandardScaler()\n",
    "\n",
    "X_train_scaled_1 = scaler.fit_transform(Xtrain_for_scaling)\n",
    "X_test_scaled_1 = scaler.transform(Xtest_for_scaling)\n",
    "\n",
    "# X_train_scaled = scaler.fit_transform(Xtrain_for_scaling)\n",
    "# X_test_scaled = scaler.fit_transform(Xtest_for_scaling)"
   ]
  },
  {
   "cell_type": "code",
   "execution_count": 151,
   "metadata": {},
   "outputs": [],
   "source": [
    "X_train_scaled_df = pd.DataFrame(X_train_scaled_1, columns=Xtrain_for_scaling.columns)\n",
    "X_train_scaled_df[['body']] = X_train_drop[['body']].reset_index(drop=True)"
   ]
  },
  {
   "cell_type": "code",
   "execution_count": 153,
   "metadata": {},
   "outputs": [],
   "source": [
    "X_test_scaled_df = pd.DataFrame(X_test_scaled_1, columns=Xtest_for_scaling.columns)\n",
    "X_test_scaled_df[['body']] = X_test_drop[['body']].reset_index(drop=True)"
   ]
  },
  {
   "cell_type": "code",
   "execution_count": 154,
   "metadata": {},
   "outputs": [],
   "source": [
    "X_train_scaled = X_train_scaled_df.to_numpy()\n",
    "X_test_scaled = X_test_scaled_df.to_numpy()"
   ]
  },
  {
   "cell_type": "markdown",
   "metadata": {},
   "source": [
    "#### **5.7.3 Feature Encoding**"
   ]
  },
  {
   "cell_type": "code",
   "execution_count": 155,
   "metadata": {},
   "outputs": [],
   "source": [
    "encoder = OneHotEncoder()\n",
    "\n",
    "X_train_enc = encoder.fit_transform(X_train_cat).toarray()\n",
    "X_test_enc = encoder.transform(X_test_cat).toarray()"
   ]
  },
  {
   "cell_type": "markdown",
   "metadata": {},
   "source": [
    "#### **5.7.4 Concat MinMax Scaled and Encoded Data**"
   ]
  },
  {
   "cell_type": "code",
   "execution_count": 156,
   "metadata": {},
   "outputs": [
    {
     "name": "stdout",
     "output_type": "stream",
     "text": [
      "(5400, 92)\n",
      "(1800, 92)\n"
     ]
    }
   ],
   "source": [
    "X_train_final = np.concatenate([X_train_scaled, X_train_enc], axis = 1)\n",
    "X_test_final = np.concatenate([X_test_scaled, X_test_enc], axis = 1)\n",
    "print(X_train_final.shape)\n",
    "print(X_test_final.shape)"
   ]
  },
  {
   "cell_type": "code",
   "execution_count": 157,
   "metadata": {},
   "outputs": [],
   "source": [
    "y_train_new.reset_index(drop=True, inplace=True)\n",
    "y_test_new.reset_index(drop=True, inplace=True)"
   ]
  },
  {
   "cell_type": "markdown",
   "metadata": {},
   "source": [
    "## **6. Model Definition**"
   ]
  },
  {
   "cell_type": "code",
   "execution_count": 158,
   "metadata": {},
   "outputs": [],
   "source": [
    "linreg = LinearRegression()\n",
    "knreg = KNeighborsRegressor()\n",
    "dtreg = DecisionTreeRegressor(random_state=77)\n",
    "rfreg = RandomForestRegressor(random_state=77)\n",
    "gbreg = GradientBoostingRegressor(random_state=77)\n",
    "xgboost = XGBRegressor(random_state=77)\n",
    "ridge = Ridge()\n",
    "lasso = Lasso()\n",
    "elastic = ElasticNet()"
   ]
  },
  {
   "cell_type": "markdown",
   "metadata": {},
   "source": [
    "## **7. Model Training**"
   ]
  },
  {
   "cell_type": "markdown",
   "metadata": {},
   "source": [
    "Baseline Models"
   ]
  },
  {
   "cell_type": "code",
   "execution_count": 159,
   "metadata": {},
   "outputs": [
    {
     "data": {
      "text/plain": [
       "ElasticNet()"
      ]
     },
     "execution_count": 159,
     "metadata": {},
     "output_type": "execute_result"
    }
   ],
   "source": [
    "linreg.fit(X_train_final, y_train_new)\n",
    "knreg.fit(X_train_final, y_train_new)\n",
    "dtreg.fit(X_train_final, y_train_new)\n",
    "rfreg.fit(X_train_final, y_train_new)\n",
    "gbreg.fit(X_train_final, y_train_new)\n",
    "xgboost.fit(X_train_final, y_train_new)\n",
    "ridge.fit(X_train_final, y_train_new)\n",
    "lasso.fit(X_train_final, y_train_new)"
   ]
  },
  {
   "cell_type": "markdown",
   "metadata": {},
   "source": [
    "## **8. Model Evaluation**"
   ]
  },
  {
   "cell_type": "markdown",
   "metadata": {},
   "source": [
    "### **8.1 Linear Regression**"
   ]
  },
  {
   "cell_type": "code",
   "execution_count": 160,
   "metadata": {},
   "outputs": [
    {
     "name": "stdout",
     "output_type": "stream",
     "text": [
      "r2   : 0.7955010832981231\n",
      "MAE  : 19.38825725065579\n",
      "MSE  : 3793.4417724737596\n",
      "==================================================\n",
      "Train score  : 0.7017101854228135\n",
      "Test score   : 0.7955010832981231\n"
     ]
    }
   ],
   "source": [
    "y_pred_test_lin = linreg.predict(X_test_final)\n",
    "\n",
    "print('r2   :', r2_score(y_test_new, y_pred_test_lin))\n",
    "print('MAE  :', mean_absolute_error(y_test_new, y_pred_test_lin))\n",
    "print('MSE  :', mean_squared_error(y_test_new, y_pred_test_lin))\n",
    "print('='*50)\n",
    "print('Train score  :', linreg.score(X_train_final, y_train_new))\n",
    "print('Test score   :', linreg.score(X_test_final, y_test_new))"
   ]
  },
  {
   "cell_type": "markdown",
   "metadata": {},
   "source": [
    "### **8.2 KNeighbors Regressor**"
   ]
  },
  {
   "cell_type": "code",
   "execution_count": 161,
   "metadata": {},
   "outputs": [
    {
     "name": "stdout",
     "output_type": "stream",
     "text": [
      "r2   : 0.8414729919957311\n",
      "MAE  : 14.10044304016656\n",
      "MSE  : 2940.665818319987\n",
      "==================================================\n",
      "Train score  : 0.8068212458917894\n",
      "Test score   : 0.8414729919957311\n"
     ]
    }
   ],
   "source": [
    "y_pred_test_kn = knreg.predict(X_test_final)\n",
    "\n",
    "print('r2   :', r2_score(y_test_new, y_pred_test_kn))\n",
    "print('MAE  :', mean_absolute_error(y_test_new, y_pred_test_kn))\n",
    "print('MSE  :', mean_squared_error(y_test_new, y_pred_test_kn))\n",
    "print('='*50)\n",
    "print('Train score  :', knreg.score(X_train_final, y_train_new))\n",
    "print('Test score   :', knreg.score(X_test_final, y_test_new))"
   ]
  },
  {
   "cell_type": "markdown",
   "metadata": {},
   "source": [
    "### **8.3 Decision Tree Regressor**"
   ]
  },
  {
   "cell_type": "code",
   "execution_count": 162,
   "metadata": {},
   "outputs": [
    {
     "name": "stdout",
     "output_type": "stream",
     "text": [
      "r2   : 0.7031942745241979\n",
      "MAE  : 17.451686097104158\n",
      "MSE  : 5505.727147546072\n",
      "==================================================\n",
      "Train score  : 0.9941591423946543\n",
      "Test score   : 0.7031942745241979\n"
     ]
    }
   ],
   "source": [
    "y_pred_test_dt = dtreg.predict(X_test_final)\n",
    "\n",
    "print('r2   :', r2_score(y_test_new, y_pred_test_dt))\n",
    "print('MAE  :', mean_absolute_error(y_test_new, y_pred_test_dt))\n",
    "print('MSE  :', mean_squared_error(y_test_new, y_pred_test_dt))\n",
    "print('='*50)\n",
    "print('Train score  :', dtreg.score(X_train_final, y_train_new))\n",
    "print('Test score   :', dtreg.score(X_test_final, y_test_new))"
   ]
  },
  {
   "cell_type": "markdown",
   "metadata": {},
   "source": [
    "### **8.4 Gradient Boosting Regressor**"
   ]
  },
  {
   "cell_type": "code",
   "execution_count": 163,
   "metadata": {},
   "outputs": [
    {
     "name": "stdout",
     "output_type": "stream",
     "text": [
      "r2: 0.7803189564694247\n",
      "MAE: 20.0732047136719\n",
      "MSE 4075.069250192571\n",
      "==================================================\n",
      "Train score: 0.8880447691197184\n",
      "Test score: 0.7803189564694247\n"
     ]
    }
   ],
   "source": [
    "y_pred_test_gb = gbreg.predict(X_test_final)\n",
    "\n",
    "print('r2:', r2_score(y_test_new, y_pred_test_gb))\n",
    "print('MAE:', mean_absolute_error(y_test_new, y_pred_test_gb))\n",
    "print('MSE', mean_squared_error(y_test_new, y_pred_test_gb))\n",
    "print('='*50)\n",
    "print('Train score:', gbreg.score(X_train_final, y_train_new))\n",
    "print('Test score:', gbreg.score(X_test_final, y_test_new))"
   ]
  },
  {
   "cell_type": "markdown",
   "metadata": {},
   "source": [
    "### **8.5 XGBoost Regressor**"
   ]
  },
  {
   "cell_type": "code",
   "execution_count": 164,
   "metadata": {},
   "outputs": [
    {
     "name": "stdout",
     "output_type": "stream",
     "text": [
      "r2: 0.7438370704863326\n",
      "MAE: 16.33784726491123\n",
      "MSE 4751.805892414678\n",
      "==================================================\n",
      "Train score: 0.9865025464723032\n",
      "Test score: 0.7438370704863326\n"
     ]
    }
   ],
   "source": [
    "y_pred_test_xgb = xgboost.predict(X_test_final)\n",
    "\n",
    "print('r2:', r2_score(y_test_new, y_pred_test_xgb))\n",
    "print('MAE:', mean_absolute_error(y_test_new, y_pred_test_xgb))\n",
    "print('MSE', mean_squared_error(y_test_new, y_pred_test_xgb))\n",
    "print('='*50)\n",
    "print('Train score:', xgboost.score(X_train_final, y_train_new))\n",
    "print('Test score:', xgboost.score(X_test_final, y_test_new))"
   ]
  },
  {
   "cell_type": "markdown",
   "metadata": {},
   "source": [
    "### 8.7 Ridge Regression"
   ]
  },
  {
   "cell_type": "code",
   "execution_count": 165,
   "metadata": {},
   "outputs": [
    {
     "name": "stdout",
     "output_type": "stream",
     "text": [
      "r2: 0.7952218388348687\n",
      "MAE: 19.39262805990524\n",
      "MSE 3798.6217393348315\n",
      "==================================================\n",
      "Train score: 0.6993290264748879\n",
      "Test score: 0.7952218388348687\n"
     ]
    }
   ],
   "source": [
    "y_pred_test_ridge = ridge.predict(X_test_final)\n",
    "\n",
    "print('r2:', r2_score(y_test_new, y_pred_test_ridge))\n",
    "print('MAE:', mean_absolute_error(y_test_new, y_pred_test_ridge))\n",
    "print('MSE', mean_squared_error(y_test_new, y_pred_test_ridge))\n",
    "print('='*50)\n",
    "print('Train score:', ridge.score(X_train_final, y_train_new))\n",
    "print('Test score:', ridge.score(X_test_final, y_test_new))"
   ]
  },
  {
   "cell_type": "markdown",
   "metadata": {},
   "source": [
    "### 8.8 Lasso Regression"
   ]
  },
  {
   "cell_type": "code",
   "execution_count": 166,
   "metadata": {},
   "outputs": [
    {
     "name": "stdout",
     "output_type": "stream",
     "text": [
      "r2: 0.6698569801676855\n",
      "MAE: 32.5217525568015\n",
      "MSE 6124.131817031968\n",
      "==================================================\n",
      "Train score: 0.6038934225522123\n",
      "Test score: 0.6698569801676855\n"
     ]
    }
   ],
   "source": [
    "y_pred_test_lasso = lasso.predict(X_test_final)\n",
    "\n",
    "print('r2:', r2_score(y_test_new, y_pred_test_lasso))\n",
    "print('MAE:', mean_absolute_error(y_test_new, y_pred_test_lasso))\n",
    "print('MSE', mean_squared_error(y_test_new, y_pred_test_lasso))\n",
    "print('='*50)\n",
    "print('Train score:', lasso.score(X_train_final, y_train_new))\n",
    "print('Test score:', lasso.score(X_test_final, y_test_new))"
   ]
  },
  {
   "cell_type": "markdown",
   "metadata": {},
   "source": [
    "### 8.9 Elastic Net"
   ]
  },
  {
   "cell_type": "code",
   "execution_count": 167,
   "metadata": {},
   "outputs": [
    {
     "name": "stdout",
     "output_type": "stream",
     "text": [
      "r2: 0.4130556405661633\n",
      "MAE: 34.54487537714207\n",
      "MSE 10887.78017557945\n",
      "==================================================\n",
      "Train score: 0.3481548805051552\n",
      "Test score: 0.4130556405661633\n"
     ]
    }
   ],
   "source": [
    "y_pred_test_elastic = elastic.predict(X_test_final)\n",
    "\n",
    "print('r2:', r2_score(y_test_new, y_pred_test_elastic))\n",
    "print('MAE:', mean_absolute_error(y_test_new, y_pred_test_elastic))\n",
    "print('MSE', mean_squared_error(y_test_new, y_pred_test_elastic))\n",
    "print('='*50)\n",
    "print('Train score:', elastic.score(X_train_final, y_train_new))\n",
    "print('Test score:', elastic.score(X_test_final, y_test_new))"
   ]
  },
  {
   "cell_type": "markdown",
   "metadata": {},
   "source": [
    "## Hyperparameter Tuning KN regressor"
   ]
  },
  {
   "cell_type": "code",
   "execution_count": 168,
   "metadata": {},
   "outputs": [
    {
     "data": {
      "text/plain": [
       "[{'n_neighbors': [5,\n",
       "   6,\n",
       "   8,\n",
       "   10,\n",
       "   12,\n",
       "   14,\n",
       "   16,\n",
       "   18,\n",
       "   20,\n",
       "   21,\n",
       "   23,\n",
       "   25,\n",
       "   27,\n",
       "   29,\n",
       "   31,\n",
       "   33,\n",
       "   35,\n",
       "   36,\n",
       "   38,\n",
       "   40,\n",
       "   42,\n",
       "   44,\n",
       "   46,\n",
       "   48,\n",
       "   50],\n",
       "  'leaf_size': [15,\n",
       "   16,\n",
       "   17,\n",
       "   19,\n",
       "   20,\n",
       "   22,\n",
       "   23,\n",
       "   25,\n",
       "   26,\n",
       "   28,\n",
       "   29,\n",
       "   31,\n",
       "   32,\n",
       "   33,\n",
       "   35,\n",
       "   36,\n",
       "   38,\n",
       "   39,\n",
       "   41,\n",
       "   42,\n",
       "   44,\n",
       "   45,\n",
       "   47,\n",
       "   48,\n",
       "   50],\n",
       "  'weights': ['uniform', 'distance'],\n",
       "  'algorithm': ['auto', 'ball_tree', 'kd_tree', 'brute'],\n",
       "  'metric': ['euclidean', 'manhattan', 'chebyshev', 'minkowski']}]"
      ]
     },
     "execution_count": 168,
     "metadata": {},
     "output_type": "execute_result"
    }
   ],
   "source": [
    "random_grid_kn = [{'n_neighbors' : [int(x) for x in np.linspace(5, 50, 25)],\n",
    "                   'leaf_size' : [int(x) for x in np.linspace(15, 50, 25)],\n",
    "                   'weights' : ['uniform', 'distance'], \n",
    "                   'algorithm' : ['auto', 'ball_tree', 'kd_tree', 'brute'],\n",
    "                   'metric' : ['euclidean', 'manhattan', 'chebyshev','minkowski']\n",
    "                  }]  \n",
    "                  \n",
    "random_grid_kn"
   ]
  },
  {
   "cell_type": "code",
   "execution_count": 169,
   "metadata": {},
   "outputs": [
    {
     "data": {
      "text/plain": [
       "RandomizedSearchCV(cv=5, estimator=KNeighborsRegressor(), n_iter=50, n_jobs=-1,\n",
       "                   param_distributions=[{'algorithm': ['auto', 'ball_tree',\n",
       "                                                       'kd_tree', 'brute'],\n",
       "                                         'leaf_size': [15, 16, 17, 19, 20, 22,\n",
       "                                                       23, 25, 26, 28, 29, 31,\n",
       "                                                       32, 33, 35, 36, 38, 39,\n",
       "                                                       41, 42, 44, 45, 47, 48,\n",
       "                                                       50],\n",
       "                                         'metric': ['euclidean', 'manhattan',\n",
       "                                                    'chebyshev', 'minkowski'],\n",
       "                                         'n_neighbors': [5, 6, 8, 10, 12, 14,\n",
       "                                                         16, 18, 20, 21, 23, 25,\n",
       "                                                         27, 29, 31, 33, 35, 36,\n",
       "                                                         38, 40, 42, 44, 46, 48,\n",
       "                                                         50],\n",
       "                                         'weights': ['uniform', 'distance']}],\n",
       "                   random_state=77)"
      ]
     },
     "execution_count": 169,
     "metadata": {},
     "output_type": "execute_result"
    }
   ],
   "source": [
    "kn_randomcv = RandomizedSearchCV(estimator=knreg,\n",
    "                                 param_distributions=random_grid_kn,\n",
    "                                 n_iter=50,\n",
    "                                 cv=5,\n",
    "                                 n_jobs=-1,\n",
    "                                 random_state=77)\n",
    "\n",
    "kn_randomcv.fit(X_train_final, y_train_new)"
   ]
  },
  {
   "cell_type": "code",
   "execution_count": 170,
   "metadata": {},
   "outputs": [
    {
     "data": {
      "text/plain": [
       "{'weights': 'uniform',\n",
       " 'n_neighbors': 5,\n",
       " 'metric': 'manhattan',\n",
       " 'leaf_size': 16,\n",
       " 'algorithm': 'kd_tree'}"
      ]
     },
     "execution_count": 170,
     "metadata": {},
     "output_type": "execute_result"
    }
   ],
   "source": [
    "kn_randomcv.best_params_"
   ]
  },
  {
   "cell_type": "code",
   "execution_count": 171,
   "metadata": {},
   "outputs": [],
   "source": [
    "kn_randomcv_best = kn_randomcv.best_estimator_"
   ]
  },
  {
   "cell_type": "code",
   "execution_count": 172,
   "metadata": {},
   "outputs": [
    {
     "name": "stdout",
     "output_type": "stream",
     "text": [
      "r2   : 0.851130394264682\n",
      "MAE  : 14.046188117511528\n",
      "MSE  : 2761.521626402197\n",
      "==================================================\n",
      "Train score  : 0.8239594210908409\n",
      "Test score   : 0.851130394264682\n"
     ]
    }
   ],
   "source": [
    "y_pred_test_kn_1 = kn_randomcv_best.predict(X_test_final)\n",
    "\n",
    "print('r2   :', r2_score(y_test_new, y_pred_test_kn_1))\n",
    "print('MAE  :', mean_absolute_error(y_test_new, y_pred_test_kn_1))\n",
    "print('MSE  :', mean_squared_error(y_test_new, y_pred_test_kn_1))\n",
    "print('='*50)\n",
    "print('Train score  :', kn_randomcv_best.score(X_train_final, y_train_new))\n",
    "print('Test score   :', kn_randomcv_best.score(X_test_final, y_test_new))"
   ]
  },
  {
   "cell_type": "markdown",
   "metadata": {},
   "source": [
    "## PIPELINE"
   ]
  },
  {
   "cell_type": "code",
   "execution_count": 190,
   "metadata": {},
   "outputs": [
    {
     "data": {
      "text/plain": [
       "['year', 'rating', 'body']"
      ]
     },
     "execution_count": 190,
     "metadata": {},
     "output_type": "execute_result"
    }
   ],
   "source": [
    "num_columns"
   ]
  },
  {
   "cell_type": "code",
   "execution_count": 191,
   "metadata": {},
   "outputs": [
    {
     "data": {
      "text/plain": [
       "['type_reduced', 'wine_reduced', 'winery_reduced', 'region_reduced']"
      ]
     },
     "execution_count": 191,
     "metadata": {},
     "output_type": "execute_result"
    }
   ],
   "source": [
    "cat_columns"
   ]
  },
  {
   "cell_type": "code",
   "execution_count": 187,
   "metadata": {},
   "outputs": [],
   "source": [
    "num_pipeline = make_pipeline(StandardScaler())"
   ]
  },
  {
   "cell_type": "code",
   "execution_count": 188,
   "metadata": {},
   "outputs": [],
   "source": [
    "cat_pipeline = make_pipeline(OneHotEncoder())"
   ]
  },
  {
   "cell_type": "code",
   "execution_count": 229,
   "metadata": {},
   "outputs": [],
   "source": [
    "data_pipeline = ColumnTransformer([\n",
    "    ('pipe_num', num_pipeline, num_columns),\n",
    "    ('pipe_cat', cat_pipeline, cat_columns)])"
   ]
  },
  {
   "cell_type": "code",
   "execution_count": 230,
   "metadata": {},
   "outputs": [],
   "source": [
    "final_pipeline = make_pipeline(data_pipeline, KNeighborsRegressor(algorithm= 'kd_tree',\n",
    "                                                                  metric= 'manhattan',\n",
    "                                                                  n_neighbors= 5,\n",
    "                                                                  leaf_size= 16,\n",
    "                                                                  weights= 'uniform'))"
   ]
  },
  {
   "cell_type": "code",
   "execution_count": 225,
   "metadata": {},
   "outputs": [
    {
     "data": {
      "text/html": [
       "<div>\n",
       "<style scoped>\n",
       "    .dataframe tbody tr th:only-of-type {\n",
       "        vertical-align: middle;\n",
       "    }\n",
       "\n",
       "    .dataframe tbody tr th {\n",
       "        vertical-align: top;\n",
       "    }\n",
       "\n",
       "    .dataframe thead th {\n",
       "        text-align: right;\n",
       "    }\n",
       "</style>\n",
       "<table border=\"1\" class=\"dataframe\">\n",
       "  <thead>\n",
       "    <tr style=\"text-align: right;\">\n",
       "      <th></th>\n",
       "      <th>year</th>\n",
       "      <th>rating</th>\n",
       "      <th>body</th>\n",
       "      <th>type_reduced</th>\n",
       "      <th>wine_reduced</th>\n",
       "      <th>winery_reduced</th>\n",
       "      <th>region_reduced</th>\n",
       "    </tr>\n",
       "  </thead>\n",
       "  <tbody>\n",
       "    <tr>\n",
       "      <th>4387</th>\n",
       "      <td>2019</td>\n",
       "      <td>4.2</td>\n",
       "      <td>5.0</td>\n",
       "      <td>Other</td>\n",
       "      <td>El Viejo</td>\n",
       "      <td>Matsu</td>\n",
       "      <td>Toro</td>\n",
       "    </tr>\n",
       "    <tr>\n",
       "      <th>6217</th>\n",
       "      <td>2016</td>\n",
       "      <td>4.2</td>\n",
       "      <td>5.0</td>\n",
       "      <td>Ribera Del Duero Red</td>\n",
       "      <td>Preludio</td>\n",
       "      <td>Sei Solo</td>\n",
       "      <td>Ribera del Duero</td>\n",
       "    </tr>\n",
       "    <tr>\n",
       "      <th>1916</th>\n",
       "      <td>2009</td>\n",
       "      <td>4.2</td>\n",
       "      <td>5.0</td>\n",
       "      <td>Ribera Del Duero Red</td>\n",
       "      <td>Reserva</td>\n",
       "      <td>Other</td>\n",
       "      <td>Ribera del Duero</td>\n",
       "    </tr>\n",
       "    <tr>\n",
       "      <th>6098</th>\n",
       "      <td>2017</td>\n",
       "      <td>4.2</td>\n",
       "      <td>3.0</td>\n",
       "      <td>Other</td>\n",
       "      <td>Rioja Blanco</td>\n",
       "      <td>Remirez de Ganuza</td>\n",
       "      <td>Rioja</td>\n",
       "    </tr>\n",
       "    <tr>\n",
       "      <th>2298</th>\n",
       "      <td>2020</td>\n",
       "      <td>4.2</td>\n",
       "      <td>4.0</td>\n",
       "      <td>Rioja Red</td>\n",
       "      <td>Treixadura</td>\n",
       "      <td>Ramon do Casar</td>\n",
       "      <td>Other</td>\n",
       "    </tr>\n",
       "  </tbody>\n",
       "</table>\n",
       "</div>"
      ],
      "text/plain": [
       "      year  rating  body          type_reduced  wine_reduced  \\\n",
       "4387  2019     4.2   5.0                 Other      El Viejo   \n",
       "6217  2016     4.2   5.0  Ribera Del Duero Red      Preludio   \n",
       "1916  2009     4.2   5.0  Ribera Del Duero Red       Reserva   \n",
       "6098  2017     4.2   3.0                 Other  Rioja Blanco   \n",
       "2298  2020     4.2   4.0             Rioja Red    Treixadura   \n",
       "\n",
       "         winery_reduced    region_reduced  \n",
       "4387              Matsu              Toro  \n",
       "6217           Sei Solo  Ribera del Duero  \n",
       "1916              Other  Ribera del Duero  \n",
       "6098  Remirez de Ganuza             Rioja  \n",
       "2298     Ramon do Casar             Other  "
      ]
     },
     "execution_count": 225,
     "metadata": {},
     "output_type": "execute_result"
    }
   ],
   "source": [
    "X_train_drop.head()"
   ]
  },
  {
   "cell_type": "code",
   "execution_count": 231,
   "metadata": {},
   "outputs": [
    {
     "data": {
      "text/plain": [
       "Pipeline(steps=[('columntransformer',\n",
       "                 ColumnTransformer(transformers=[('pipe_num',\n",
       "                                                  Pipeline(steps=[('standardscaler',\n",
       "                                                                   StandardScaler())]),\n",
       "                                                  ['year', 'rating', 'body']),\n",
       "                                                 ('pipe_cat',\n",
       "                                                  Pipeline(steps=[('onehotencoder',\n",
       "                                                                   OneHotEncoder())]),\n",
       "                                                  ['type_reduced',\n",
       "                                                   'wine_reduced',\n",
       "                                                   'winery_reduced',\n",
       "                                                   'region_reduced'])])),\n",
       "                ('kneighborsregressor',\n",
       "                 KNeighborsRegressor(algorithm='kd_tree', leaf_size=16,\n",
       "                                     metric='manhattan'))])"
      ]
     },
     "execution_count": 231,
     "metadata": {},
     "output_type": "execute_result"
    }
   ],
   "source": [
    "final_pipeline.fit(X_train_drop, y_train)"
   ]
  },
  {
   "cell_type": "code",
   "execution_count": 232,
   "metadata": {},
   "outputs": [
    {
     "name": "stdout",
     "output_type": "stream",
     "text": [
      "r2   : 0.8511872012250855\n",
      "MAE  : 14.014755998121558\n",
      "MSE  : 2760.4678609346947\n"
     ]
    }
   ],
   "source": [
    "y_pred_pipe = final_pipeline.predict(X_test_drop)\n",
    "print('r2   :', r2_score(y_test, y_pred_pipe))\n",
    "print('MAE  :', mean_absolute_error(y_test, y_pred_pipe))\n",
    "print('MSE  :', mean_squared_error(y_test, y_pred_pipe))"
   ]
  },
  {
   "cell_type": "markdown",
   "metadata": {},
   "source": [
    "## **10. Model Inference**"
   ]
  },
  {
   "cell_type": "code",
   "execution_count": 205,
   "metadata": {},
   "outputs": [
    {
     "data": {
      "text/html": [
       "<div>\n",
       "<style scoped>\n",
       "    .dataframe tbody tr th:only-of-type {\n",
       "        vertical-align: middle;\n",
       "    }\n",
       "\n",
       "    .dataframe tbody tr th {\n",
       "        vertical-align: top;\n",
       "    }\n",
       "\n",
       "    .dataframe thead th {\n",
       "        text-align: right;\n",
       "    }\n",
       "</style>\n",
       "<table border=\"1\" class=\"dataframe\">\n",
       "  <thead>\n",
       "    <tr style=\"text-align: right;\">\n",
       "      <th></th>\n",
       "      <th>year</th>\n",
       "      <th>rating</th>\n",
       "      <th>num_reviews</th>\n",
       "      <th>price</th>\n",
       "      <th>body</th>\n",
       "      <th>acidity</th>\n",
       "      <th>type_reduced</th>\n",
       "      <th>wine_reduced</th>\n",
       "      <th>winery_reduced</th>\n",
       "      <th>region_reduced</th>\n",
       "    </tr>\n",
       "  </thead>\n",
       "  <tbody>\n",
       "    <tr>\n",
       "      <th>0</th>\n",
       "      <td>2020</td>\n",
       "      <td>4.2</td>\n",
       "      <td>407</td>\n",
       "      <td>11.95</td>\n",
       "      <td>NaN</td>\n",
       "      <td>NaN</td>\n",
       "      <td>NaN</td>\n",
       "      <td>Treixadura</td>\n",
       "      <td>Ramon do Casar</td>\n",
       "      <td>Other</td>\n",
       "    </tr>\n",
       "    <tr>\n",
       "      <th>1</th>\n",
       "      <td>2011</td>\n",
       "      <td>4.2</td>\n",
       "      <td>402</td>\n",
       "      <td>28.53</td>\n",
       "      <td>4.0</td>\n",
       "      <td>3.0</td>\n",
       "      <td>Rioja Red</td>\n",
       "      <td>Mirto</td>\n",
       "      <td>Ramon Bilbao</td>\n",
       "      <td>Rioja</td>\n",
       "    </tr>\n",
       "    <tr>\n",
       "      <th>2</th>\n",
       "      <td>2014</td>\n",
       "      <td>4.5</td>\n",
       "      <td>189</td>\n",
       "      <td>104.90</td>\n",
       "      <td>5.0</td>\n",
       "      <td>3.0</td>\n",
       "      <td>Ribera Del Duero Red</td>\n",
       "      <td>Other</td>\n",
       "      <td>Vina Sastre</td>\n",
       "      <td>Ribera del Duero</td>\n",
       "    </tr>\n",
       "    <tr>\n",
       "      <th>3</th>\n",
       "      <td>2017</td>\n",
       "      <td>4.2</td>\n",
       "      <td>390</td>\n",
       "      <td>24.45</td>\n",
       "      <td>4.0</td>\n",
       "      <td>3.0</td>\n",
       "      <td>Red</td>\n",
       "      <td>Finca Terrerazo</td>\n",
       "      <td>Mustiguillo</td>\n",
       "      <td>Other</td>\n",
       "    </tr>\n",
       "    <tr>\n",
       "      <th>4</th>\n",
       "      <td>2018</td>\n",
       "      <td>4.2</td>\n",
       "      <td>415</td>\n",
       "      <td>17.90</td>\n",
       "      <td>3.0</td>\n",
       "      <td>3.0</td>\n",
       "      <td>Other</td>\n",
       "      <td>Altos de Losada</td>\n",
       "      <td>Losada</td>\n",
       "      <td>Bierzo</td>\n",
       "    </tr>\n",
       "    <tr>\n",
       "      <th>5</th>\n",
       "      <td>2018</td>\n",
       "      <td>4.2</td>\n",
       "      <td>390</td>\n",
       "      <td>16.76</td>\n",
       "      <td>4.0</td>\n",
       "      <td>3.0</td>\n",
       "      <td>Priorat Red</td>\n",
       "      <td>Les Brugueres</td>\n",
       "      <td>Conreria d'Scala Dei</td>\n",
       "      <td>Priorato</td>\n",
       "    </tr>\n",
       "    <tr>\n",
       "      <th>6</th>\n",
       "      <td>2020</td>\n",
       "      <td>4.2</td>\n",
       "      <td>404</td>\n",
       "      <td>19.90</td>\n",
       "      <td>NaN</td>\n",
       "      <td>NaN</td>\n",
       "      <td>NaN</td>\n",
       "      <td>Nounat</td>\n",
       "      <td>Binigrau</td>\n",
       "      <td>Mallorca</td>\n",
       "    </tr>\n",
       "    <tr>\n",
       "      <th>7</th>\n",
       "      <td>2020</td>\n",
       "      <td>4.5</td>\n",
       "      <td>184</td>\n",
       "      <td>38.90</td>\n",
       "      <td>3.0</td>\n",
       "      <td>3.0</td>\n",
       "      <td>Other</td>\n",
       "      <td>Other</td>\n",
       "      <td>Other</td>\n",
       "      <td>Other</td>\n",
       "    </tr>\n",
       "    <tr>\n",
       "      <th>8</th>\n",
       "      <td>2020</td>\n",
       "      <td>4.2</td>\n",
       "      <td>404</td>\n",
       "      <td>19.90</td>\n",
       "      <td>NaN</td>\n",
       "      <td>NaN</td>\n",
       "      <td>NaN</td>\n",
       "      <td>Nounat</td>\n",
       "      <td>Binigrau</td>\n",
       "      <td>Mallorca</td>\n",
       "    </tr>\n",
       "    <tr>\n",
       "      <th>9</th>\n",
       "      <td>2016</td>\n",
       "      <td>4.5</td>\n",
       "      <td>186</td>\n",
       "      <td>71.85</td>\n",
       "      <td>4.0</td>\n",
       "      <td>3.0</td>\n",
       "      <td>Other</td>\n",
       "      <td>Other</td>\n",
       "      <td>Abadia Retuerta</td>\n",
       "      <td>Other</td>\n",
       "    </tr>\n",
       "  </tbody>\n",
       "</table>\n",
       "</div>"
      ],
      "text/plain": [
       "   year  rating  num_reviews   price  body  acidity          type_reduced  \\\n",
       "0  2020     4.2          407   11.95   NaN      NaN                   NaN   \n",
       "1  2011     4.2          402   28.53   4.0      3.0             Rioja Red   \n",
       "2  2014     4.5          189  104.90   5.0      3.0  Ribera Del Duero Red   \n",
       "3  2017     4.2          390   24.45   4.0      3.0                   Red   \n",
       "4  2018     4.2          415   17.90   3.0      3.0                 Other   \n",
       "5  2018     4.2          390   16.76   4.0      3.0           Priorat Red   \n",
       "6  2020     4.2          404   19.90   NaN      NaN                   NaN   \n",
       "7  2020     4.5          184   38.90   3.0      3.0                 Other   \n",
       "8  2020     4.2          404   19.90   NaN      NaN                   NaN   \n",
       "9  2016     4.5          186   71.85   4.0      3.0                 Other   \n",
       "\n",
       "      wine_reduced        winery_reduced    region_reduced  \n",
       "0       Treixadura        Ramon do Casar             Other  \n",
       "1            Mirto          Ramon Bilbao             Rioja  \n",
       "2            Other           Vina Sastre  Ribera del Duero  \n",
       "3  Finca Terrerazo           Mustiguillo             Other  \n",
       "4  Altos de Losada                Losada            Bierzo  \n",
       "5    Les Brugueres  Conreria d'Scala Dei          Priorato  \n",
       "6           Nounat              Binigrau          Mallorca  \n",
       "7            Other                 Other             Other  \n",
       "8           Nounat              Binigrau          Mallorca  \n",
       "9            Other       Abadia Retuerta             Other  "
      ]
     },
     "execution_count": 205,
     "metadata": {},
     "output_type": "execute_result"
    }
   ],
   "source": [
    "data_inf"
   ]
  },
  {
   "cell_type": "code",
   "execution_count": 211,
   "metadata": {},
   "outputs": [
    {
     "data": {
      "text/html": [
       "<div>\n",
       "<style scoped>\n",
       "    .dataframe tbody tr th:only-of-type {\n",
       "        vertical-align: middle;\n",
       "    }\n",
       "\n",
       "    .dataframe tbody tr th {\n",
       "        vertical-align: top;\n",
       "    }\n",
       "\n",
       "    .dataframe thead th {\n",
       "        text-align: right;\n",
       "    }\n",
       "</style>\n",
       "<table border=\"1\" class=\"dataframe\">\n",
       "  <thead>\n",
       "    <tr style=\"text-align: right;\">\n",
       "      <th></th>\n",
       "      <th>year</th>\n",
       "      <th>rating</th>\n",
       "      <th>body</th>\n",
       "      <th>type_reduced</th>\n",
       "      <th>wine_reduced</th>\n",
       "      <th>winery_reduced</th>\n",
       "      <th>region_reduced</th>\n",
       "    </tr>\n",
       "  </thead>\n",
       "  <tbody>\n",
       "    <tr>\n",
       "      <th>0</th>\n",
       "      <td>2020</td>\n",
       "      <td>4.2</td>\n",
       "      <td>NaN</td>\n",
       "      <td>NaN</td>\n",
       "      <td>Treixadura</td>\n",
       "      <td>Ramon do Casar</td>\n",
       "      <td>Other</td>\n",
       "    </tr>\n",
       "    <tr>\n",
       "      <th>1</th>\n",
       "      <td>2011</td>\n",
       "      <td>4.2</td>\n",
       "      <td>4.0</td>\n",
       "      <td>Rioja Red</td>\n",
       "      <td>Mirto</td>\n",
       "      <td>Ramon Bilbao</td>\n",
       "      <td>Rioja</td>\n",
       "    </tr>\n",
       "    <tr>\n",
       "      <th>2</th>\n",
       "      <td>2014</td>\n",
       "      <td>4.5</td>\n",
       "      <td>5.0</td>\n",
       "      <td>Ribera Del Duero Red</td>\n",
       "      <td>Other</td>\n",
       "      <td>Vina Sastre</td>\n",
       "      <td>Ribera del Duero</td>\n",
       "    </tr>\n",
       "    <tr>\n",
       "      <th>3</th>\n",
       "      <td>2017</td>\n",
       "      <td>4.2</td>\n",
       "      <td>4.0</td>\n",
       "      <td>Red</td>\n",
       "      <td>Finca Terrerazo</td>\n",
       "      <td>Mustiguillo</td>\n",
       "      <td>Other</td>\n",
       "    </tr>\n",
       "    <tr>\n",
       "      <th>4</th>\n",
       "      <td>2018</td>\n",
       "      <td>4.2</td>\n",
       "      <td>3.0</td>\n",
       "      <td>Other</td>\n",
       "      <td>Altos de Losada</td>\n",
       "      <td>Losada</td>\n",
       "      <td>Bierzo</td>\n",
       "    </tr>\n",
       "  </tbody>\n",
       "</table>\n",
       "</div>"
      ],
      "text/plain": [
       "   year  rating  body          type_reduced     wine_reduced  winery_reduced  \\\n",
       "0  2020     4.2   NaN                   NaN       Treixadura  Ramon do Casar   \n",
       "1  2011     4.2   4.0             Rioja Red            Mirto    Ramon Bilbao   \n",
       "2  2014     4.5   5.0  Ribera Del Duero Red            Other     Vina Sastre   \n",
       "3  2017     4.2   4.0                   Red  Finca Terrerazo     Mustiguillo   \n",
       "4  2018     4.2   3.0                 Other  Altos de Losada          Losada   \n",
       "\n",
       "     region_reduced  \n",
       "0             Other  \n",
       "1             Rioja  \n",
       "2  Ribera del Duero  \n",
       "3             Other  \n",
       "4            Bierzo  "
      ]
     },
     "execution_count": 211,
     "metadata": {},
     "output_type": "execute_result"
    }
   ],
   "source": [
    "data_inf_X = data_inf[X_train_drop.columns]\n",
    "data_inf_y = data_inf['price']\n",
    "data_inf_X.head()"
   ]
  },
  {
   "cell_type": "code",
   "execution_count": 213,
   "metadata": {},
   "outputs": [
    {
     "name": "stdout",
     "output_type": "stream",
     "text": [
      "[Skewed] Skewness of rating = 1.0350983390135107\n",
      "% above upper boundary : 0.0\n",
      "% below lower boundary : 0.0\n",
      "---------------------------------------------------------------------------\n"
     ]
    }
   ],
   "source": [
    "for i in ['rating']:\n",
    "    detect_otl(data_inf_X, i)"
   ]
  },
  {
   "cell_type": "markdown",
   "metadata": {},
   "source": [
    "### **5.5 Handling Missing Values**"
   ]
  },
  {
   "cell_type": "code",
   "execution_count": 214,
   "metadata": {},
   "outputs": [
    {
     "data": {
      "text/plain": [
       "year              0\n",
       "rating            0\n",
       "body              3\n",
       "type_reduced      3\n",
       "wine_reduced      0\n",
       "winery_reduced    0\n",
       "region_reduced    0\n",
       "dtype: int64"
      ]
     },
     "execution_count": 214,
     "metadata": {},
     "output_type": "execute_result"
    }
   ],
   "source": [
    "data_inf_X.isnull().sum()"
   ]
  },
  {
   "cell_type": "code",
   "execution_count": 217,
   "metadata": {},
   "outputs": [],
   "source": [
    "mode_imputer = CategoricalImputer(imputation_method='frequent',\n",
    "                                  variables=['type_reduced', 'body'],\n",
    "                                  ignore_format=True)\n",
    "\n",
    "data_inf_X_ipt = mode_imputer.fit_transform(data_inf_X)"
   ]
  },
  {
   "cell_type": "code",
   "execution_count": 220,
   "metadata": {},
   "outputs": [
    {
     "data": {
      "text/html": [
       "<div>\n",
       "<style scoped>\n",
       "    .dataframe tbody tr th:only-of-type {\n",
       "        vertical-align: middle;\n",
       "    }\n",
       "\n",
       "    .dataframe tbody tr th {\n",
       "        vertical-align: top;\n",
       "    }\n",
       "\n",
       "    .dataframe thead th {\n",
       "        text-align: right;\n",
       "    }\n",
       "</style>\n",
       "<table border=\"1\" class=\"dataframe\">\n",
       "  <thead>\n",
       "    <tr style=\"text-align: right;\">\n",
       "      <th></th>\n",
       "      <th>Predicted Price</th>\n",
       "    </tr>\n",
       "  </thead>\n",
       "  <tbody>\n",
       "    <tr>\n",
       "      <th>0</th>\n",
       "      <td>11.950</td>\n",
       "    </tr>\n",
       "    <tr>\n",
       "      <th>1</th>\n",
       "      <td>28.530</td>\n",
       "    </tr>\n",
       "    <tr>\n",
       "      <th>2</th>\n",
       "      <td>171.860</td>\n",
       "    </tr>\n",
       "    <tr>\n",
       "      <th>3</th>\n",
       "      <td>24.450</td>\n",
       "    </tr>\n",
       "    <tr>\n",
       "      <th>4</th>\n",
       "      <td>17.900</td>\n",
       "    </tr>\n",
       "    <tr>\n",
       "      <th>5</th>\n",
       "      <td>16.760</td>\n",
       "    </tr>\n",
       "    <tr>\n",
       "      <th>6</th>\n",
       "      <td>19.900</td>\n",
       "    </tr>\n",
       "    <tr>\n",
       "      <th>7</th>\n",
       "      <td>25.680</td>\n",
       "    </tr>\n",
       "    <tr>\n",
       "      <th>8</th>\n",
       "      <td>19.900</td>\n",
       "    </tr>\n",
       "    <tr>\n",
       "      <th>9</th>\n",
       "      <td>72.776</td>\n",
       "    </tr>\n",
       "  </tbody>\n",
       "</table>\n",
       "</div>"
      ],
      "text/plain": [
       "   Predicted Price\n",
       "0           11.950\n",
       "1           28.530\n",
       "2          171.860\n",
       "3           24.450\n",
       "4           17.900\n",
       "5           16.760\n",
       "6           19.900\n",
       "7           25.680\n",
       "8           19.900\n",
       "9           72.776"
      ]
     },
     "execution_count": 220,
     "metadata": {},
     "output_type": "execute_result"
    }
   ],
   "source": [
    "inf_pred_pipe = final_pipeline.predict(data_inf_X_ipt)\n",
    "pd.DataFrame(inf_pred_pipe, columns=['Predicted Price'])"
   ]
  }
 ],
 "metadata": {
  "interpreter": {
   "hash": "263930470851f494f0ed2879c35b57985588df20f9e529b86e97dd5eb9ddc466"
  },
  "kernelspec": {
   "display_name": "Python 3.9.7 ('base')",
   "language": "python",
   "name": "python3"
  },
  "language_info": {
   "codemirror_mode": {
    "name": "ipython",
    "version": 3
   },
   "file_extension": ".py",
   "mimetype": "text/x-python",
   "name": "python",
   "nbconvert_exporter": "python",
   "pygments_lexer": "ipython3",
   "version": "3.9.7"
  },
  "orig_nbformat": 4
 },
 "nbformat": 4,
 "nbformat_minor": 2
}
