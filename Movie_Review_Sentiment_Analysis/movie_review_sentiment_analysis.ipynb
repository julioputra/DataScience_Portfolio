{
  "cells": [
    {
      "cell_type": "markdown",
      "metadata": {
        "id": "kEJd2c5Cui_9"
      },
      "source": [
        "# **Milestone 2 Phase 2**\n",
        "\n",
        "Nama: Julio Putra David\n",
        "\n",
        "Batch: 10\n",
        "\n",
        "_______________________________"
      ]
    },
    {
      "cell_type": "markdown",
      "metadata": {
        "id": "eNaGl6jTvUs4"
      },
      "source": [
        "## **1. Introduction**\n",
        "\n",
        "This notebook covers the establishment of Natural Language Processing using Deep Learning. The task is to do sentiment analysis of movie reviews on IMDB. The dataset is obtained from Kaggle with this following link: https://www.kaggle.com/datasets/lakshmi25npathi/imdb-dataset-of-50k-movie-reviews?datasetId=134715\n",
        "\n",
        "*Note: Please run this notebook in Google Colab and upload your kaggle.json to the session storage.*"
      ]
    },
    {
      "cell_type": "markdown",
      "metadata": {
        "id": "kR5bT4TJvjeM"
      },
      "source": [
        "## **2. Import Libraries**"
      ]
    },
    {
      "cell_type": "code",
      "execution_count": 63,
      "metadata": {
        "id": "na9tpoFJvuTJ"
      },
      "outputs": [],
      "source": [
        "# Basic Libraries\n",
        "import os\n",
        "import pandas as pd\n",
        "import matplotlib.pyplot as plt\n",
        "import seaborn as sns\n",
        "import numpy as np \n",
        "import pickle\n",
        "from wordcloud import WordCloud, STOPWORDS\n",
        "\n",
        "# Pre-processing Libraries\n",
        "from sklearn.model_selection import train_test_split\n",
        "from sklearn.feature_extraction.text import CountVectorizer\n",
        "from tensorflow.keras.utils import to_categorical\n",
        "from tensorflow.keras.layers import TextVectorization, Embedding\n",
        "from tensorflow.keras.callbacks import EarlyStopping\n",
        "import nltk\n",
        "from nltk.corpus import stopwords\n",
        "\n",
        "# Deep Learning Algorithm Libraries\n",
        "import tensorflow as tf\n",
        "from tensorflow.keras.models import Sequential, Model, load_model\n",
        "from tensorflow.keras.layers import Input, Dense, Dropout, GlobalAveragePooling1D, GRU\n",
        "\n",
        "# Model Evaluation Libraries\n",
        "from sklearn.metrics import classification_report, ConfusionMatrixDisplay\n",
        "\n",
        "# Pipeline Libraries\n",
        "from sklearn.pipeline import Pipeline, make_pipeline\n",
        "from sklearn.compose import ColumnTransformer\n",
        "\n",
        "# Warning Neglect Library\n",
        "import warnings\n",
        "warnings.filterwarnings('ignore')"
      ]
    },
    {
      "cell_type": "markdown",
      "metadata": {
        "id": "6Xl4Kmr99E18"
      },
      "source": [
        "## **3. Data Loading**"
      ]
    },
    {
      "cell_type": "markdown",
      "metadata": {
        "id": "LIfQcxR8FqFA"
      },
      "source": [
        "First we will draw our corpus from kaggle using the codes below."
      ]
    },
    {
      "cell_type": "code",
      "execution_count": 2,
      "metadata": {
        "colab": {
          "base_uri": "https://localhost:8080/"
        },
        "id": "OgTBugiJrPnP",
        "outputId": "3cd0b8a2-8dda-4d60-91aa-fb1b1cffb394"
      },
      "outputs": [
        {
          "name": "stdout",
          "output_type": "stream",
          "text": [
            "kaggle.json\n",
            "Downloading imdb-dataset-of-50k-movie-reviews.zip to /content\n",
            " 58% 15.0M/25.7M [00:00<00:00, 156MB/s]\n",
            "100% 25.7M/25.7M [00:00<00:00, 188MB/s]\n"
          ]
        }
      ],
      "source": [
        "!mkdir -p ~/.kaggle \n",
        "!cp kaggle.json ~/.kaggle \n",
        "!mkdir ./kaggle \n",
        "!mv ./kaggle.json ./kaggle \n",
        "\n",
        "!chmod 600 ~/.kaggle/kaggle.json\n",
        "!ls ~/.kaggle\n",
        "\n",
        "# Download dataset\n",
        "!kaggle datasets download -d lakshmi25npathi/imdb-dataset-of-50k-movie-reviews"
      ]
    },
    {
      "cell_type": "markdown",
      "metadata": {
        "id": "hGBPGRidsEO2"
      },
      "source": [
        "Since we only have 1 file in the .zip we don't have to unzip it."
      ]
    },
    {
      "cell_type": "code",
      "execution_count": 3,
      "metadata": {
        "colab": {
          "base_uri": "https://localhost:8080/",
          "height": 206
        },
        "id": "l88qgj-TrtbU",
        "outputId": "0878d181-38b2-4d72-b95a-cc2b7c97d425"
      },
      "outputs": [
        {
          "data": {
            "text/html": [
              "\n",
              "  <div id=\"df-b3571c81-ec5b-4202-bcbb-2526730a2a93\">\n",
              "    <div class=\"colab-df-container\">\n",
              "      <div>\n",
              "<style scoped>\n",
              "    .dataframe tbody tr th:only-of-type {\n",
              "        vertical-align: middle;\n",
              "    }\n",
              "\n",
              "    .dataframe tbody tr th {\n",
              "        vertical-align: top;\n",
              "    }\n",
              "\n",
              "    .dataframe thead th {\n",
              "        text-align: right;\n",
              "    }\n",
              "</style>\n",
              "<table border=\"1\" class=\"dataframe\">\n",
              "  <thead>\n",
              "    <tr style=\"text-align: right;\">\n",
              "      <th></th>\n",
              "      <th>review</th>\n",
              "      <th>sentiment</th>\n",
              "    </tr>\n",
              "  </thead>\n",
              "  <tbody>\n",
              "    <tr>\n",
              "      <th>0</th>\n",
              "      <td>One of the other reviewers has mentioned that ...</td>\n",
              "      <td>positive</td>\n",
              "    </tr>\n",
              "    <tr>\n",
              "      <th>1</th>\n",
              "      <td>A wonderful little production. &lt;br /&gt;&lt;br /&gt;The...</td>\n",
              "      <td>positive</td>\n",
              "    </tr>\n",
              "    <tr>\n",
              "      <th>2</th>\n",
              "      <td>I thought this was a wonderful way to spend ti...</td>\n",
              "      <td>positive</td>\n",
              "    </tr>\n",
              "    <tr>\n",
              "      <th>3</th>\n",
              "      <td>Basically there's a family where a little boy ...</td>\n",
              "      <td>negative</td>\n",
              "    </tr>\n",
              "    <tr>\n",
              "      <th>4</th>\n",
              "      <td>Petter Mattei's \"Love in the Time of Money\" is...</td>\n",
              "      <td>positive</td>\n",
              "    </tr>\n",
              "  </tbody>\n",
              "</table>\n",
              "</div>\n",
              "      <button class=\"colab-df-convert\" onclick=\"convertToInteractive('df-b3571c81-ec5b-4202-bcbb-2526730a2a93')\"\n",
              "              title=\"Convert this dataframe to an interactive table.\"\n",
              "              style=\"display:none;\">\n",
              "        \n",
              "  <svg xmlns=\"http://www.w3.org/2000/svg\" height=\"24px\"viewBox=\"0 0 24 24\"\n",
              "       width=\"24px\">\n",
              "    <path d=\"M0 0h24v24H0V0z\" fill=\"none\"/>\n",
              "    <path d=\"M18.56 5.44l.94 2.06.94-2.06 2.06-.94-2.06-.94-.94-2.06-.94 2.06-2.06.94zm-11 1L8.5 8.5l.94-2.06 2.06-.94-2.06-.94L8.5 2.5l-.94 2.06-2.06.94zm10 10l.94 2.06.94-2.06 2.06-.94-2.06-.94-.94-2.06-.94 2.06-2.06.94z\"/><path d=\"M17.41 7.96l-1.37-1.37c-.4-.4-.92-.59-1.43-.59-.52 0-1.04.2-1.43.59L10.3 9.45l-7.72 7.72c-.78.78-.78 2.05 0 2.83L4 21.41c.39.39.9.59 1.41.59.51 0 1.02-.2 1.41-.59l7.78-7.78 2.81-2.81c.8-.78.8-2.07 0-2.86zM5.41 20L4 18.59l7.72-7.72 1.47 1.35L5.41 20z\"/>\n",
              "  </svg>\n",
              "      </button>\n",
              "      \n",
              "  <style>\n",
              "    .colab-df-container {\n",
              "      display:flex;\n",
              "      flex-wrap:wrap;\n",
              "      gap: 12px;\n",
              "    }\n",
              "\n",
              "    .colab-df-convert {\n",
              "      background-color: #E8F0FE;\n",
              "      border: none;\n",
              "      border-radius: 50%;\n",
              "      cursor: pointer;\n",
              "      display: none;\n",
              "      fill: #1967D2;\n",
              "      height: 32px;\n",
              "      padding: 0 0 0 0;\n",
              "      width: 32px;\n",
              "    }\n",
              "\n",
              "    .colab-df-convert:hover {\n",
              "      background-color: #E2EBFA;\n",
              "      box-shadow: 0px 1px 2px rgba(60, 64, 67, 0.3), 0px 1px 3px 1px rgba(60, 64, 67, 0.15);\n",
              "      fill: #174EA6;\n",
              "    }\n",
              "\n",
              "    [theme=dark] .colab-df-convert {\n",
              "      background-color: #3B4455;\n",
              "      fill: #D2E3FC;\n",
              "    }\n",
              "\n",
              "    [theme=dark] .colab-df-convert:hover {\n",
              "      background-color: #434B5C;\n",
              "      box-shadow: 0px 1px 3px 1px rgba(0, 0, 0, 0.15);\n",
              "      filter: drop-shadow(0px 1px 2px rgba(0, 0, 0, 0.3));\n",
              "      fill: #FFFFFF;\n",
              "    }\n",
              "  </style>\n",
              "\n",
              "      <script>\n",
              "        const buttonEl =\n",
              "          document.querySelector('#df-b3571c81-ec5b-4202-bcbb-2526730a2a93 button.colab-df-convert');\n",
              "        buttonEl.style.display =\n",
              "          google.colab.kernel.accessAllowed ? 'block' : 'none';\n",
              "\n",
              "        async function convertToInteractive(key) {\n",
              "          const element = document.querySelector('#df-b3571c81-ec5b-4202-bcbb-2526730a2a93');\n",
              "          const dataTable =\n",
              "            await google.colab.kernel.invokeFunction('convertToInteractive',\n",
              "                                                     [key], {});\n",
              "          if (!dataTable) return;\n",
              "\n",
              "          const docLinkHtml = 'Like what you see? Visit the ' +\n",
              "            '<a target=\"_blank\" href=https://colab.research.google.com/notebooks/data_table.ipynb>data table notebook</a>'\n",
              "            + ' to learn more about interactive tables.';\n",
              "          element.innerHTML = '';\n",
              "          dataTable['output_type'] = 'display_data';\n",
              "          await google.colab.output.renderOutput(dataTable, element);\n",
              "          const docLink = document.createElement('div');\n",
              "          docLink.innerHTML = docLinkHtml;\n",
              "          element.appendChild(docLink);\n",
              "        }\n",
              "      </script>\n",
              "    </div>\n",
              "  </div>\n",
              "  "
            ],
            "text/plain": [
              "                                              review sentiment\n",
              "0  One of the other reviewers has mentioned that ...  positive\n",
              "1  A wonderful little production. <br /><br />The...  positive\n",
              "2  I thought this was a wonderful way to spend ti...  positive\n",
              "3  Basically there's a family where a little boy ...  negative\n",
              "4  Petter Mattei's \"Love in the Time of Money\" is...  positive"
            ]
          },
          "execution_count": 3,
          "metadata": {},
          "output_type": "execute_result"
        }
      ],
      "source": [
        "df = pd.read_csv('imdb-dataset-of-50k-movie-reviews.zip')\n",
        "df.head()"
      ]
    },
    {
      "cell_type": "markdown",
      "metadata": {
        "id": "Zy9Nc-Qv2KSy"
      },
      "source": [
        "Make a copy of the original dataset"
      ]
    },
    {
      "cell_type": "code",
      "execution_count": 4,
      "metadata": {
        "id": "0ffdGgj12KSz"
      },
      "outputs": [],
      "source": [
        "data = df.copy()"
      ]
    },
    {
      "cell_type": "markdown",
      "metadata": {
        "id": "jQEhdROu9WaO"
      },
      "source": [
        "## **4. Exploratory Data Analysis (EDA)**"
      ]
    },
    {
      "cell_type": "markdown",
      "metadata": {
        "id": "bFqAZ6T_9egK"
      },
      "source": [
        "#### **1. Shape of Data**"
      ]
    },
    {
      "cell_type": "code",
      "execution_count": 5,
      "metadata": {
        "colab": {
          "base_uri": "https://localhost:8080/"
        },
        "id": "x4jeKBxm9thS",
        "outputId": "fa0d4f9e-7f9f-4b60-9306-f81a0119a320"
      },
      "outputs": [
        {
          "name": "stdout",
          "output_type": "stream",
          "text": [
            "Number of rows    = 50000\n",
            "Number of columns = 2\n"
          ]
        }
      ],
      "source": [
        "r = data.shape[0]\n",
        "c = data.shape[1]\n",
        "print('Number of rows    =', r)\n",
        "print('Number of columns =', c)"
      ]
    },
    {
      "cell_type": "markdown",
      "metadata": {
        "id": "wcVPiUOt9lp1"
      },
      "source": [
        "#### **2. Data Information**"
      ]
    },
    {
      "cell_type": "code",
      "execution_count": 6,
      "metadata": {
        "colab": {
          "base_uri": "https://localhost:8080/"
        },
        "id": "Sh1bwJTW9zKL",
        "outputId": "d4c1bcd6-9ff6-4e73-d464-7b9d8f9336ce"
      },
      "outputs": [
        {
          "name": "stdout",
          "output_type": "stream",
          "text": [
            "<class 'pandas.core.frame.DataFrame'>\n",
            "RangeIndex: 50000 entries, 0 to 49999\n",
            "Data columns (total 2 columns):\n",
            " #   Column     Non-Null Count  Dtype \n",
            "---  ------     --------------  ----- \n",
            " 0   review     50000 non-null  object\n",
            " 1   sentiment  50000 non-null  object\n",
            "dtypes: object(2)\n",
            "memory usage: 781.4+ KB\n"
          ]
        }
      ],
      "source": [
        "data.info()"
      ]
    },
    {
      "cell_type": "markdown",
      "metadata": {
        "id": "qaSWpKtv92Od"
      },
      "source": [
        "#### **3. Missing Values**"
      ]
    },
    {
      "cell_type": "code",
      "execution_count": 7,
      "metadata": {
        "colab": {
          "base_uri": "https://localhost:8080/"
        },
        "id": "LjzJFrS896dz",
        "outputId": "ac74d807-9e0d-4753-e63d-f634c5cf3507"
      },
      "outputs": [
        {
          "data": {
            "text/plain": [
              "review       False\n",
              "sentiment    False\n",
              "dtype: bool"
            ]
          },
          "execution_count": 7,
          "metadata": {},
          "output_type": "execute_result"
        }
      ],
      "source": [
        "data.isnull().any()"
      ]
    },
    {
      "cell_type": "markdown",
      "metadata": {
        "id": "1a8ZlfIs98si"
      },
      "source": [
        "There are no missing values in out dataset"
      ]
    },
    {
      "cell_type": "markdown",
      "metadata": {
        "id": "9QEF9JI09p_V"
      },
      "source": [
        "#### **3. Class Proportion**"
      ]
    },
    {
      "cell_type": "code",
      "execution_count": 8,
      "metadata": {
        "colab": {
          "base_uri": "https://localhost:8080/",
          "height": 334
        },
        "id": "qyFbWhuB-EDQ",
        "outputId": "d412227c-6156-474c-a4d1-49ff971ae539"
      },
      "outputs": [
        {
          "name": "stdout",
          "output_type": "stream",
          "text": [
            "positive    25000\n",
            "negative    25000\n",
            "Name: sentiment, dtype: int64\n"
          ]
        },
        {
          "data": {
            "text/plain": [
              "<matplotlib.axes._subplots.AxesSubplot at 0x7fe052485450>"
            ]
          },
          "execution_count": 8,
          "metadata": {},
          "output_type": "execute_result"
        },
        {
          "data": {
            "image/png": "[encoded data removed]",
            "text/plain": [
              "<Figure size 432x288 with 1 Axes>"
            ]
          },
          "metadata": {
            "needs_background": "light"
          },
          "output_type": "display_data"
        }
      ],
      "source": [
        "print(data.sentiment.value_counts())\n",
        "data.sentiment.value_counts().plot(kind='barh')"
      ]
    },
    {
      "cell_type": "markdown",
      "metadata": {
        "id": "885YW8dy-R6t"
      },
      "source": [
        "We only have 2 sentiments, which are NEGATIVE and POSITIVE review. The data is **perfectly balanced**."
      ]
    },
    {
      "cell_type": "markdown",
      "metadata": {
        "id": "EHPePGHaEr30"
      },
      "source": [
        "#### **4. Word Cloud**"
      ]
    },
    {
      "cell_type": "code",
      "execution_count": 10,
      "metadata": {
        "colab": {
          "base_uri": "https://localhost:8080/",
          "height": 441
        },
        "id": "fwUavaGn_hOD",
        "outputId": "b8b5df41-165d-4aca-c328-ede37e1f78e8"
      },
      "outputs": [
        {
          "data": {
            "image/png": "[encoded data removed]",
            "text/plain": [
              "<Figure size 432x432 with 1 Axes>"
            ]
          },
          "metadata": {
            "needs_background": "light"
          },
          "output_type": "display_data"
        }
      ],
      "source": [
        "# Below is the codes for making wordcloud. Cited from https://www.geeksforgeeks.org/generating-word-cloud-python/\n",
        "comment_words = ''\n",
        "stopwords = set(STOPWORDS)\n",
        " \n",
        "for i in data.review:\n",
        "    i = str(i)\n",
        "    tokens = i.split()\n",
        "\n",
        "    for i in range(len(tokens)):\n",
        "        tokens[i] = tokens[i].lower()\n",
        "     \n",
        "    comment_words += \" \".join(tokens)+\" \"\n",
        " \n",
        "wordcloud = WordCloud(width = 800, height = 800,\n",
        "                      background_color ='white',\n",
        "                      stopwords = stopwords,\n",
        "                      min_font_size = 10).generate(comment_words)\n",
        "                       \n",
        "plt.figure(figsize=(6,6))\n",
        "plt.imshow(wordcloud)\n",
        "plt.axis(\"off\")\n",
        "plt.tight_layout()\n",
        " \n",
        "plt.show()"
      ]
    },
    {
      "cell_type": "markdown",
      "metadata": {},
      "source": [
        "The most frequent word is **br**. I'm not sure what br is, it is probably a slang."
      ]
    },
    {
      "cell_type": "markdown",
      "metadata": {
        "id": "8r9KtwwcExlA"
      },
      "source": [
        "#### **5. Duplicated Data**"
      ]
    },
    {
      "cell_type": "code",
      "execution_count": 11,
      "metadata": {
        "colab": {
          "base_uri": "https://localhost:8080/",
          "height": 424
        },
        "id": "vmbCKMp_CWRD",
        "outputId": "5d82d44b-1af4-4ede-c1b9-53f5fc9dd462"
      },
      "outputs": [
        {
          "data": {
            "text/html": [
              "\n",
              "  <div id=\"df-f2d6c3ba-62e0-422e-a290-77fb1aa54c2b\">\n",
              "    <div class=\"colab-df-container\">\n",
              "      <div>\n",
              "<style scoped>\n",
              "    .dataframe tbody tr th:only-of-type {\n",
              "        vertical-align: middle;\n",
              "    }\n",
              "\n",
              "    .dataframe tbody tr th {\n",
              "        vertical-align: top;\n",
              "    }\n",
              "\n",
              "    .dataframe thead th {\n",
              "        text-align: right;\n",
              "    }\n",
              "</style>\n",
              "<table border=\"1\" class=\"dataframe\">\n",
              "  <thead>\n",
              "    <tr style=\"text-align: right;\">\n",
              "      <th></th>\n",
              "      <th>review</th>\n",
              "      <th>sentiment</th>\n",
              "    </tr>\n",
              "  </thead>\n",
              "  <tbody>\n",
              "    <tr>\n",
              "      <th>3537</th>\n",
              "      <td>Quite what the producers of this appalling ada...</td>\n",
              "      <td>negative</td>\n",
              "    </tr>\n",
              "    <tr>\n",
              "      <th>3769</th>\n",
              "      <td>My favourite police series of all time turns t...</td>\n",
              "      <td>positive</td>\n",
              "    </tr>\n",
              "    <tr>\n",
              "      <th>4391</th>\n",
              "      <td>Beautiful film, pure Cassavetes style. Gena Ro...</td>\n",
              "      <td>positive</td>\n",
              "    </tr>\n",
              "    <tr>\n",
              "      <th>6352</th>\n",
              "      <td>If you liked the Grinch movie... go watch that...</td>\n",
              "      <td>negative</td>\n",
              "    </tr>\n",
              "    <tr>\n",
              "      <th>6479</th>\n",
              "      <td>I want very much to believe that the above quo...</td>\n",
              "      <td>negative</td>\n",
              "    </tr>\n",
              "    <tr>\n",
              "      <th>...</th>\n",
              "      <td>...</td>\n",
              "      <td>...</td>\n",
              "    </tr>\n",
              "    <tr>\n",
              "      <th>49912</th>\n",
              "      <td>This is an incredible piece of drama and power...</td>\n",
              "      <td>positive</td>\n",
              "    </tr>\n",
              "    <tr>\n",
              "      <th>49950</th>\n",
              "      <td>This was a very brief episode that appeared in...</td>\n",
              "      <td>negative</td>\n",
              "    </tr>\n",
              "    <tr>\n",
              "      <th>49984</th>\n",
              "      <td>Hello it is I Derrick Cannon and I welcome you...</td>\n",
              "      <td>negative</td>\n",
              "    </tr>\n",
              "    <tr>\n",
              "      <th>49986</th>\n",
              "      <td>This movie is a disgrace to the Major League F...</td>\n",
              "      <td>negative</td>\n",
              "    </tr>\n",
              "    <tr>\n",
              "      <th>49991</th>\n",
              "      <td>Les Visiteurs, the first movie about the medie...</td>\n",
              "      <td>negative</td>\n",
              "    </tr>\n",
              "  </tbody>\n",
              "</table>\n",
              "<p>418 rows × 2 columns</p>\n",
              "</div>\n",
              "      <button class=\"colab-df-convert\" onclick=\"convertToInteractive('df-f2d6c3ba-62e0-422e-a290-77fb1aa54c2b')\"\n",
              "              title=\"Convert this dataframe to an interactive table.\"\n",
              "              style=\"display:none;\">\n",
              "        \n",
              "  <svg xmlns=\"http://www.w3.org/2000/svg\" height=\"24px\"viewBox=\"0 0 24 24\"\n",
              "       width=\"24px\">\n",
              "    <path d=\"M0 0h24v24H0V0z\" fill=\"none\"/>\n",
              "    <path d=\"M18.56 5.44l.94 2.06.94-2.06 2.06-.94-2.06-.94-.94-2.06-.94 2.06-2.06.94zm-11 1L8.5 8.5l.94-2.06 2.06-.94-2.06-.94L8.5 2.5l-.94 2.06-2.06.94zm10 10l.94 2.06.94-2.06 2.06-.94-2.06-.94-.94-2.06-.94 2.06-2.06.94z\"/><path d=\"M17.41 7.96l-1.37-1.37c-.4-.4-.92-.59-1.43-.59-.52 0-1.04.2-1.43.59L10.3 9.45l-7.72 7.72c-.78.78-.78 2.05 0 2.83L4 21.41c.39.39.9.59 1.41.59.51 0 1.02-.2 1.41-.59l7.78-7.78 2.81-2.81c.8-.78.8-2.07 0-2.86zM5.41 20L4 18.59l7.72-7.72 1.47 1.35L5.41 20z\"/>\n",
              "  </svg>\n",
              "      </button>\n",
              "      \n",
              "  <style>\n",
              "    .colab-df-container {\n",
              "      display:flex;\n",
              "      flex-wrap:wrap;\n",
              "      gap: 12px;\n",
              "    }\n",
              "\n",
              "    .colab-df-convert {\n",
              "      background-color: #E8F0FE;\n",
              "      border: none;\n",
              "      border-radius: 50%;\n",
              "      cursor: pointer;\n",
              "      display: none;\n",
              "      fill: #1967D2;\n",
              "      height: 32px;\n",
              "      padding: 0 0 0 0;\n",
              "      width: 32px;\n",
              "    }\n",
              "\n",
              "    .colab-df-convert:hover {\n",
              "      background-color: #E2EBFA;\n",
              "      box-shadow: 0px 1px 2px rgba(60, 64, 67, 0.3), 0px 1px 3px 1px rgba(60, 64, 67, 0.15);\n",
              "      fill: #174EA6;\n",
              "    }\n",
              "\n",
              "    [theme=dark] .colab-df-convert {\n",
              "      background-color: #3B4455;\n",
              "      fill: #D2E3FC;\n",
              "    }\n",
              "\n",
              "    [theme=dark] .colab-df-convert:hover {\n",
              "      background-color: #434B5C;\n",
              "      box-shadow: 0px 1px 3px 1px rgba(0, 0, 0, 0.15);\n",
              "      filter: drop-shadow(0px 1px 2px rgba(0, 0, 0, 0.3));\n",
              "      fill: #FFFFFF;\n",
              "    }\n",
              "  </style>\n",
              "\n",
              "      <script>\n",
              "        const buttonEl =\n",
              "          document.querySelector('#df-f2d6c3ba-62e0-422e-a290-77fb1aa54c2b button.colab-df-convert');\n",
              "        buttonEl.style.display =\n",
              "          google.colab.kernel.accessAllowed ? 'block' : 'none';\n",
              "\n",
              "        async function convertToInteractive(key) {\n",
              "          const element = document.querySelector('#df-f2d6c3ba-62e0-422e-a290-77fb1aa54c2b');\n",
              "          const dataTable =\n",
              "            await google.colab.kernel.invokeFunction('convertToInteractive',\n",
              "                                                     [key], {});\n",
              "          if (!dataTable) return;\n",
              "\n",
              "          const docLinkHtml = 'Like what you see? Visit the ' +\n",
              "            '<a target=\"_blank\" href=https://colab.research.google.com/notebooks/data_table.ipynb>data table notebook</a>'\n",
              "            + ' to learn more about interactive tables.';\n",
              "          element.innerHTML = '';\n",
              "          dataTable['output_type'] = 'display_data';\n",
              "          await google.colab.output.renderOutput(dataTable, element);\n",
              "          const docLink = document.createElement('div');\n",
              "          docLink.innerHTML = docLinkHtml;\n",
              "          element.appendChild(docLink);\n",
              "        }\n",
              "      </script>\n",
              "    </div>\n",
              "  </div>\n",
              "  "
            ],
            "text/plain": [
              "                                                  review sentiment\n",
              "3537   Quite what the producers of this appalling ada...  negative\n",
              "3769   My favourite police series of all time turns t...  positive\n",
              "4391   Beautiful film, pure Cassavetes style. Gena Ro...  positive\n",
              "6352   If you liked the Grinch movie... go watch that...  negative\n",
              "6479   I want very much to believe that the above quo...  negative\n",
              "...                                                  ...       ...\n",
              "49912  This is an incredible piece of drama and power...  positive\n",
              "49950  This was a very brief episode that appeared in...  negative\n",
              "49984  Hello it is I Derrick Cannon and I welcome you...  negative\n",
              "49986  This movie is a disgrace to the Major League F...  negative\n",
              "49991  Les Visiteurs, the first movie about the medie...  negative\n",
              "\n",
              "[418 rows x 2 columns]"
            ]
          },
          "execution_count": 11,
          "metadata": {},
          "output_type": "execute_result"
        }
      ],
      "source": [
        "data[data.duplicated()]"
      ]
    },
    {
      "cell_type": "markdown",
      "metadata": {
        "id": "fTYfFofniK09"
      },
      "source": [
        "It appears that we have 418 duplicated reviews here. Thus, we will drop it and we will check the balance again."
      ]
    },
    {
      "cell_type": "markdown",
      "metadata": {
        "id": "aZmJbiTKE5XP"
      },
      "source": [
        "## **5. Data Pre-processing**"
      ]
    },
    {
      "cell_type": "markdown",
      "metadata": {
        "id": "noiRbRk1E9Bx"
      },
      "source": [
        "### **5.1 Feature Engineering**"
      ]
    },
    {
      "cell_type": "markdown",
      "metadata": {
        "id": "6ReVy2KjFBwV"
      },
      "source": [
        "Drop duplicated data"
      ]
    },
    {
      "cell_type": "code",
      "execution_count": 12,
      "metadata": {
        "id": "r7xUdbwNES2s"
      },
      "outputs": [],
      "source": [
        "data.drop_duplicates(inplace = True)"
      ]
    },
    {
      "cell_type": "code",
      "execution_count": 13,
      "metadata": {
        "colab": {
          "base_uri": "https://localhost:8080/"
        },
        "id": "_i69_1bQFFwf",
        "outputId": "38e5a2ca-51b7-4a2e-d0fc-bd06e694784a"
      },
      "outputs": [
        {
          "data": {
            "text/plain": [
              "(49582, 2)"
            ]
          },
          "execution_count": 13,
          "metadata": {},
          "output_type": "execute_result"
        }
      ],
      "source": [
        "data.shape"
      ]
    },
    {
      "cell_type": "code",
      "execution_count": 14,
      "metadata": {
        "colab": {
          "base_uri": "https://localhost:8080/"
        },
        "id": "fWLU1_sViGO-",
        "outputId": "75308da6-f869-4853-ff32-d06b47982796"
      },
      "outputs": [
        {
          "name": "stdout",
          "output_type": "stream",
          "text": [
            "positive    24884\n",
            "negative    24698\n",
            "Name: sentiment, dtype: int64\n"
          ]
        }
      ],
      "source": [
        "print(data.sentiment.value_counts())"
      ]
    },
    {
      "cell_type": "markdown",
      "metadata": {
        "id": "b_2bxUOMiVaY"
      },
      "source": [
        "After the duplicated data are dropped, the target variable is still balanced."
      ]
    },
    {
      "cell_type": "markdown",
      "metadata": {
        "id": "Tvj40VznicQJ"
      },
      "source": [
        "Next we will convert the `sentiment` column into numerical form."
      ]
    },
    {
      "cell_type": "code",
      "execution_count": 15,
      "metadata": {
        "id": "gxKF6JPhhXSX"
      },
      "outputs": [],
      "source": [
        "data['sentiment'] = data.sentiment.replace({'negative':0, 'positive':1})"
      ]
    },
    {
      "cell_type": "markdown",
      "metadata": {},
      "source": [
        "Now we will remove the stopwords."
      ]
    },
    {
      "cell_type": "code",
      "execution_count": 16,
      "metadata": {
        "colab": {
          "base_uri": "https://localhost:8080/"
        },
        "id": "sK6TS7fyx6x2",
        "outputId": "76b59e77-c8d2-494d-996c-bdc925d75a47"
      },
      "outputs": [
        {
          "name": "stdout",
          "output_type": "stream",
          "text": [
            "[nltk_data] Downloading package stopwords to /root/nltk_data...\n",
            "[nltk_data]   Unzipping corpora/stopwords.zip.\n"
          ]
        },
        {
          "data": {
            "text/plain": [
              "10109    I huge fan first four Ju-on projects. I them, ...\n",
              "28448    I give 2, beautiful Mediterranean Greece, othe...\n",
              "1193     I'd give film 1/10. This film devoid common ci...\n",
              "40575    As good Schindler's List was, I found movie mu...\n",
              "32541    I extremely picky films I see. I'd heard Moon ...\n",
              "4248     If sons daughters love action, adventure, intr...\n",
              "2253     The Twins Effect - Chinese Action/Comedy - (Ch...\n",
              "35728    The Radar Men Moon pretty typical fare 1950's ...\n",
              "21379    Yet ANOTHER movie group less-than-intelligent ...\n",
              "43562    This disgrace game FarCry much expectations en...\n",
              "Name: review, dtype: object"
            ]
          },
          "execution_count": 16,
          "metadata": {},
          "output_type": "execute_result"
        }
      ],
      "source": [
        "import nltk\n",
        "from nltk.corpus import stopwords\n",
        "nltk.download('stopwords')\n",
        "stop = stopwords.words('english')\n",
        "\n",
        "data['review'] = data['review'].apply(lambda x: \" \".join(x for x in x.split() if x not in stop))\n",
        "data['review'].sample(10)"
      ]
    },
    {
      "cell_type": "markdown",
      "metadata": {},
      "source": [
        "We can see from the series abovee the stopwords are removed. The grammatical structure are now messed up but that's okay."
      ]
    },
    {
      "cell_type": "markdown",
      "metadata": {
        "id": "PwtLjvK2JlV3"
      },
      "source": [
        "### **5.2 Data Inference**"
      ]
    },
    {
      "cell_type": "markdown",
      "metadata": {
        "id": "OCG8x4GXr04T"
      },
      "source": [
        "We will take out 10 samples to be our data inference."
      ]
    },
    {
      "cell_type": "code",
      "execution_count": 17,
      "metadata": {
        "id": "5cgxJ8VqJZmh"
      },
      "outputs": [],
      "source": [
        "data_inf = data.sample(10, random_state=77)"
      ]
    },
    {
      "cell_type": "code",
      "execution_count": 18,
      "metadata": {
        "id": "3g3e826sJjaS"
      },
      "outputs": [],
      "source": [
        "data.drop(data_inf.index, inplace=True)"
      ]
    },
    {
      "cell_type": "markdown",
      "metadata": {
        "id": "ciHyh5uor9r2"
      },
      "source": [
        "We will reset the index to prevent unwanted errors."
      ]
    },
    {
      "cell_type": "code",
      "execution_count": 19,
      "metadata": {
        "id": "CU3FgE7GJkFp"
      },
      "outputs": [],
      "source": [
        "data.reset_index(drop=True, inplace=True)\n",
        "data_inf.reset_index(drop=True, inplace=True)"
      ]
    },
    {
      "cell_type": "markdown",
      "metadata": {
        "id": "RPDcvhbhF8AI"
      },
      "source": [
        "### **5.3 Data Splitting**"
      ]
    },
    {
      "cell_type": "markdown",
      "metadata": {
        "id": "w_EUULAosCeR"
      },
      "source": [
        "We will split the data into train-set, validation-set, and test-set."
      ]
    },
    {
      "cell_type": "code",
      "execution_count": 20,
      "metadata": {
        "id": "hyk5oKakSts1"
      },
      "outputs": [],
      "source": [
        "X = data['review']\n",
        "y = data['sentiment']\n",
        "\n",
        "X_train, X_test, y_train, y_test = train_test_split(X, y, test_size=0.15, random_state=77, stratify=y)\n",
        "X_train, X_val, y_train, y_val = train_test_split(X_train, y_train, test_size=0.1, random_state=77, stratify=y_train)"
      ]
    },
    {
      "cell_type": "markdown",
      "metadata": {
        "id": "jSLi83mnsI7-"
      },
      "source": [
        "### **5.4 Target Encoding**"
      ]
    },
    {
      "cell_type": "markdown",
      "metadata": {
        "id": "KQMxAhfgsU9p"
      },
      "source": [
        "We will encode the target variable using one-hot encoder."
      ]
    },
    {
      "cell_type": "code",
      "execution_count": 22,
      "metadata": {
        "id": "A0itQAb9IDwa"
      },
      "outputs": [],
      "source": [
        "y_train_ohe = to_categorical(y_train)\n",
        "y_val_ohe = to_categorical(y_val)\n",
        "y_test_ohe = to_categorical(y_test)"
      ]
    },
    {
      "cell_type": "markdown",
      "metadata": {
        "id": "WJGcDoMDuM04"
      },
      "source": [
        "### **5.5 Text Vectorization**"
      ]
    },
    {
      "cell_type": "markdown",
      "metadata": {
        "id": "941PC60KuQ22"
      },
      "source": [
        "First we will count the number of non-zero element and number of vocab using CountVectorizer"
      ]
    },
    {
      "cell_type": "code",
      "execution_count": 23,
      "metadata": {
        "id": "Uh20JtB9tEBA"
      },
      "outputs": [],
      "source": [
        "vect = CountVectorizer()\n",
        "\n",
        "X_train_vec = vect.fit_transform(X_train)\n",
        "X_val_vec = vect.transform(X_val)\n",
        "X_test_vec = vect.transform(X_test) "
      ]
    },
    {
      "cell_type": "code",
      "execution_count": 24,
      "metadata": {
        "colab": {
          "base_uri": "https://localhost:8080/"
        },
        "id": "kzZeBM-xiv7l",
        "outputId": "5225d3a6-5027-4b5f-8f29-0e96862a2a82"
      },
      "outputs": [
        {
          "data": {
            "text/plain": [
              "<37922x91264 sparse matrix of type '<class 'numpy.int64'>'\n",
              "\twith 4072596 stored elements in Compressed Sparse Row format>"
            ]
          },
          "execution_count": 24,
          "metadata": {},
          "output_type": "execute_result"
        }
      ],
      "source": [
        "X_train_vec"
      ]
    },
    {
      "cell_type": "code",
      "execution_count": 25,
      "metadata": {
        "colab": {
          "base_uri": "https://localhost:8080/"
        },
        "id": "XlZMWWGUiy19",
        "outputId": "4312f6fc-391c-4c8d-fef7-8c570a2c8c6e"
      },
      "outputs": [
        {
          "data": {
            "text/plain": [
              "136"
            ]
          },
          "execution_count": 25,
          "metadata": {},
          "output_type": "execute_result"
        }
      ],
      "source": [
        "round(sum([len(i.split()) for i in X_train]) / len(X_train))"
      ]
    },
    {
      "cell_type": "markdown",
      "metadata": {
        "id": "5DK2X1DnujGv"
      },
      "source": [
        "We have 136 non-zero element and 91264 vocabs in our corpus."
      ]
    },
    {
      "cell_type": "markdown",
      "metadata": {
        "id": "3p-jtUuwvDub"
      },
      "source": [
        "Next we will setup the vectorization. We will use **75000** as our `max_vocab_length` and **136** as our `max_length`"
      ]
    },
    {
      "cell_type": "code",
      "execution_count": 27,
      "metadata": {
        "id": "TNKlNJdsi3AX"
      },
      "outputs": [],
      "source": [
        "# Setup Vectorization\n",
        "max_vocab_length = 75000\n",
        "max_length = 136\n",
        "\n",
        "text_vectorization = TextVectorization(max_tokens=max_vocab_length,\n",
        "                                       standardize=\"lower_and_strip_punctuation\",\n",
        "                                       split=\"whitespace\",\n",
        "                                       ngrams=None,\n",
        "                                       output_mode=\"int\",\n",
        "                                       output_sequence_length=max_length,\n",
        "                                       input_shape=(1,))                                       "
      ]
    },
    {
      "cell_type": "markdown",
      "metadata": {
        "id": "4kcKxAEtvIOw"
      },
      "source": [
        "Then we adapt the text vectorization to our X_train"
      ]
    },
    {
      "cell_type": "code",
      "execution_count": 28,
      "metadata": {
        "id": "x674m3_rkHlw"
      },
      "outputs": [],
      "source": [
        "text_vectorization.adapt(X_train)"
      ]
    },
    {
      "cell_type": "markdown",
      "metadata": {
        "id": "dNbwsb7uwnzx"
      },
      "source": [
        "## **6. Model Definition**"
      ]
    },
    {
      "cell_type": "markdown",
      "metadata": {
        "id": "SlxZY322w7A_"
      },
      "source": [
        "First we will define the Embedding layer."
      ]
    },
    {
      "cell_type": "code",
      "execution_count": 49,
      "metadata": {
        "id": "lb1z0NL1mYHa"
      },
      "outputs": [],
      "source": [
        "embed_layer = Embedding(input_dim=max_vocab_length,\n",
        "                        output_dim=150,\n",
        "                        embeddings_initializer=\"uniform\",\n",
        "                        input_length=max_length\n",
        "                       )"
      ]
    },
    {
      "cell_type": "markdown",
      "metadata": {
        "id": "_GYrF5svtdzC"
      },
      "source": [
        "### **7.1 Fully Connected Layer**"
      ]
    },
    {
      "cell_type": "markdown",
      "metadata": {},
      "source": [
        "Layers explanation:\n",
        "\n",
        "* We will use Sequential API\n",
        "* The input layer is defined in the Text Vectorization\n",
        "* There are 3 hidden layers:\n",
        "    * **Embedding Layer** for converting each word into a vector with a fixed length\n",
        "    * **GlobalAveragePooling1D** to make `logits` and `labels` have the same shape\n",
        "    * **Dense Layer** with 64 neurons, with activation function `elu`\n",
        "* We will dropout 0.2 to prevent overfitting.\n",
        "* Output layer is using `sigmoid` as the activation function\n",
        "* The loss is `binary_croessentropy` because this is binary class classification task\n",
        "* The optimizer that will be used is `adam` (The latest one)\n",
        "* The metrics that will be monitored is `accuracy`"
      ]
    },
    {
      "cell_type": "code",
      "execution_count": 51,
      "metadata": {
        "id": "rI54xsj3mNbQ"
      },
      "outputs": [],
      "source": [
        "model_full = Sequential()\n",
        "\n",
        "model_full.add(text_vectorization)\n",
        "model_full.add(embed_layer)\n",
        "model_full.add(Dropout(0.2))\n",
        "model_full.add(GlobalAveragePooling1D())\n",
        "model_full.add(Dense(64, activation='elu'))\n",
        "model_full.add(Dropout(0.2))\n",
        "model_full.add(Dense(2, activation='sigmoid'))\n",
        "\n",
        "model_full.compile(loss='binary_crossentropy',\n",
        "                   optimizer='adam',\n",
        "                   metrics=['accuracy'])"
      ]
    },
    {
      "cell_type": "markdown",
      "metadata": {},
      "source": [
        "For our model improvement, we will try to use **GRU**."
      ]
    },
    {
      "cell_type": "markdown",
      "metadata": {
        "id": "6EbGfWA8xeAg"
      },
      "source": [
        "### **7.2 GRU**"
      ]
    },
    {
      "cell_type": "markdown",
      "metadata": {},
      "source": [
        "This model is aimed to improve the previous one.\n",
        "\n",
        "Layers explanation:\n",
        "\n",
        "* We will use Sequential API\n",
        "* The input layer is defined in the Text Vectorization\n",
        "* There are 2 hidden layers:\n",
        "    * **Embedding Layer** for converting each word into a vector with a fixed length\n",
        "    * **GRU layer** is used so the model does not use any non-useful information from the past. It hsa 36 neurons, the activation function is the default which is `tanh`\n",
        "* We will use dropout to prevent overfitting\n",
        "* Output layer is using `sigmoid` as the activation function\n",
        "* The loss is `binary_croessentropy` because this is binary class classification task\n",
        "* The optimizer that will be used is `adam` (The latest one)\n",
        "* The metrics that will be monitored is `accuracy`"
      ]
    },
    {
      "cell_type": "code",
      "execution_count": 57,
      "metadata": {
        "id": "kUIm1j2yxADN"
      },
      "outputs": [],
      "source": [
        "model_gru = Sequential()\n",
        "\n",
        "model_gru.add(text_vectorization)\n",
        "model_gru.add(embed_layer)\n",
        "model_gru.add(Dropout(0.8))\n",
        "model_gru.add(GRU(36))\n",
        "model_gru.add(Dropout(0.8))\n",
        "model_gru.add(Dense(2, activation='sigmoid'))\n",
        "\n",
        "\n",
        "model_gru.compile(loss='binary_crossentropy',\n",
        "                  optimizer='adam',\n",
        "                  metrics=['accuracy'])"
      ]
    },
    {
      "cell_type": "markdown",
      "metadata": {
        "id": "o39WhxASs3xB"
      },
      "source": [
        "## **7. Model Training**"
      ]
    },
    {
      "cell_type": "markdown",
      "metadata": {
        "id": "m02SSSZwyh7_"
      },
      "source": [
        "### **7.1 Fully Connected Layer**"
      ]
    },
    {
      "cell_type": "code",
      "execution_count": 52,
      "metadata": {
        "colab": {
          "base_uri": "https://localhost:8080/"
        },
        "id": "Bor6YyuDmP3x",
        "outputId": "75a8d1e3-6bbf-4166-916c-233fa270e186"
      },
      "outputs": [
        {
          "name": "stdout",
          "output_type": "stream",
          "text": [
            "Epoch 1/50\n",
            "1186/1186 [==============================] - 14s 11ms/step - loss: 0.3508 - accuracy: 0.8448 - val_loss: 0.2808 - val_accuracy: 0.8844\n",
            "Epoch 2/50\n",
            "1186/1186 [==============================] - 13s 11ms/step - loss: 0.1681 - accuracy: 0.9372 - val_loss: 0.3172 - val_accuracy: 0.8790\n",
            "Epoch 3/50\n",
            "1186/1186 [==============================] - 13s 11ms/step - loss: 0.0898 - accuracy: 0.9690 - val_loss: 0.4097 - val_accuracy: 0.8723\n",
            "Epoch 4/50\n",
            "1186/1186 [==============================] - 12s 10ms/step - loss: 0.0491 - accuracy: 0.9839 - val_loss: 0.5642 - val_accuracy: 0.8654\n"
          ]
        }
      ],
      "source": [
        "# Define callback\n",
        "callback = EarlyStopping(monitor='val_accuracy', patience=3)\n",
        "\n",
        "model_full_hist = model_full.fit(X_train,\n",
        "                                 y_train_ohe,\n",
        "                                 epochs=50,\n",
        "                                 validation_data=(X_val, y_val_ohe),\n",
        "                                 callbacks=[callback])"
      ]
    },
    {
      "cell_type": "markdown",
      "metadata": {
        "id": "Z3Ye-c5I2jkq"
      },
      "source": [
        "The training stopped at 4th epoch "
      ]
    },
    {
      "cell_type": "markdown",
      "metadata": {
        "id": "QO0SIiDBy69G"
      },
      "source": [
        "### **7.2 GRU**"
      ]
    },
    {
      "cell_type": "code",
      "execution_count": 58,
      "metadata": {
        "colab": {
          "base_uri": "https://localhost:8080/"
        },
        "id": "Md-yea3hy9FV",
        "outputId": "26e0a6e5-dc00-447e-dff9-0daa6d938945"
      },
      "outputs": [
        {
          "name": "stdout",
          "output_type": "stream",
          "text": [
            "Epoch 1/50\n",
            "1186/1186 [==============================] - 20s 16ms/step - loss: 0.3239 - accuracy: 0.8774 - val_loss: 0.4890 - val_accuracy: 0.8552\n",
            "Epoch 2/50\n",
            "1186/1186 [==============================] - 18s 15ms/step - loss: 0.3110 - accuracy: 0.9002 - val_loss: 0.4140 - val_accuracy: 0.8318\n",
            "Epoch 3/50\n",
            "1186/1186 [==============================] - 18s 15ms/step - loss: 0.2323 - accuracy: 0.9433 - val_loss: 0.4675 - val_accuracy: 0.8626\n",
            "Epoch 4/50\n",
            "1186/1186 [==============================] - 18s 15ms/step - loss: 0.2635 - accuracy: 0.9207 - val_loss: 0.4559 - val_accuracy: 0.8574\n",
            "Epoch 5/50\n",
            "1186/1186 [==============================] - 18s 15ms/step - loss: 0.1440 - accuracy: 0.9656 - val_loss: 0.4944 - val_accuracy: 0.8638\n",
            "Epoch 6/50\n",
            "1186/1186 [==============================] - 18s 15ms/step - loss: 0.0805 - accuracy: 0.9789 - val_loss: 0.5231 - val_accuracy: 0.8721\n",
            "Epoch 7/50\n",
            "1186/1186 [==============================] - 18s 15ms/step - loss: 0.0526 - accuracy: 0.9842 - val_loss: 0.6896 - val_accuracy: 0.8669\n",
            "Epoch 8/50\n",
            "1186/1186 [==============================] - 18s 15ms/step - loss: 0.0448 - accuracy: 0.9873 - val_loss: 0.7333 - val_accuracy: 0.8602\n",
            "Epoch 9/50\n",
            "1186/1186 [==============================] - 18s 15ms/step - loss: 0.0393 - accuracy: 0.9883 - val_loss: 0.8100 - val_accuracy: 0.8657\n"
          ]
        }
      ],
      "source": [
        "model_gru_hist = model_gru.fit(X_train,\n",
        "                               y_train_ohe,\n",
        "                               epochs=50,\n",
        "                               validation_data=(X_val, y_val_ohe),\n",
        "                               callbacks=[callback])"
      ]
    },
    {
      "cell_type": "markdown",
      "metadata": {
        "id": "Zhv170Sf3CCs"
      },
      "source": [
        "The training stopped at 9th epoch. It took more epochs than the Fully Connected Layer."
      ]
    },
    {
      "cell_type": "markdown",
      "metadata": {
        "id": "oY-G7IIEzGdB"
      },
      "source": [
        "## **8. Model Evaluation**"
      ]
    },
    {
      "cell_type": "markdown",
      "metadata": {
        "id": "ZE9Qco9E09of"
      },
      "source": [
        "### **8.1 Fully Connected Layer**"
      ]
    },
    {
      "cell_type": "markdown",
      "metadata": {
        "id": "aBWTJVf81VAt"
      },
      "source": [
        "Let's see the plot of train and validation loss"
      ]
    },
    {
      "cell_type": "code",
      "execution_count": 53,
      "metadata": {
        "colab": {
          "base_uri": "https://localhost:8080/",
          "height": 282
        },
        "id": "KwsHQmeTpSdV",
        "outputId": "4505f433-35cd-4d0b-aa8e-5508684309ce"
      },
      "outputs": [
        {
          "data": {
            "text/plain": [
              "<matplotlib.axes._subplots.AxesSubplot at 0x7fe03ea76a50>"
            ]
          },
          "execution_count": 53,
          "metadata": {},
          "output_type": "execute_result"
        },
        {
          "data": {
            "image/png": "[encoded data removed]",
            "text/plain": [
              "<Figure size 432x288 with 1 Axes>"
            ]
          },
          "metadata": {
            "needs_background": "light"
          },
          "output_type": "display_data"
        }
      ],
      "source": [
        "metrics_full = pd.DataFrame(model_full_hist.history)\n",
        "metrics_full[['loss', 'val_loss']].plot()"
      ]
    },
    {
      "cell_type": "markdown",
      "metadata": {
        "id": "rTXeuffU1c9I"
      },
      "source": [
        "Next we will see the plot of train and validation accuracy"
      ]
    },
    {
      "cell_type": "code",
      "execution_count": 54,
      "metadata": {
        "colab": {
          "base_uri": "https://localhost:8080/",
          "height": 282
        },
        "id": "SmKh_FzsfNyD",
        "outputId": "83ddeef6-75b8-474b-b141-cade581c0c69"
      },
      "outputs": [
        {
          "data": {
            "text/plain": [
              "<matplotlib.axes._subplots.AxesSubplot at 0x7fe03ea8f850>"
            ]
          },
          "execution_count": 54,
          "metadata": {},
          "output_type": "execute_result"
        },
        {
          "data": {
            "image/png": "[encoded data removed]",
            "text/plain": [
              "<Figure size 432x288 with 1 Axes>"
            ]
          },
          "metadata": {
            "needs_background": "light"
          },
          "output_type": "display_data"
        }
      ],
      "source": [
        "metrics_full[['accuracy', 'val_accuracy']].plot()"
      ]
    },
    {
      "cell_type": "markdown",
      "metadata": {
        "id": "iUyIoAKy3L5b"
      },
      "source": [
        "From the plot above we can see that the model is overfitted. "
      ]
    },
    {
      "cell_type": "code",
      "execution_count": 55,
      "metadata": {
        "colab": {
          "base_uri": "https://localhost:8080/"
        },
        "id": "PbnRskf9pUfJ",
        "outputId": "dbf7fd42-74a0-4c0b-dc88-43cf1301b67b"
      },
      "outputs": [
        {
          "name": "stdout",
          "output_type": "stream",
          "text": [
            "              precision    recall  f1-score   support\n",
            "\n",
            "           0       0.89      0.84      0.86      2099\n",
            "           1       0.85      0.89      0.87      2115\n",
            "\n",
            "    accuracy                           0.87      4214\n",
            "   macro avg       0.87      0.87      0.87      4214\n",
            "weighted avg       0.87      0.87      0.87      4214\n",
            "\n"
          ]
        }
      ],
      "source": [
        "y_pred_val_full = model_full.predict(X_val)\n",
        "y_pred_val_full = y_pred_val_full.argmax(axis=1)\n",
        "print(classification_report(y_val, y_pred_val_full))"
      ]
    },
    {
      "cell_type": "code",
      "execution_count": 56,
      "metadata": {
        "colab": {
          "base_uri": "https://localhost:8080/"
        },
        "id": "o0ovdey0Sk_X",
        "outputId": "4eb123ed-b614-46ff-f814-05cf3a6dfcac"
      },
      "outputs": [
        {
          "name": "stdout",
          "output_type": "stream",
          "text": [
            "              precision    recall  f1-score   support\n",
            "\n",
            "           0       0.89      0.84      0.86      2099\n",
            "           1       0.85      0.89      0.87      2115\n",
            "\n",
            "    accuracy                           0.87      4214\n",
            "   macro avg       0.87      0.87      0.87      4214\n",
            "weighted avg       0.87      0.87      0.87      4214\n",
            "\n"
          ]
        }
      ],
      "source": [
        "y_test_val_full = model_full.predict(X_val)\n",
        "y_test_val_full = y_test_val_full.argmax(axis=1)\n",
        "print(classification_report(y_val, y_test_val_full))"
      ]
    },
    {
      "cell_type": "markdown",
      "metadata": {
        "id": "2bUpFBSb49ZI"
      },
      "source": [
        "**Evaluation results:**\n",
        "\n",
        "*   The accuracy is **0.87** which is good, that means out prediction is **87% correct**.\n",
        "*   The precision is **0.89** which is good, that means we predicted **89% of the positive class that has been predicted are correct**.\n",
        "*   The recall is **0.84** which is also good, that means we predicted **84% of the positive class corrrectly**.\n",
        "\n",
        "\n",
        "\n",
        "\n",
        "\n"
      ]
    },
    {
      "cell_type": "markdown",
      "metadata": {
        "id": "oJq9lZiB0rZm"
      },
      "source": [
        "### **8.2 GRU**\n",
        "\n",
        "Now let's see how our model improves after using **GRU**."
      ]
    },
    {
      "cell_type": "markdown",
      "metadata": {
        "id": "4TqKPU221_W4"
      },
      "source": [
        "Let's see the plot of train and validation loss"
      ]
    },
    {
      "cell_type": "code",
      "execution_count": 59,
      "metadata": {
        "colab": {
          "base_uri": "https://localhost:8080/",
          "height": 282
        },
        "id": "BOB56xNkalOo",
        "outputId": "ec39101f-ca1b-4c59-dff5-d65f2d8ff17c"
      },
      "outputs": [
        {
          "data": {
            "text/plain": [
              "<matplotlib.axes._subplots.AxesSubplot at 0x7fe03b9d6790>"
            ]
          },
          "execution_count": 59,
          "metadata": {},
          "output_type": "execute_result"
        },
        {
          "data": {
            "image/png": "[encoded data removed]",
            "text/plain": [
              "<Figure size 432x288 with 1 Axes>"
            ]
          },
          "metadata": {
            "needs_background": "light"
          },
          "output_type": "display_data"
        }
      ],
      "source": [
        "metrics_gru = pd.DataFrame(model_gru_hist.history)\n",
        "metrics_gru[['loss', 'val_loss']].plot()"
      ]
    },
    {
      "cell_type": "markdown",
      "metadata": {
        "id": "cRxxN9EJ1_XA"
      },
      "source": [
        "Next we will see the plot of train and validation accuracy"
      ]
    },
    {
      "cell_type": "code",
      "execution_count": 60,
      "metadata": {
        "colab": {
          "base_uri": "https://localhost:8080/",
          "height": 282
        },
        "id": "vLgxqufV54jp",
        "outputId": "f7bbc1a2-aae0-421e-d3d4-103f5b893639"
      },
      "outputs": [
        {
          "data": {
            "text/plain": [
              "<matplotlib.axes._subplots.AxesSubplot at 0x7fe03b0e0f50>"
            ]
          },
          "execution_count": 60,
          "metadata": {},
          "output_type": "execute_result"
        },
        {
          "data": {
            "image/png": "[encoded data removed]",
            "text/plain": [
              "<Figure size 432x288 with 1 Axes>"
            ]
          },
          "metadata": {
            "needs_background": "light"
          },
          "output_type": "display_data"
        }
      ],
      "source": [
        "metrics_gru[['accuracy', 'val_accuracy']].plot()"
      ]
    },
    {
      "cell_type": "markdown",
      "metadata": {
        "id": "KbPnpFGD48Bh"
      },
      "source": [
        "From the plot above we can see that the model is overfitted. But if we take a look at the epochs result, the gap between train score and val score is not that far."
      ]
    },
    {
      "cell_type": "code",
      "execution_count": 61,
      "metadata": {
        "colab": {
          "base_uri": "https://localhost:8080/"
        },
        "id": "yeVKV6cjatux",
        "outputId": "ddd5e86c-28c1-493b-bbce-10ef8d45de44"
      },
      "outputs": [
        {
          "name": "stdout",
          "output_type": "stream",
          "text": [
            "              precision    recall  f1-score   support\n",
            "\n",
            "           0       0.87      0.86      0.86      2099\n",
            "           1       0.86      0.87      0.87      2115\n",
            "\n",
            "    accuracy                           0.87      4214\n",
            "   macro avg       0.87      0.87      0.87      4214\n",
            "weighted avg       0.87      0.87      0.87      4214\n",
            "\n"
          ]
        }
      ],
      "source": [
        "y_pred_val_gru = model_gru.predict(X_val)\n",
        "y_pred_val_gru = y_pred_val_gru.argmax(axis=1)\n",
        "print(classification_report(y_val, y_pred_val_gru))"
      ]
    },
    {
      "cell_type": "code",
      "execution_count": 62,
      "metadata": {
        "colab": {
          "base_uri": "https://localhost:8080/"
        },
        "id": "W-jZXO3UeXBZ",
        "outputId": "b6e44843-f3d8-4ad9-a939-d007621ab23a"
      },
      "outputs": [
        {
          "name": "stdout",
          "output_type": "stream",
          "text": [
            "              precision    recall  f1-score   support\n",
            "\n",
            "           0       0.88      0.86      0.87      3704\n",
            "           1       0.86      0.89      0.87      3732\n",
            "\n",
            "    accuracy                           0.87      7436\n",
            "   macro avg       0.87      0.87      0.87      7436\n",
            "weighted avg       0.87      0.87      0.87      7436\n",
            "\n"
          ]
        }
      ],
      "source": [
        "y_pred_test_gru = model_gru.predict(X_test)\n",
        "y_pred_test_gru = y_pred_test_gru.argmax(axis=1)\n",
        "print(classification_report(y_test, y_pred_test_gru))"
      ]
    },
    {
      "cell_type": "markdown",
      "metadata": {
        "id": "HaFpG3Jf7hKS"
      },
      "source": [
        "**Evaluation results:**\n",
        "\n",
        "*   The accuracy is **0.87** which is good, that means out prediction is **87% correct**.\n",
        "*   The precision is **0.88** which is good, that means we predicted **88% of the positive class that has been predicted are correct**.\n",
        "*   The recall is **0.86** which is also good, that means we predicted **84% of the positive class corrrectly**.\n",
        "\n",
        "The recall is improved."
      ]
    },
    {
      "cell_type": "markdown",
      "metadata": {
        "id": "YGXhgZhU7pqd"
      },
      "source": [
        "Considering all metrics, we will choose `GRU` for our deployment."
      ]
    },
    {
      "cell_type": "markdown",
      "metadata": {
        "id": "tP-DGyLL9eDy"
      },
      "source": [
        "## **9. Model Saving**\n",
        "\n",
        "We will save the model that will be trained using Tensorflow pipeline first."
      ]
    },
    {
      "cell_type": "code",
      "execution_count": 65,
      "metadata": {
        "colab": {
          "base_uri": "https://localhost:8080/"
        },
        "id": "p7FQHEC39g_j",
        "outputId": "d23be60f-4243-4eea-c479-b240fca1d6d2"
      },
      "outputs": [
        {
          "name": "stdout",
          "output_type": "stream",
          "text": [
            "Epoch 1/50\n",
            "759/759 [==============================] - 14s 16ms/step - loss: 0.4253 - accuracy: 0.8309 - val_loss: 0.5395 - val_accuracy: 0.8344\n",
            "Epoch 2/50\n",
            "759/759 [==============================] - 12s 16ms/step - loss: 0.3780 - accuracy: 0.8602 - val_loss: 0.5203 - val_accuracy: 0.8372\n",
            "Epoch 3/50\n",
            "759/759 [==============================] - 12s 16ms/step - loss: 0.2053 - accuracy: 0.9514 - val_loss: 0.5239 - val_accuracy: 0.8493\n",
            "Epoch 4/50\n",
            "759/759 [==============================] - 12s 16ms/step - loss: 0.1809 - accuracy: 0.9570 - val_loss: 0.5814 - val_accuracy: 0.8529\n",
            "Epoch 5/50\n",
            "759/759 [==============================] - 12s 16ms/step - loss: 0.1475 - accuracy: 0.9705 - val_loss: 0.7400 - val_accuracy: 0.8268\n",
            "Epoch 6/50\n",
            "759/759 [==============================] - 12s 16ms/step - loss: 0.1353 - accuracy: 0.9723 - val_loss: 0.6016 - val_accuracy: 0.8593\n",
            "Epoch 7/50\n",
            "759/759 [==============================] - 12s 16ms/step - loss: 0.0944 - accuracy: 0.9824 - val_loss: 0.6049 - val_accuracy: 0.8631\n",
            "Epoch 8/50\n",
            "759/759 [==============================] - 12s 15ms/step - loss: 0.0610 - accuracy: 0.9877 - val_loss: 0.6936 - val_accuracy: 0.8624\n",
            "Epoch 9/50\n",
            "759/759 [==============================] - 13s 17ms/step - loss: 0.0438 - accuracy: 0.9883 - val_loss: 0.7469 - val_accuracy: 0.8621\n",
            "Epoch 10/50\n",
            "759/759 [==============================] - 16s 21ms/step - loss: 0.0369 - accuracy: 0.9896 - val_loss: 0.6664 - val_accuracy: 0.8659\n",
            "Epoch 11/50\n",
            "759/759 [==============================] - 12s 16ms/step - loss: 0.0309 - accuracy: 0.9917 - val_loss: 0.8329 - val_accuracy: 0.8633\n",
            "Epoch 12/50\n",
            "759/759 [==============================] - 12s 16ms/step - loss: 0.0265 - accuracy: 0.9928 - val_loss: 0.9502 - val_accuracy: 0.8588\n",
            "Epoch 13/50\n",
            "759/759 [==============================] - 12s 16ms/step - loss: 0.0267 - accuracy: 0.9922 - val_loss: 0.9789 - val_accuracy: 0.8602\n"
          ]
        },
        {
          "data": {
            "text/plain": [
              "<keras.callbacks.History at 0x7fe03b072590>"
            ]
          },
          "execution_count": 65,
          "metadata": {},
          "output_type": "execute_result"
        }
      ],
      "source": [
        "# Define pipeline for train, val, and test set\n",
        "train_set = tf.data.Dataset.from_tensor_slices((X_train, y_train_ohe))\n",
        "train_set = train_set.batch(50)\n",
        "\n",
        "val_set = tf.data.Dataset.from_tensor_slices((X_val, y_val_ohe))\n",
        "val_set = val_set.batch(50)\n",
        "\n",
        "test_set = tf.data.Dataset.from_tensor_slices((X_test, y_test_ohe))\n",
        "test_set = test_set.batch(50)\n",
        "\n",
        "# Define the model_pipe\n",
        "model_pipe = Sequential()\n",
        "model_pipe.add(text_vectorization)\n",
        "model_pipe.add(embed_layer)\n",
        "model_pipe.add(Dropout(0.8))\n",
        "model_pipe.add(GRU(36))\n",
        "model_pipe.add(Dropout(0.8))\n",
        "model_pipe.add(Dense(2, activation='sigmoid'))\n",
        "\n",
        "model_pipe.compile(loss='binary_crossentropy',\n",
        "                   optimizer='adam',\n",
        "                   metrics=['accuracy'],\n",
        "                   )\n",
        "\n",
        "model_pipe.fit(train_set, epochs=50, validation_data=val_set, callbacks=[callback])"
      ]
    },
    {
      "cell_type": "code",
      "execution_count": 66,
      "metadata": {
        "colab": {
          "base_uri": "https://localhost:8080/"
        },
        "id": "Vo2BG5TnOAd9",
        "outputId": "bb667878-cce6-4399-e71b-1dc596a1bd47"
      },
      "outputs": [
        {
          "name": "stderr",
          "output_type": "stream",
          "text": [
            "WARNING:absl:Found untraced functions such as gru_cell_2_layer_call_fn, gru_cell_2_layer_call_and_return_conditional_losses while saving (showing 2 of 2). These functions will not be directly callable after loading.\n"
          ]
        },
        {
          "name": "stdout",
          "output_type": "stream",
          "text": [
            "INFO:tensorflow:Assets written to: imdb_model/assets\n"
          ]
        },
        {
          "name": "stderr",
          "output_type": "stream",
          "text": [
            "INFO:tensorflow:Assets written to: imdb_model/assets\n",
            "WARNING:absl:<keras.layers.recurrent.GRUCell object at 0x7fe03af65490> has the same name 'GRUCell' as a built-in Keras object. Consider renaming <class 'keras.layers.recurrent.GRUCell'> to avoid naming conflicts when loading with `tf.keras.models.load_model`. If renaming is not possible, pass the object in the `custom_objects` parameter of the load function.\n"
          ]
        }
      ],
      "source": [
        "model_pipe.save('imdb_model')"
      ]
    },
    {
      "cell_type": "markdown",
      "metadata": {},
      "source": [
        "We will zip the folder so that it can be downloaded to our local storage."
      ]
    },
    {
      "cell_type": "code",
      "execution_count": 67,
      "metadata": {
        "colab": {
          "base_uri": "https://localhost:8080/"
        },
        "id": "sutDFAkGPcqq",
        "outputId": "25e2934f-a46f-4258-cd6a-d22d36760779"
      },
      "outputs": [
        {
          "name": "stdout",
          "output_type": "stream",
          "text": [
            "  adding: content/imdb_model/ (stored 0%)\n",
            "  adding: content/imdb_model/assets/ (stored 0%)\n",
            "  adding: content/imdb_model/keras_metadata.pb (deflated 87%)\n",
            "  adding: content/imdb_model/saved_model.pb (deflated 74%)\n",
            "  adding: content/imdb_model/variables/ (stored 0%)\n",
            "  adding: content/imdb_model/variables/variables.index (deflated 59%)\n",
            "  adding: content/imdb_model/variables/variables.data-00000-of-00001 (deflated 19%)\n"
          ]
        }
      ],
      "source": [
        "!zip -r /content/Model.zip /content/imdb_model"
      ]
    },
    {
      "cell_type": "code",
      "execution_count": 68,
      "metadata": {
        "colab": {
          "base_uri": "https://localhost:8080/",
          "height": 17
        },
        "id": "7JxSzYySPt3q",
        "outputId": "3b65a694-0f31-485d-8036-d694cbdc6571"
      },
      "outputs": [
        {
          "data": {
            "application/javascript": "\n    async function download(id, filename, size) {\n      if (!google.colab.kernel.accessAllowed) {\n        return;\n      }\n      const div = document.createElement('div');\n      const label = document.createElement('label');\n      label.textContent = `Downloading \"${filename}\": `;\n      div.appendChild(label);\n      const progress = document.createElement('progress');\n      progress.max = size;\n      div.appendChild(progress);\n      document.body.appendChild(div);\n\n      const buffers = [];\n      let downloaded = 0;\n\n      const channel = await google.colab.kernel.comms.open(id);\n      // Send a message to notify the kernel that we're ready.\n      channel.send({})\n\n      for await (const message of channel.messages) {\n        // Send a message to notify the kernel that we're ready.\n        channel.send({})\n        if (message.buffers) {\n          for (const buffer of message.buffers) {\n            buffers.push(buffer);\n            downloaded += buffer.byteLength;\n            progress.value = downloaded;\n          }\n        }\n      }\n      const blob = new Blob(buffers, {type: 'application/binary'});\n      const a = document.createElement('a');\n      a.href = window.URL.createObjectURL(blob);\n      a.download = filename;\n      div.appendChild(a);\n      a.click();\n      div.remove();\n    }\n  ",
            "text/plain": [
              "<IPython.core.display.Javascript object>"
            ]
          },
          "metadata": {},
          "output_type": "display_data"
        },
        {
          "data": {
            "application/javascript": "download(\"download_78b3199a-b5f0-48c6-be32-0ffa370a0b8b\", \"Model.zip\", 110471981)",
            "text/plain": [
              "<IPython.core.display.Javascript object>"
            ]
          },
          "metadata": {},
          "output_type": "display_data"
        }
      ],
      "source": [
        "from google.colab import files\n",
        "files.download('/content/Model.zip')"
      ]
    },
    {
      "cell_type": "markdown",
      "metadata": {},
      "source": [
        "After we download the model as zip, we will unzip it and use it for model deployment using **Streamlit**"
      ]
    },
    {
      "cell_type": "markdown",
      "metadata": {
        "id": "SoO59UJg877e"
      },
      "source": [
        "## **10. Model Inference**\n",
        "\n",
        "In our model inference, we will not do stopwords removal anymore because it has been done before the data was splitted."
      ]
    },
    {
      "cell_type": "markdown",
      "metadata": {},
      "source": [
        "First we load our model"
      ]
    },
    {
      "cell_type": "code",
      "execution_count": 71,
      "metadata": {
        "id": "YDHw2dpROLBv"
      },
      "outputs": [],
      "source": [
        "model_inf = tf.keras.models.load_model('imdb_model')"
      ]
    },
    {
      "cell_type": "markdown",
      "metadata": {},
      "source": [
        "Then we do the prediction using the model"
      ]
    },
    {
      "cell_type": "code",
      "execution_count": null,
      "metadata": {
        "colab": {
          "base_uri": "https://localhost:8080/"
        },
        "id": "LosOTimYOOAO",
        "outputId": "5067b08a-fc15-4109-a368-dc5fb7f92f79"
      },
      "outputs": [],
      "source": [
        "y_pred_inf = model_inf.predict(data_inf['review'])\n",
        "y_pred_inf = y_pred_inf.argmax(axis=1)\n",
        "y_pred_inf"
      ]
    },
    {
      "cell_type": "markdown",
      "metadata": {},
      "source": [
        "Now we want to see if the sentiment prediction matches the content of the movie review"
      ]
    },
    {
      "cell_type": "code",
      "execution_count": 75,
      "metadata": {
        "id": "dtGH7GT69t0C"
      },
      "outputs": [],
      "source": [
        "y_pred_inf_df = pd.DataFrame(y_pred_inf, columns=['pred-sentiment'])"
      ]
    },
    {
      "cell_type": "code",
      "execution_count": 83,
      "metadata": {
        "colab": {
          "base_uri": "https://localhost:8080/",
          "height": 363
        },
        "id": "VC8lMEMg9mzS",
        "outputId": "529e018e-a7f4-4754-8935-a4445850d7d3"
      },
      "outputs": [
        {
          "data": {
            "text/html": [
              "\n",
              "  <div id=\"df-1f26940b-82f3-423c-8401-06bb058f8d41\">\n",
              "    <div class=\"colab-df-container\">\n",
              "      <div>\n",
              "<style scoped>\n",
              "    .dataframe tbody tr th:only-of-type {\n",
              "        vertical-align: middle;\n",
              "    }\n",
              "\n",
              "    .dataframe tbody tr th {\n",
              "        vertical-align: top;\n",
              "    }\n",
              "\n",
              "    .dataframe thead th {\n",
              "        text-align: right;\n",
              "    }\n",
              "</style>\n",
              "<table border=\"1\" class=\"dataframe\">\n",
              "  <thead>\n",
              "    <tr style=\"text-align: right;\">\n",
              "      <th></th>\n",
              "      <th>review</th>\n",
              "      <th>pred-sentiment</th>\n",
              "    </tr>\n",
              "  </thead>\n",
              "  <tbody>\n",
              "    <tr>\n",
              "      <th>0</th>\n",
              "      <td>The movie would included Mystery Science Theat...</td>\n",
              "      <td>0</td>\n",
              "    </tr>\n",
              "    <tr>\n",
              "      <th>1</th>\n",
              "      <td>The Brothers Quay directors, judging conventio...</td>\n",
              "      <td>0</td>\n",
              "    </tr>\n",
              "    <tr>\n",
              "      <th>2</th>\n",
              "      <td>This film clever, witty often heart touching m...</td>\n",
              "      <td>1</td>\n",
              "    </tr>\n",
              "    <tr>\n",
              "      <th>3</th>\n",
              "      <td>This movie *good* relatively first parts it.&lt;b...</td>\n",
              "      <td>0</td>\n",
              "    </tr>\n",
              "    <tr>\n",
              "      <th>4</th>\n",
              "      <td>And I absolutely adore Isabelle Blais!!! She c...</td>\n",
              "      <td>1</td>\n",
              "    </tr>\n",
              "    <tr>\n",
              "      <th>5</th>\n",
              "      <td>A pre-Nerd Robert Carradine, pre-Automan Desi ...</td>\n",
              "      <td>0</td>\n",
              "    </tr>\n",
              "    <tr>\n",
              "      <th>6</th>\n",
              "      <td>A lot comments people made strike (sorry) miss...</td>\n",
              "      <td>1</td>\n",
              "    </tr>\n",
              "    <tr>\n",
              "      <th>7</th>\n",
              "      <td>The '80's best times worst times James Karin, ...</td>\n",
              "      <td>0</td>\n",
              "    </tr>\n",
              "    <tr>\n",
              "      <th>8</th>\n",
              "      <td>Fado sad almost bluesy style Portuguese Gypsy ...</td>\n",
              "      <td>0</td>\n",
              "    </tr>\n",
              "    <tr>\n",
              "      <th>9</th>\n",
              "      <td>I right watching \"The Big Chill\" DVD. One acto...</td>\n",
              "      <td>1</td>\n",
              "    </tr>\n",
              "  </tbody>\n",
              "</table>\n",
              "</div>\n",
              "      <button class=\"colab-df-convert\" onclick=\"convertToInteractive('df-1f26940b-82f3-423c-8401-06bb058f8d41')\"\n",
              "              title=\"Convert this dataframe to an interactive table.\"\n",
              "              style=\"display:none;\">\n",
              "        \n",
              "  <svg xmlns=\"http://www.w3.org/2000/svg\" height=\"24px\"viewBox=\"0 0 24 24\"\n",
              "       width=\"24px\">\n",
              "    <path d=\"M0 0h24v24H0V0z\" fill=\"none\"/>\n",
              "    <path d=\"M18.56 5.44l.94 2.06.94-2.06 2.06-.94-2.06-.94-.94-2.06-.94 2.06-2.06.94zm-11 1L8.5 8.5l.94-2.06 2.06-.94-2.06-.94L8.5 2.5l-.94 2.06-2.06.94zm10 10l.94 2.06.94-2.06 2.06-.94-2.06-.94-.94-2.06-.94 2.06-2.06.94z\"/><path d=\"M17.41 7.96l-1.37-1.37c-.4-.4-.92-.59-1.43-.59-.52 0-1.04.2-1.43.59L10.3 9.45l-7.72 7.72c-.78.78-.78 2.05 0 2.83L4 21.41c.39.39.9.59 1.41.59.51 0 1.02-.2 1.41-.59l7.78-7.78 2.81-2.81c.8-.78.8-2.07 0-2.86zM5.41 20L4 18.59l7.72-7.72 1.47 1.35L5.41 20z\"/>\n",
              "  </svg>\n",
              "      </button>\n",
              "      \n",
              "  <style>\n",
              "    .colab-df-container {\n",
              "      display:flex;\n",
              "      flex-wrap:wrap;\n",
              "      gap: 12px;\n",
              "    }\n",
              "\n",
              "    .colab-df-convert {\n",
              "      background-color: #E8F0FE;\n",
              "      border: none;\n",
              "      border-radius: 50%;\n",
              "      cursor: pointer;\n",
              "      display: none;\n",
              "      fill: #1967D2;\n",
              "      height: 32px;\n",
              "      padding: 0 0 0 0;\n",
              "      width: 32px;\n",
              "    }\n",
              "\n",
              "    .colab-df-convert:hover {\n",
              "      background-color: #E2EBFA;\n",
              "      box-shadow: 0px 1px 2px rgba(60, 64, 67, 0.3), 0px 1px 3px 1px rgba(60, 64, 67, 0.15);\n",
              "      fill: #174EA6;\n",
              "    }\n",
              "\n",
              "    [theme=dark] .colab-df-convert {\n",
              "      background-color: #3B4455;\n",
              "      fill: #D2E3FC;\n",
              "    }\n",
              "\n",
              "    [theme=dark] .colab-df-convert:hover {\n",
              "      background-color: #434B5C;\n",
              "      box-shadow: 0px 1px 3px 1px rgba(0, 0, 0, 0.15);\n",
              "      filter: drop-shadow(0px 1px 2px rgba(0, 0, 0, 0.3));\n",
              "      fill: #FFFFFF;\n",
              "    }\n",
              "  </style>\n",
              "\n",
              "      <script>\n",
              "        const buttonEl =\n",
              "          document.querySelector('#df-1f26940b-82f3-423c-8401-06bb058f8d41 button.colab-df-convert');\n",
              "        buttonEl.style.display =\n",
              "          google.colab.kernel.accessAllowed ? 'block' : 'none';\n",
              "\n",
              "        async function convertToInteractive(key) {\n",
              "          const element = document.querySelector('#df-1f26940b-82f3-423c-8401-06bb058f8d41');\n",
              "          const dataTable =\n",
              "            await google.colab.kernel.invokeFunction('convertToInteractive',\n",
              "                                                     [key], {});\n",
              "          if (!dataTable) return;\n",
              "\n",
              "          const docLinkHtml = 'Like what you see? Visit the ' +\n",
              "            '<a target=\"_blank\" href=https://colab.research.google.com/notebooks/data_table.ipynb>data table notebook</a>'\n",
              "            + ' to learn more about interactive tables.';\n",
              "          element.innerHTML = '';\n",
              "          dataTable['output_type'] = 'display_data';\n",
              "          await google.colab.output.renderOutput(dataTable, element);\n",
              "          const docLink = document.createElement('div');\n",
              "          docLink.innerHTML = docLinkHtml;\n",
              "          element.appendChild(docLink);\n",
              "        }\n",
              "      </script>\n",
              "    </div>\n",
              "  </div>\n",
              "  "
            ],
            "text/plain": [
              "                                              review  pred-sentiment\n",
              "0  The movie would included Mystery Science Theat...               0\n",
              "1  The Brothers Quay directors, judging conventio...               0\n",
              "2  This film clever, witty often heart touching m...               1\n",
              "3  This movie *good* relatively first parts it.<b...               0\n",
              "4  And I absolutely adore Isabelle Blais!!! She c...               1\n",
              "5  A pre-Nerd Robert Carradine, pre-Automan Desi ...               0\n",
              "6  A lot comments people made strike (sorry) miss...               1\n",
              "7  The '80's best times worst times James Karin, ...               0\n",
              "8  Fado sad almost bluesy style Portuguese Gypsy ...               0\n",
              "9  I right watching \"The Big Chill\" DVD. One acto...               1"
            ]
          },
          "execution_count": 83,
          "metadata": {},
          "output_type": "execute_result"
        }
      ],
      "source": [
        "data_inf_pred = data_inf[['review']]\n",
        "data_inf_pred['pred-sentiment'] = y_pred_inf_df\n",
        "data_inf_pred"
      ]
    },
    {
      "cell_type": "markdown",
      "metadata": {},
      "source": [
        "The prediction is quite good."
      ]
    },
    {
      "cell_type": "markdown",
      "metadata": {
        "id": "bFvQVxA6-j9P"
      },
      "source": [
        "## **11. Conclusion**\n",
        "\n",
        "NLP is a highly challenging task that is really useful. In this case, we have just make a prediction for analyzing the sentiment of movie review, whether it is a positive or negative review.\n",
        "\n",
        "We used two algorithm, which are the RNN with Fully Connected Layer, and Gated Recurrent Unit (GRU). Both algorithms performed really well, the precision, recall, and accuracy are good. However, the model is a bit overfitted. The metrics score between the Fully Connected Layer and GRU are only slightly different in precision and recall. Fully Connected Layer has higher precision with the difference of 0.1, and GRU has higher recall with the difference of 0.2. Thus, I chose GRU for the deployment.\n",
        "\n",
        "The final metrics scores are: \n",
        "\n",
        "   **Accuracy    : 0.87**\n",
        "\n",
        "   **Precision   : 0.88**\n",
        "\n",
        "   **Recall      : 0.86**\n",
        "\n",
        "The scores are pretty good.\n",
        "\n",
        "The pre-processing methods that are applicable for this case was text vectorization that includes case folding and punctuation removal, and stopwords removal. I have tried to use stemming but the accuracy was not good so I decided to not use it. \n",
        "\n",
        "We have also tried our model using new data in the Model Inference section, and if we read the review, the predicted sentiment is quite correct.\n",
        "\n",
        "To sum up, both Fully Connected Layer and GRU are powerful model for NLP. I recommend to always try to compare them both in doing NLP tasks."
      ]
    }
  ],
  "metadata": {
    "accelerator": "GPU",
    "colab": {
      "collapsed_sections": [],
      "name": "DeepLearn_h8dsft_Milestone2P2_julio-putra-david.ipynb",
      "provenance": []
    },
    "interpreter": {
      "hash": "263930470851f494f0ed2879c35b57985588df20f9e529b86e97dd5eb9ddc466"
    },
    "kernelspec": {
      "display_name": "Python 3.9.7 ('base')",
      "language": "python",
      "name": "python3"
    },
    "language_info": {
      "codemirror_mode": {
        "name": "ipython",
        "version": 3
      },
      "file_extension": ".py",
      "mimetype": "text/x-python",
      "name": "python",
      "nbconvert_exporter": "python",
      "pygments_lexer": "ipython3",
      "version": "3.9.7"
    }
  },
  "nbformat": 4,
  "nbformat_minor": 0
}
