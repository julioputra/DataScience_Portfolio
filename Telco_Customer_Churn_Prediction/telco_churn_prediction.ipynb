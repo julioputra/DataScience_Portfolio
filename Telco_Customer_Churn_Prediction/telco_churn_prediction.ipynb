{
 "cells": [
  {
   "cell_type": "markdown",
   "metadata": {},
   "source": [
    "# **Milestone 1 Phase 2**\n",
    "\n",
    "Name: Julio Putra David\n",
    "\n",
    "Batch: 10\n",
    "\n",
    "Heroku deployment: https://h8-ml2-churn-predictor-julio.herokuapp.com/\n",
    "_______________"
   ]
  },
  {
   "cell_type": "markdown",
   "metadata": {},
   "source": [
    "## **1. Introduction**\n",
    "\n",
    "This notebook will cover the implementation of Artificial Neural Network on a prediction about whether the customers of a telco company will churn or not. The dataset contains information about a Telco Company in California that provided phone and internet services who had already had 7043 customers in the third quarter of the year. "
   ]
  },
  {
   "cell_type": "markdown",
   "metadata": {},
   "source": [
    "## **2. Import Libraries**"
   ]
  },
  {
   "cell_type": "code",
   "execution_count": 1,
   "metadata": {},
   "outputs": [],
   "source": [
    "# Basic Libraries\n",
    "import pandas as pd\n",
    "import matplotlib.pyplot as plt\n",
    "import seaborn as sns\n",
    "import numpy as np \n",
    "from scipy.stats import pearsonr\n",
    "import pickle\n",
    "\n",
    "# Pre-processing Libraries\n",
    "from sklearn.model_selection import train_test_split\n",
    "from feature_engine.outliers import Winsorizer, OutlierTrimmer\n",
    "from feature_engine.imputation import MeanMedianImputer\n",
    "from sklearn.preprocessing import StandardScaler, OneHotEncoder, OrdinalEncoder\n",
    "from sklearn.decomposition import PCA\n",
    "\n",
    "# Deep Learning Algorithm Libraries\n",
    "import tensorflow as tf\n",
    "from tensorflow.keras.models import Sequential, Model, load_model\n",
    "from tensorflow.keras.layers import Input, Dense, Dropout\n",
    "\n",
    "# Model Evaluation Libraries\n",
    "from sklearn.metrics import classification_report\n",
    "\n",
    "# Pipeline Libraries\n",
    "from sklearn.pipeline import Pipeline, make_pipeline\n",
    "from sklearn.compose import ColumnTransformer\n",
    "\n",
    "# Warning Neglect Library\n",
    "import warnings\n",
    "warnings.filterwarnings('ignore')"
   ]
  },
  {
   "cell_type": "markdown",
   "metadata": {},
   "source": [
    "## **3. Data Loading**"
   ]
  },
  {
   "cell_type": "code",
   "execution_count": 2,
   "metadata": {},
   "outputs": [
    {
     "data": {
      "text/html": [
       "<div>\n",
       "<style scoped>\n",
       "    .dataframe tbody tr th:only-of-type {\n",
       "        vertical-align: middle;\n",
       "    }\n",
       "\n",
       "    .dataframe tbody tr th {\n",
       "        vertical-align: top;\n",
       "    }\n",
       "\n",
       "    .dataframe thead th {\n",
       "        text-align: right;\n",
       "    }\n",
       "</style>\n",
       "<table border=\"1\" class=\"dataframe\">\n",
       "  <thead>\n",
       "    <tr style=\"text-align: right;\">\n",
       "      <th></th>\n",
       "      <th>customerID</th>\n",
       "      <th>gender</th>\n",
       "      <th>SeniorCitizen</th>\n",
       "      <th>Partner</th>\n",
       "      <th>Dependents</th>\n",
       "      <th>tenure</th>\n",
       "      <th>PhoneService</th>\n",
       "      <th>MultipleLines</th>\n",
       "      <th>InternetService</th>\n",
       "      <th>OnlineSecurity</th>\n",
       "      <th>...</th>\n",
       "      <th>DeviceProtection</th>\n",
       "      <th>TechSupport</th>\n",
       "      <th>StreamingTV</th>\n",
       "      <th>StreamingMovies</th>\n",
       "      <th>Contract</th>\n",
       "      <th>PaperlessBilling</th>\n",
       "      <th>PaymentMethod</th>\n",
       "      <th>MonthlyCharges</th>\n",
       "      <th>TotalCharges</th>\n",
       "      <th>Churn</th>\n",
       "    </tr>\n",
       "  </thead>\n",
       "  <tbody>\n",
       "    <tr>\n",
       "      <th>0</th>\n",
       "      <td>7590-VHVEG</td>\n",
       "      <td>Female</td>\n",
       "      <td>0</td>\n",
       "      <td>Yes</td>\n",
       "      <td>No</td>\n",
       "      <td>1</td>\n",
       "      <td>No</td>\n",
       "      <td>No phone service</td>\n",
       "      <td>DSL</td>\n",
       "      <td>No</td>\n",
       "      <td>...</td>\n",
       "      <td>No</td>\n",
       "      <td>No</td>\n",
       "      <td>No</td>\n",
       "      <td>No</td>\n",
       "      <td>Month-to-month</td>\n",
       "      <td>Yes</td>\n",
       "      <td>Electronic check</td>\n",
       "      <td>29.85</td>\n",
       "      <td>29.85</td>\n",
       "      <td>No</td>\n",
       "    </tr>\n",
       "    <tr>\n",
       "      <th>1</th>\n",
       "      <td>5575-GNVDE</td>\n",
       "      <td>Male</td>\n",
       "      <td>0</td>\n",
       "      <td>No</td>\n",
       "      <td>No</td>\n",
       "      <td>34</td>\n",
       "      <td>Yes</td>\n",
       "      <td>No</td>\n",
       "      <td>DSL</td>\n",
       "      <td>Yes</td>\n",
       "      <td>...</td>\n",
       "      <td>Yes</td>\n",
       "      <td>No</td>\n",
       "      <td>No</td>\n",
       "      <td>No</td>\n",
       "      <td>One year</td>\n",
       "      <td>No</td>\n",
       "      <td>Mailed check</td>\n",
       "      <td>56.95</td>\n",
       "      <td>1889.5</td>\n",
       "      <td>No</td>\n",
       "    </tr>\n",
       "    <tr>\n",
       "      <th>2</th>\n",
       "      <td>3668-QPYBK</td>\n",
       "      <td>Male</td>\n",
       "      <td>0</td>\n",
       "      <td>No</td>\n",
       "      <td>No</td>\n",
       "      <td>2</td>\n",
       "      <td>Yes</td>\n",
       "      <td>No</td>\n",
       "      <td>DSL</td>\n",
       "      <td>Yes</td>\n",
       "      <td>...</td>\n",
       "      <td>No</td>\n",
       "      <td>No</td>\n",
       "      <td>No</td>\n",
       "      <td>No</td>\n",
       "      <td>Month-to-month</td>\n",
       "      <td>Yes</td>\n",
       "      <td>Mailed check</td>\n",
       "      <td>53.85</td>\n",
       "      <td>108.15</td>\n",
       "      <td>Yes</td>\n",
       "    </tr>\n",
       "    <tr>\n",
       "      <th>3</th>\n",
       "      <td>7795-CFOCW</td>\n",
       "      <td>Male</td>\n",
       "      <td>0</td>\n",
       "      <td>No</td>\n",
       "      <td>No</td>\n",
       "      <td>45</td>\n",
       "      <td>No</td>\n",
       "      <td>No phone service</td>\n",
       "      <td>DSL</td>\n",
       "      <td>Yes</td>\n",
       "      <td>...</td>\n",
       "      <td>Yes</td>\n",
       "      <td>Yes</td>\n",
       "      <td>No</td>\n",
       "      <td>No</td>\n",
       "      <td>One year</td>\n",
       "      <td>No</td>\n",
       "      <td>Bank transfer (automatic)</td>\n",
       "      <td>42.30</td>\n",
       "      <td>1840.75</td>\n",
       "      <td>No</td>\n",
       "    </tr>\n",
       "    <tr>\n",
       "      <th>4</th>\n",
       "      <td>9237-HQITU</td>\n",
       "      <td>Female</td>\n",
       "      <td>0</td>\n",
       "      <td>No</td>\n",
       "      <td>No</td>\n",
       "      <td>2</td>\n",
       "      <td>Yes</td>\n",
       "      <td>No</td>\n",
       "      <td>Fiber optic</td>\n",
       "      <td>No</td>\n",
       "      <td>...</td>\n",
       "      <td>No</td>\n",
       "      <td>No</td>\n",
       "      <td>No</td>\n",
       "      <td>No</td>\n",
       "      <td>Month-to-month</td>\n",
       "      <td>Yes</td>\n",
       "      <td>Electronic check</td>\n",
       "      <td>70.70</td>\n",
       "      <td>151.65</td>\n",
       "      <td>Yes</td>\n",
       "    </tr>\n",
       "  </tbody>\n",
       "</table>\n",
       "<p>5 rows × 21 columns</p>\n",
       "</div>"
      ],
      "text/plain": [
       "   customerID  gender  SeniorCitizen Partner Dependents  tenure PhoneService  \\\n",
       "0  7590-VHVEG  Female              0     Yes         No       1           No   \n",
       "1  5575-GNVDE    Male              0      No         No      34          Yes   \n",
       "2  3668-QPYBK    Male              0      No         No       2          Yes   \n",
       "3  7795-CFOCW    Male              0      No         No      45           No   \n",
       "4  9237-HQITU  Female              0      No         No       2          Yes   \n",
       "\n",
       "      MultipleLines InternetService OnlineSecurity  ... DeviceProtection  \\\n",
       "0  No phone service             DSL             No  ...               No   \n",
       "1                No             DSL            Yes  ...              Yes   \n",
       "2                No             DSL            Yes  ...               No   \n",
       "3  No phone service             DSL            Yes  ...              Yes   \n",
       "4                No     Fiber optic             No  ...               No   \n",
       "\n",
       "  TechSupport StreamingTV StreamingMovies        Contract PaperlessBilling  \\\n",
       "0          No          No              No  Month-to-month              Yes   \n",
       "1          No          No              No        One year               No   \n",
       "2          No          No              No  Month-to-month              Yes   \n",
       "3         Yes          No              No        One year               No   \n",
       "4          No          No              No  Month-to-month              Yes   \n",
       "\n",
       "               PaymentMethod MonthlyCharges  TotalCharges Churn  \n",
       "0           Electronic check          29.85         29.85    No  \n",
       "1               Mailed check          56.95        1889.5    No  \n",
       "2               Mailed check          53.85        108.15   Yes  \n",
       "3  Bank transfer (automatic)          42.30       1840.75    No  \n",
       "4           Electronic check          70.70        151.65   Yes  \n",
       "\n",
       "[5 rows x 21 columns]"
      ]
     },
     "execution_count": 2,
     "metadata": {},
     "output_type": "execute_result"
    }
   ],
   "source": [
    "df = pd.read_csv('WA_Fn-UseC_-Telco-Customer-Churn.csv')\n",
    "df.head()"
   ]
  },
  {
   "cell_type": "code",
   "execution_count": 3,
   "metadata": {},
   "outputs": [
    {
     "name": "stdout",
     "output_type": "stream",
     "text": [
      "Number of rows    = 7043\n",
      "Number of columns = 21\n"
     ]
    }
   ],
   "source": [
    "r = df.shape[0]\n",
    "c = df.shape[1]\n",
    "print('Number of rows    =', r)\n",
    "print('Number of columns =', c)"
   ]
  },
  {
   "cell_type": "code",
   "execution_count": 4,
   "metadata": {},
   "outputs": [
    {
     "name": "stdout",
     "output_type": "stream",
     "text": [
      "<class 'pandas.core.frame.DataFrame'>\n",
      "RangeIndex: 7043 entries, 0 to 7042\n",
      "Data columns (total 21 columns):\n",
      " #   Column            Non-Null Count  Dtype  \n",
      "---  ------            --------------  -----  \n",
      " 0   customerID        7043 non-null   object \n",
      " 1   gender            7043 non-null   object \n",
      " 2   SeniorCitizen     7043 non-null   int64  \n",
      " 3   Partner           7043 non-null   object \n",
      " 4   Dependents        7043 non-null   object \n",
      " 5   tenure            7043 non-null   int64  \n",
      " 6   PhoneService      7043 non-null   object \n",
      " 7   MultipleLines     7043 non-null   object \n",
      " 8   InternetService   7043 non-null   object \n",
      " 9   OnlineSecurity    7043 non-null   object \n",
      " 10  OnlineBackup      7043 non-null   object \n",
      " 11  DeviceProtection  7043 non-null   object \n",
      " 12  TechSupport       7043 non-null   object \n",
      " 13  StreamingTV       7043 non-null   object \n",
      " 14  StreamingMovies   7043 non-null   object \n",
      " 15  Contract          7043 non-null   object \n",
      " 16  PaperlessBilling  7043 non-null   object \n",
      " 17  PaymentMethod     7043 non-null   object \n",
      " 18  MonthlyCharges    7043 non-null   float64\n",
      " 19  TotalCharges      7043 non-null   object \n",
      " 20  Churn             7043 non-null   object \n",
      "dtypes: float64(1), int64(2), object(18)\n",
      "memory usage: 1.1+ MB\n"
     ]
    }
   ],
   "source": [
    "df.info()"
   ]
  },
  {
   "cell_type": "markdown",
   "metadata": {},
   "source": [
    "Make a copy of the original dataset"
   ]
  },
  {
   "cell_type": "code",
   "execution_count": 5,
   "metadata": {},
   "outputs": [],
   "source": [
    "data = df.copy()"
   ]
  },
  {
   "cell_type": "markdown",
   "metadata": {},
   "source": [
    "## **4. Exploratory Data Analysis (EDA)**"
   ]
  },
  {
   "cell_type": "markdown",
   "metadata": {},
   "source": [
    "#### **1. List of numerical columns**"
   ]
  },
  {
   "cell_type": "code",
   "execution_count": 6,
   "metadata": {},
   "outputs": [
    {
     "data": {
      "text/plain": [
       "Index(['SeniorCitizen', 'tenure', 'MonthlyCharges'], dtype='object')"
      ]
     },
     "execution_count": 6,
     "metadata": {},
     "output_type": "execute_result"
    }
   ],
   "source": [
    "num_data = data.select_dtypes(include=np.number).columns\n",
    "num_data"
   ]
  },
  {
   "cell_type": "markdown",
   "metadata": {},
   "source": [
    "#### **2. List of Categorical Columns**"
   ]
  },
  {
   "cell_type": "code",
   "execution_count": 7,
   "metadata": {},
   "outputs": [
    {
     "data": {
      "text/plain": [
       "Index(['customerID', 'gender', 'Partner', 'Dependents', 'PhoneService',\n",
       "       'MultipleLines', 'InternetService', 'OnlineSecurity', 'OnlineBackup',\n",
       "       'DeviceProtection', 'TechSupport', 'StreamingTV', 'StreamingMovies',\n",
       "       'Contract', 'PaperlessBilling', 'PaymentMethod', 'TotalCharges',\n",
       "       'Churn'],\n",
       "      dtype='object')"
      ]
     },
     "execution_count": 7,
     "metadata": {},
     "output_type": "execute_result"
    }
   ],
   "source": [
    "data.select_dtypes(include=['object']).columns"
   ]
  },
  {
   "cell_type": "markdown",
   "metadata": {},
   "source": [
    "We have 3 numerical columns and 18 categorical columns. However, if we look at the columns in detail, we will notice that `SeniorCitizen` column is categorical since it provides the information whether the customer is a senior citizen or not represented by **0 = No** and **1 = Yes**."
   ]
  },
  {
   "cell_type": "markdown",
   "metadata": {},
   "source": [
    "#### **3. Descriptive Statistics**"
   ]
  },
  {
   "cell_type": "code",
   "execution_count": 8,
   "metadata": {},
   "outputs": [
    {
     "data": {
      "text/html": [
       "<div>\n",
       "<style scoped>\n",
       "    .dataframe tbody tr th:only-of-type {\n",
       "        vertical-align: middle;\n",
       "    }\n",
       "\n",
       "    .dataframe tbody tr th {\n",
       "        vertical-align: top;\n",
       "    }\n",
       "\n",
       "    .dataframe thead th {\n",
       "        text-align: right;\n",
       "    }\n",
       "</style>\n",
       "<table border=\"1\" class=\"dataframe\">\n",
       "  <thead>\n",
       "    <tr style=\"text-align: right;\">\n",
       "      <th></th>\n",
       "      <th>SeniorCitizen</th>\n",
       "      <th>tenure</th>\n",
       "      <th>MonthlyCharges</th>\n",
       "    </tr>\n",
       "  </thead>\n",
       "  <tbody>\n",
       "    <tr>\n",
       "      <th>count</th>\n",
       "      <td>7043.000000</td>\n",
       "      <td>7043.000000</td>\n",
       "      <td>7043.000000</td>\n",
       "    </tr>\n",
       "    <tr>\n",
       "      <th>mean</th>\n",
       "      <td>0.162147</td>\n",
       "      <td>32.371149</td>\n",
       "      <td>64.761692</td>\n",
       "    </tr>\n",
       "    <tr>\n",
       "      <th>std</th>\n",
       "      <td>0.368612</td>\n",
       "      <td>24.559481</td>\n",
       "      <td>30.090047</td>\n",
       "    </tr>\n",
       "    <tr>\n",
       "      <th>min</th>\n",
       "      <td>0.000000</td>\n",
       "      <td>0.000000</td>\n",
       "      <td>18.250000</td>\n",
       "    </tr>\n",
       "    <tr>\n",
       "      <th>25%</th>\n",
       "      <td>0.000000</td>\n",
       "      <td>9.000000</td>\n",
       "      <td>35.500000</td>\n",
       "    </tr>\n",
       "    <tr>\n",
       "      <th>50%</th>\n",
       "      <td>0.000000</td>\n",
       "      <td>29.000000</td>\n",
       "      <td>70.350000</td>\n",
       "    </tr>\n",
       "    <tr>\n",
       "      <th>75%</th>\n",
       "      <td>0.000000</td>\n",
       "      <td>55.000000</td>\n",
       "      <td>89.850000</td>\n",
       "    </tr>\n",
       "    <tr>\n",
       "      <th>max</th>\n",
       "      <td>1.000000</td>\n",
       "      <td>72.000000</td>\n",
       "      <td>118.750000</td>\n",
       "    </tr>\n",
       "  </tbody>\n",
       "</table>\n",
       "</div>"
      ],
      "text/plain": [
       "       SeniorCitizen       tenure  MonthlyCharges\n",
       "count    7043.000000  7043.000000     7043.000000\n",
       "mean        0.162147    32.371149       64.761692\n",
       "std         0.368612    24.559481       30.090047\n",
       "min         0.000000     0.000000       18.250000\n",
       "25%         0.000000     9.000000       35.500000\n",
       "50%         0.000000    29.000000       70.350000\n",
       "75%         0.000000    55.000000       89.850000\n",
       "max         1.000000    72.000000      118.750000"
      ]
     },
     "execution_count": 8,
     "metadata": {},
     "output_type": "execute_result"
    }
   ],
   "source": [
    "data.describe()"
   ]
  },
  {
   "cell_type": "markdown",
   "metadata": {},
   "source": [
    "* From the descriptive statistics, it seems that there are a few outliers in `tenure` and `MonthlyCharges`. \n",
    "* The `SeniorCitizen` column is proven to be a categorical data since we only have the value of 0 and 1 in the column.\n",
    "* It seems that `tenure` and `MonthlyCharges` have normal distribution since the `mean` and `Q2` are not that far."
   ]
  },
  {
   "cell_type": "markdown",
   "metadata": {},
   "source": [
    "#### **4. Missing Values Detection**"
   ]
  },
  {
   "cell_type": "code",
   "execution_count": 9,
   "metadata": {},
   "outputs": [
    {
     "data": {
      "text/plain": [
       "False"
      ]
     },
     "execution_count": 9,
     "metadata": {},
     "output_type": "execute_result"
    }
   ],
   "source": [
    "data.isnull().values.any()"
   ]
  },
  {
   "cell_type": "markdown",
   "metadata": {},
   "source": [
    "Now we will check if there are any unexpected missing values or not by seeing the unique values of each categorical column."
   ]
  },
  {
   "cell_type": "code",
   "execution_count": 10,
   "metadata": {},
   "outputs": [
    {
     "name": "stdout",
     "output_type": "stream",
     "text": [
      "customerID : ['7590-VHVEG' '5575-GNVDE' '3668-QPYBK' ... '4801-JZAZL' '8361-LTMKD'\n",
      " '3186-AJIEK']\n",
      "gender : ['Female' 'Male']\n",
      "Partner : ['Yes' 'No']\n",
      "Dependents : ['No' 'Yes']\n",
      "PhoneService : ['No' 'Yes']\n",
      "MultipleLines : ['No phone service' 'No' 'Yes']\n",
      "InternetService : ['DSL' 'Fiber optic' 'No']\n",
      "OnlineSecurity : ['No' 'Yes' 'No internet service']\n",
      "OnlineBackup : ['Yes' 'No' 'No internet service']\n",
      "DeviceProtection : ['No' 'Yes' 'No internet service']\n",
      "TechSupport : ['No' 'Yes' 'No internet service']\n",
      "StreamingTV : ['No' 'Yes' 'No internet service']\n",
      "StreamingMovies : ['No' 'Yes' 'No internet service']\n",
      "Contract : ['Month-to-month' 'One year' 'Two year']\n",
      "PaperlessBilling : ['Yes' 'No']\n",
      "PaymentMethod : ['Electronic check' 'Mailed check' 'Bank transfer (automatic)'\n",
      " 'Credit card (automatic)']\n",
      "TotalCharges : ['29.85' '1889.5' '108.15' ... '346.45' '306.6' '6844.5']\n",
      "Churn : ['No' 'Yes']\n"
     ]
    }
   ],
   "source": [
    "for i in data.select_dtypes(include=['object']).columns:\n",
    "    print(f'{i} :', data[i].unique())"
   ]
  },
  {
   "cell_type": "markdown",
   "metadata": {},
   "source": [
    "We cannot say that there aren't any missing values in the dataset yet, because if we take a look at the `TotalCharges` column, it's supposed to be numerical but instead it was written in string type. We will convert it into numerical form and check the missing values again later in the Data Pre-processing section."
   ]
  },
  {
   "cell_type": "markdown",
   "metadata": {},
   "source": [
    "#### **5. Distribution of Features**"
   ]
  },
  {
   "cell_type": "code",
   "execution_count": 11,
   "metadata": {},
   "outputs": [
    {
     "name": "stdout",
     "output_type": "stream",
     "text": [
      "tenure = Normal Distribution\n",
      "MonthlyCharges = Normal Distribution\n"
     ]
    }
   ],
   "source": [
    "for feature in num_data.drop('SeniorCitizen'):\n",
    "    skewness = data[feature].skew(axis = 0, skipna = True)\n",
    "    if skewness <= 0.5 and skewness >= -0.5:\n",
    "        print(f'{feature} = Normal Distribution')\n",
    "    else:\n",
    "        print(f'{feature} = Skewed')"
   ]
  },
  {
   "cell_type": "code",
   "execution_count": 12,
   "metadata": {},
   "outputs": [
    {
     "data": {
      "image/png": "[encoded data removed]",
      "text/plain": [
       "<Figure size 1008x288 with 2 Axes>"
      ]
     },
     "metadata": {
      "needs_background": "light"
     },
     "output_type": "display_data"
    }
   ],
   "source": [
    "plt.figure(figsize=(14,4))\n",
    "for i in range(0,len(num_data.drop('SeniorCitizen'))):\n",
    "    plt.subplot(1,3, i+1)\n",
    "    sns.distplot(x=data[num_data.drop('SeniorCitizen')[i]], color='dodgerblue')\n",
    "    plt.title(f'{i}')\n",
    "    plt.tight_layout()"
   ]
  },
  {
   "cell_type": "markdown",
   "metadata": {},
   "source": [
    "The distribution of `tenure` and `MonthlyCharges` are normal. Thus, we will use z-score in handling their outliers (if any)."
   ]
  },
  {
   "cell_type": "markdown",
   "metadata": {},
   "source": [
    "#### **6. Boxplot Analysis**"
   ]
  },
  {
   "cell_type": "code",
   "execution_count": 13,
   "metadata": {},
   "outputs": [
    {
     "data": {
      "image/png": "[encoded data removed]",
      "text/plain": [
       "<Figure size 1008x216 with 2 Axes>"
      ]
     },
     "metadata": {
      "needs_background": "light"
     },
     "output_type": "display_data"
    }
   ],
   "source": [
    "plt.figure(figsize=(14,3))\n",
    "for i in range(0,len(num_data.drop('SeniorCitizen'))):\n",
    "    plt.subplot(1,3, i+1)\n",
    "    sns.boxplot(x=data[num_data.drop('SeniorCitizen')[i]], color='teal')\n",
    "    plt.tight_layout()"
   ]
  },
  {
   "cell_type": "markdown",
   "metadata": {},
   "source": [
    "There seems to be no outliers on our numerical data."
   ]
  },
  {
   "cell_type": "markdown",
   "metadata": {},
   "source": [
    "#### **6. Churn (Target Variable)**"
   ]
  },
  {
   "cell_type": "code",
   "execution_count": 14,
   "metadata": {},
   "outputs": [
    {
     "name": "stdout",
     "output_type": "stream",
     "text": [
      "No     5174\n",
      "Yes    1869\n",
      "Name: Churn, dtype: int64\n"
     ]
    },
    {
     "data": {
      "image/png": "[encoded data removed]",
      "text/plain": [
       "<Figure size 576x288 with 1 Axes>"
      ]
     },
     "metadata": {
      "needs_background": "light"
     },
     "output_type": "display_data"
    }
   ],
   "source": [
    "print(data.Churn.value_counts())\n",
    "\n",
    "plt.figure(figsize=(8,4))\n",
    "sns.countplot(data.Churn, color='seagreen')\n",
    "plt.title('Number of Churn and Not Churn Customer')\n",
    "plt.show()"
   ]
  },
  {
   "cell_type": "markdown",
   "metadata": {},
   "source": [
    "The target class is **imbalanced**"
   ]
  },
  {
   "cell_type": "markdown",
   "metadata": {},
   "source": [
    "#### **7. Gender**"
   ]
  },
  {
   "cell_type": "code",
   "execution_count": 15,
   "metadata": {},
   "outputs": [
    {
     "data": {
      "image/png": "[encoded data removed]",
      "text/plain": [
       "<Figure size 576x288 with 1 Axes>"
      ]
     },
     "metadata": {
      "needs_background": "light"
     },
     "output_type": "display_data"
    }
   ],
   "source": [
    "plt.figure(figsize=(8,4))\n",
    "sns.countplot(data.gender, hue=data.Churn)\n",
    "plt.title('Number of Churn and Not Churn Customer based on Gender')\n",
    "plt.show()"
   ]
  },
  {
   "cell_type": "markdown",
   "metadata": {},
   "source": [
    "There are more customers that are not churned."
   ]
  },
  {
   "cell_type": "markdown",
   "metadata": {},
   "source": [
    "#### **8. Senior Citizen**"
   ]
  },
  {
   "cell_type": "code",
   "execution_count": 16,
   "metadata": {},
   "outputs": [
    {
     "data": {
      "image/png": "[encoded data removed]",
      "text/plain": [
       "<Figure size 648x360 with 1 Axes>"
      ]
     },
     "metadata": {
      "needs_background": "light"
     },
     "output_type": "display_data"
    }
   ],
   "source": [
    "plt.figure(figsize=(9,5))\n",
    "sns.countplot(data.SeniorCitizen, hue=data.Churn)\n",
    "plt.title('Number of Churn and Not Churn Customer based on Citizen Seniority Status')\n",
    "plt.show()"
   ]
  },
  {
   "cell_type": "markdown",
   "metadata": {},
   "source": [
    "There are more non-senior citizen and most of them are not churned."
   ]
  },
  {
   "cell_type": "markdown",
   "metadata": {},
   "source": [
    "#### **9. Partner**"
   ]
  },
  {
   "cell_type": "code",
   "execution_count": 17,
   "metadata": {},
   "outputs": [
    {
     "data": {
      "image/png": "[encoded data removed]",
      "text/plain": [
       "<Figure size 648x360 with 1 Axes>"
      ]
     },
     "metadata": {
      "needs_background": "light"
     },
     "output_type": "display_data"
    }
   ],
   "source": [
    "plt.figure(figsize=(9,5))\n",
    "sns.countplot(data.Partner, hue=data.Churn)\n",
    "plt.title('Number of Churn and Not Churn Customer based on Partner')\n",
    "plt.show()"
   ]
  },
  {
   "cell_type": "markdown",
   "metadata": {},
   "source": [
    "There are more customers who has a phone service and most of them are not churned."
   ]
  },
  {
   "cell_type": "markdown",
   "metadata": {},
   "source": [
    "#### **10. Dependents**"
   ]
  },
  {
   "cell_type": "code",
   "execution_count": 18,
   "metadata": {},
   "outputs": [
    {
     "data": {
      "image/png": "[encoded data removed]",
      "text/plain": [
       "<Figure size 648x360 with 1 Axes>"
      ]
     },
     "metadata": {
      "needs_background": "light"
     },
     "output_type": "display_data"
    }
   ],
   "source": [
    "plt.figure(figsize=(9,5))\n",
    "sns.countplot(data.Dependents, hue=data.Churn)\n",
    "plt.title('Number of Churn and Not Churn Customer based on Dependents')\n",
    "plt.show()"
   ]
  },
  {
   "cell_type": "markdown",
   "metadata": {},
   "source": [
    "Customers with dependents tend not to churn."
   ]
  },
  {
   "cell_type": "markdown",
   "metadata": {},
   "source": [
    "#### **11. PhoneService**"
   ]
  },
  {
   "cell_type": "code",
   "execution_count": 19,
   "metadata": {},
   "outputs": [
    {
     "data": {
      "image/png": "[encoded data removed]",
      "text/plain": [
       "<Figure size 648x360 with 1 Axes>"
      ]
     },
     "metadata": {
      "needs_background": "light"
     },
     "output_type": "display_data"
    }
   ],
   "source": [
    "plt.figure(figsize=(9,5))\n",
    "sns.countplot(data.PhoneService, hue=data.Churn)\n",
    "plt.title('Number of Churn and Not Churn Customer based on PhoneService')\n",
    "plt.show()"
   ]
  },
  {
   "cell_type": "markdown",
   "metadata": {},
   "source": [
    "There are more customers with phone service tend to churn."
   ]
  },
  {
   "cell_type": "markdown",
   "metadata": {},
   "source": [
    "#### **12. Internet Service**"
   ]
  },
  {
   "cell_type": "code",
   "execution_count": 20,
   "metadata": {},
   "outputs": [
    {
     "data": {
      "image/png": "[encoded data removed]",
      "text/plain": [
       "<Figure size 648x360 with 1 Axes>"
      ]
     },
     "metadata": {
      "needs_background": "light"
     },
     "output_type": "display_data"
    }
   ],
   "source": [
    "plt.figure(figsize=(9,5))\n",
    "sns.countplot(data.InternetService, hue=data.Churn)\n",
    "plt.title('Number of Churn and Not Churn Customer based on InternetService')\n",
    "plt.show()"
   ]
  },
  {
   "cell_type": "markdown",
   "metadata": {},
   "source": [
    "#### **13. Contract**"
   ]
  },
  {
   "cell_type": "code",
   "execution_count": 21,
   "metadata": {},
   "outputs": [
    {
     "data": {
      "image/png": "[encoded data removed]",
      "text/plain": [
       "<Figure size 648x360 with 1 Axes>"
      ]
     },
     "metadata": {
      "needs_background": "light"
     },
     "output_type": "display_data"
    }
   ],
   "source": [
    "plt.figure(figsize=(9,5))\n",
    "sns.countplot(data.Contract, hue=data.Churn)\n",
    "plt.title('Number of Churn and Not Churn Customer based on Contract')\n",
    "plt.show()"
   ]
  },
  {
   "cell_type": "markdown",
   "metadata": {},
   "source": [
    "Month-to-month have the most customers and more likely not to churn."
   ]
  },
  {
   "cell_type": "markdown",
   "metadata": {},
   "source": [
    "## **5. Data Pre-processing**"
   ]
  },
  {
   "cell_type": "markdown",
   "metadata": {},
   "source": [
    "### **5.1 Feature Engineering**"
   ]
  },
  {
   "cell_type": "markdown",
   "metadata": {},
   "source": [
    "Convert `TotalCharges` into numerical value"
   ]
  },
  {
   "cell_type": "code",
   "execution_count": 22,
   "metadata": {},
   "outputs": [],
   "source": [
    "data['TotalCharges'] = pd.to_numeric(data['TotalCharges'], errors='coerce')"
   ]
  },
  {
   "cell_type": "markdown",
   "metadata": {},
   "source": [
    "Convert `SeniorCitizen` into string"
   ]
  },
  {
   "cell_type": "code",
   "execution_count": 23,
   "metadata": {},
   "outputs": [],
   "source": [
    "data['SeniorCitizen'] = data.SeniorCitizen.replace({0:'No', 1:'Yes'})"
   ]
  },
  {
   "cell_type": "markdown",
   "metadata": {},
   "source": [
    "Drop `customerID`"
   ]
  },
  {
   "cell_type": "code",
   "execution_count": 24,
   "metadata": {},
   "outputs": [],
   "source": [
    "data.drop('customerID', axis=1, inplace=True)"
   ]
  },
  {
   "cell_type": "markdown",
   "metadata": {},
   "source": [
    "Convert `Churn` into integer"
   ]
  },
  {
   "cell_type": "code",
   "execution_count": 25,
   "metadata": {},
   "outputs": [],
   "source": [
    "data['Churn'] = data.Churn.replace({'No':0, 'Yes':1})"
   ]
  },
  {
   "cell_type": "markdown",
   "metadata": {},
   "source": [
    "### **5.2 Inference Dataset**"
   ]
  },
  {
   "cell_type": "markdown",
   "metadata": {},
   "source": [
    "We will take out 10 samples from the dataset to be our inference dataset."
   ]
  },
  {
   "cell_type": "code",
   "execution_count": 26,
   "metadata": {},
   "outputs": [],
   "source": [
    "data_inf = data.sample(10, random_state=77)"
   ]
  },
  {
   "cell_type": "markdown",
   "metadata": {},
   "source": [
    "Dropping the data that has been assigned as inference."
   ]
  },
  {
   "cell_type": "code",
   "execution_count": 27,
   "metadata": {},
   "outputs": [],
   "source": [
    "data.drop(data_inf.index, inplace=True)"
   ]
  },
  {
   "cell_type": "markdown",
   "metadata": {},
   "source": [
    "Resetting the index to prevent unwanted errors."
   ]
  },
  {
   "cell_type": "code",
   "execution_count": 28,
   "metadata": {},
   "outputs": [],
   "source": [
    "data.reset_index(drop=True, inplace=True)\n",
    "data_inf.reset_index(drop=True, inplace=True)"
   ]
  },
  {
   "cell_type": "markdown",
   "metadata": {},
   "source": [
    "### **5.3 Data Splitting**"
   ]
  },
  {
   "cell_type": "markdown",
   "metadata": {},
   "source": [
    "We will split into Train-set, Validation-set, and Test-set"
   ]
  },
  {
   "cell_type": "code",
   "execution_count": 29,
   "metadata": {},
   "outputs": [],
   "source": [
    "X = data.drop('Churn', axis=1)\n",
    "y = data['Churn']\n",
    "\n",
    "X_train, X_test, y_train, y_test = train_test_split(X, y, test_size=0.15, random_state=46)\n",
    "X_train, X_val, y_train, y_val = train_test_split(X_train, y_train, test_size=0.1, random_state=46)"
   ]
  },
  {
   "cell_type": "code",
   "execution_count": 30,
   "metadata": {},
   "outputs": [
    {
     "name": "stdout",
     "output_type": "stream",
     "text": [
      "Size of feature training data    : (5380, 19)\n",
      "Size of target training data     : (5380,)\n",
      "==================================================\n",
      "Size of feature validation data  : (598, 19)\n",
      "Size of target validation data   : (598,)\n",
      "==================================================\n",
      "Size of feature testing data     : (1055, 19)\n",
      "Size of target testing data      : (1055,)\n"
     ]
    }
   ],
   "source": [
    "print('Size of feature training data    :', X_train.shape)\n",
    "print('Size of target training data     :', y_train.shape)\n",
    "print('='*50)\n",
    "print('Size of feature validation data  :', X_val.shape)\n",
    "print('Size of target validation data   :', y_val.shape)\n",
    "print('='*50)\n",
    "print('Size of feature testing data     :', X_test.shape)\n",
    "print('Size of target testing data      :', y_test.shape)"
   ]
  },
  {
   "cell_type": "markdown",
   "metadata": {},
   "source": [
    "### **5.4 Handling Outliers**"
   ]
  },
  {
   "cell_type": "code",
   "execution_count": 31,
   "metadata": {},
   "outputs": [],
   "source": [
    "# This is the function to detect how many outliers in each column\n",
    "\n",
    "def detect_otl(data, column):\n",
    "    skewness = data[column].skew(axis = 0, skipna = True)\n",
    "    if skewness <= 0.5 and skewness >= -0.5:\n",
    "        upper_boundary = data[column].mean() + 1.5 * data[column].std()\n",
    "        lower_boundary = data[column].mean() - 1.5 * data[column].std()\n",
    "        print(f'[Gaussian] Skewness of {column} =', skewness)\n",
    "        print('% above upper boundary : {}'.format(len(data[data[column] > upper_boundary]) / len(data) * 100))\n",
    "        print('% below lower boundary : {}'.format(len(data[data[column] < lower_boundary]) / len(data) * 100))\n",
    "        print('-'*75)\n",
    "    else:\n",
    "        IQR = data[column].quantile(0.75) - data[column].quantile(0.25)\n",
    "        lower_boundary = data[column].quantile(0.25) - (IQR * 1.5)\n",
    "        upper_boundary = data[column].quantile(0.75) + (IQR * 1.5)\n",
    "        print(f'[Skewed] Skewness of {column} =', skewness)\n",
    "        print('% above upper boundary : {}'.format(len(data[data[column] > upper_boundary]) / len(data) * 100))\n",
    "        print('% below lower boundary : {}'.format(len(data[data[column] < lower_boundary]) / len(data) * 100))\n",
    "        print('-'*75)"
   ]
  },
  {
   "cell_type": "code",
   "execution_count": 32,
   "metadata": {},
   "outputs": [
    {
     "name": "stdout",
     "output_type": "stream",
     "text": [
      "[Gaussian] Skewness of tenure = 0.24538626299377125\n",
      "% above upper boundary : 10.483271375464684\n",
      "% below lower boundary : 0.0\n",
      "---------------------------------------------------------------------------\n",
      "[Gaussian] Skewness of MonthlyCharges = -0.2110372949556631\n",
      "% above upper boundary : 3.197026022304833\n",
      "% below lower boundary : 2.490706319702602\n",
      "---------------------------------------------------------------------------\n",
      "[Skewed] Skewness of TotalCharges = 0.9688685792782247\n",
      "% above upper boundary : 0.0\n",
      "% below lower boundary : 0.0\n",
      "---------------------------------------------------------------------------\n"
     ]
    }
   ],
   "source": [
    "for i in ['tenure', 'MonthlyCharges', 'TotalCharges']:\n",
    "    detect_otl(X_train, i)"
   ]
  },
  {
   "cell_type": "markdown",
   "metadata": {},
   "source": [
    "Since all `tenure` and `MonthlyCharges` have more than 5% outliers, We will cap the outliers."
   ]
  },
  {
   "cell_type": "code",
   "execution_count": 33,
   "metadata": {},
   "outputs": [
    {
     "name": "stdout",
     "output_type": "stream",
     "text": [
      "X_train dataset - Before Capping\n",
      "            tenure  MonthlyCharges  TotalCharges\n",
      "count  5380.000000     5380.000000   5371.000000\n",
      "mean     32.223606       64.623383   2270.380953\n",
      "std      24.503730       30.137612   2256.189627\n",
      "min       0.000000       18.250000     18.850000\n",
      "25%       9.000000       35.337500    390.175000\n",
      "50%      29.000000       70.250000   1391.650000\n",
      "75%      55.000000       89.962500   3769.850000\n",
      "max      72.000000      118.650000   8670.100000\n",
      "\n",
      "X_train dataset - After Capping\n",
      "            tenure  MonthlyCharges  TotalCharges\n",
      "count  5380.000000     5380.000000   5371.000000\n",
      "mean     32.000608       64.522974   2270.380953\n",
      "std      24.153531       29.960602   2256.189627\n",
      "min       0.000000       19.416965     18.850000\n",
      "25%       9.000000       35.337500    390.175000\n",
      "50%      29.000000       70.250000   1391.650000\n",
      "75%      55.000000       89.962500   3769.850000\n",
      "max      68.979201      109.829800   8670.100000\n"
     ]
    }
   ],
   "source": [
    "winsorizer = Winsorizer(capping_method='gaussian', \n",
    "                        tail='both',\n",
    "                        fold=1.5,\n",
    "                        variables=['tenure', 'MonthlyCharges'])\n",
    "\n",
    "X_train_capped = winsorizer.fit_transform(X_train)\n",
    "print('X_train dataset - Before Capping')\n",
    "print(X_train.describe())\n",
    "print('')\n",
    "print('X_train dataset - After Capping')\n",
    "print(X_train_capped.describe())"
   ]
  },
  {
   "cell_type": "markdown",
   "metadata": {},
   "source": [
    "### **5.5 Handling Missing Values**"
   ]
  },
  {
   "cell_type": "markdown",
   "metadata": {},
   "source": [
    "First, we will check number of missing values in X_train and X_test."
   ]
  },
  {
   "cell_type": "code",
   "execution_count": 34,
   "metadata": {},
   "outputs": [
    {
     "data": {
      "text/plain": [
       "gender              0\n",
       "SeniorCitizen       0\n",
       "Partner             0\n",
       "Dependents          0\n",
       "tenure              0\n",
       "PhoneService        0\n",
       "MultipleLines       0\n",
       "InternetService     0\n",
       "OnlineSecurity      0\n",
       "OnlineBackup        0\n",
       "DeviceProtection    0\n",
       "TechSupport         0\n",
       "StreamingTV         0\n",
       "StreamingMovies     0\n",
       "Contract            0\n",
       "PaperlessBilling    0\n",
       "PaymentMethod       0\n",
       "MonthlyCharges      0\n",
       "TotalCharges        9\n",
       "dtype: int64"
      ]
     },
     "execution_count": 34,
     "metadata": {},
     "output_type": "execute_result"
    }
   ],
   "source": [
    "X_train_capped.isnull().sum()"
   ]
  },
  {
   "cell_type": "code",
   "execution_count": 35,
   "metadata": {},
   "outputs": [
    {
     "data": {
      "text/plain": [
       "gender              0\n",
       "SeniorCitizen       0\n",
       "Partner             0\n",
       "Dependents          0\n",
       "tenure              0\n",
       "PhoneService        0\n",
       "MultipleLines       0\n",
       "InternetService     0\n",
       "OnlineSecurity      0\n",
       "OnlineBackup        0\n",
       "DeviceProtection    0\n",
       "TechSupport         0\n",
       "StreamingTV         0\n",
       "StreamingMovies     0\n",
       "Contract            0\n",
       "PaperlessBilling    0\n",
       "PaymentMethod       0\n",
       "MonthlyCharges      0\n",
       "TotalCharges        0\n",
       "dtype: int64"
      ]
     },
     "execution_count": 35,
     "metadata": {},
     "output_type": "execute_result"
    }
   ],
   "source": [
    "X_val.isnull().sum()"
   ]
  },
  {
   "cell_type": "code",
   "execution_count": 36,
   "metadata": {},
   "outputs": [
    {
     "data": {
      "text/plain": [
       "gender              0\n",
       "SeniorCitizen       0\n",
       "Partner             0\n",
       "Dependents          0\n",
       "tenure              0\n",
       "PhoneService        0\n",
       "MultipleLines       0\n",
       "InternetService     0\n",
       "OnlineSecurity      0\n",
       "OnlineBackup        0\n",
       "DeviceProtection    0\n",
       "TechSupport         0\n",
       "StreamingTV         0\n",
       "StreamingMovies     0\n",
       "Contract            0\n",
       "PaperlessBilling    0\n",
       "PaymentMethod       0\n",
       "MonthlyCharges      0\n",
       "TotalCharges        2\n",
       "dtype: int64"
      ]
     },
     "execution_count": 36,
     "metadata": {},
     "output_type": "execute_result"
    }
   ],
   "source": [
    "X_test.isnull().sum()"
   ]
  },
  {
   "cell_type": "code",
   "execution_count": 37,
   "metadata": {},
   "outputs": [
    {
     "data": {
      "text/html": [
       "<div>\n",
       "<style scoped>\n",
       "    .dataframe tbody tr th:only-of-type {\n",
       "        vertical-align: middle;\n",
       "    }\n",
       "\n",
       "    .dataframe tbody tr th {\n",
       "        vertical-align: top;\n",
       "    }\n",
       "\n",
       "    .dataframe thead th {\n",
       "        text-align: right;\n",
       "    }\n",
       "</style>\n",
       "<table border=\"1\" class=\"dataframe\">\n",
       "  <thead>\n",
       "    <tr style=\"text-align: right;\">\n",
       "      <th></th>\n",
       "      <th>gender</th>\n",
       "      <th>SeniorCitizen</th>\n",
       "      <th>Partner</th>\n",
       "      <th>Dependents</th>\n",
       "      <th>tenure</th>\n",
       "      <th>PhoneService</th>\n",
       "      <th>MultipleLines</th>\n",
       "      <th>InternetService</th>\n",
       "      <th>OnlineSecurity</th>\n",
       "      <th>OnlineBackup</th>\n",
       "      <th>DeviceProtection</th>\n",
       "      <th>TechSupport</th>\n",
       "      <th>StreamingTV</th>\n",
       "      <th>StreamingMovies</th>\n",
       "      <th>Contract</th>\n",
       "      <th>PaperlessBilling</th>\n",
       "      <th>PaymentMethod</th>\n",
       "      <th>MonthlyCharges</th>\n",
       "      <th>TotalCharges</th>\n",
       "      <th>Churn</th>\n",
       "    </tr>\n",
       "  </thead>\n",
       "  <tbody>\n",
       "    <tr>\n",
       "      <th>3821</th>\n",
       "      <td>Male</td>\n",
       "      <td>No</td>\n",
       "      <td>Yes</td>\n",
       "      <td>Yes</td>\n",
       "      <td>0</td>\n",
       "      <td>Yes</td>\n",
       "      <td>Yes</td>\n",
       "      <td>No</td>\n",
       "      <td>No internet service</td>\n",
       "      <td>No internet service</td>\n",
       "      <td>No internet service</td>\n",
       "      <td>No internet service</td>\n",
       "      <td>No internet service</td>\n",
       "      <td>No internet service</td>\n",
       "      <td>Two year</td>\n",
       "      <td>No</td>\n",
       "      <td>Mailed check</td>\n",
       "      <td>25.35</td>\n",
       "      <td>NaN</td>\n",
       "      <td>0</td>\n",
       "    </tr>\n",
       "    <tr>\n",
       "      <th>4375</th>\n",
       "      <td>Female</td>\n",
       "      <td>No</td>\n",
       "      <td>Yes</td>\n",
       "      <td>Yes</td>\n",
       "      <td>0</td>\n",
       "      <td>Yes</td>\n",
       "      <td>No</td>\n",
       "      <td>No</td>\n",
       "      <td>No internet service</td>\n",
       "      <td>No internet service</td>\n",
       "      <td>No internet service</td>\n",
       "      <td>No internet service</td>\n",
       "      <td>No internet service</td>\n",
       "      <td>No internet service</td>\n",
       "      <td>Two year</td>\n",
       "      <td>No</td>\n",
       "      <td>Mailed check</td>\n",
       "      <td>20.00</td>\n",
       "      <td>NaN</td>\n",
       "      <td>0</td>\n",
       "    </tr>\n",
       "    <tr>\n",
       "      <th>5212</th>\n",
       "      <td>Male</td>\n",
       "      <td>No</td>\n",
       "      <td>Yes</td>\n",
       "      <td>Yes</td>\n",
       "      <td>0</td>\n",
       "      <td>Yes</td>\n",
       "      <td>No</td>\n",
       "      <td>No</td>\n",
       "      <td>No internet service</td>\n",
       "      <td>No internet service</td>\n",
       "      <td>No internet service</td>\n",
       "      <td>No internet service</td>\n",
       "      <td>No internet service</td>\n",
       "      <td>No internet service</td>\n",
       "      <td>One year</td>\n",
       "      <td>Yes</td>\n",
       "      <td>Mailed check</td>\n",
       "      <td>19.70</td>\n",
       "      <td>NaN</td>\n",
       "      <td>0</td>\n",
       "    </tr>\n",
       "    <tr>\n",
       "      <th>6661</th>\n",
       "      <td>Female</td>\n",
       "      <td>No</td>\n",
       "      <td>Yes</td>\n",
       "      <td>Yes</td>\n",
       "      <td>0</td>\n",
       "      <td>Yes</td>\n",
       "      <td>Yes</td>\n",
       "      <td>DSL</td>\n",
       "      <td>No</td>\n",
       "      <td>Yes</td>\n",
       "      <td>Yes</td>\n",
       "      <td>Yes</td>\n",
       "      <td>Yes</td>\n",
       "      <td>No</td>\n",
       "      <td>Two year</td>\n",
       "      <td>No</td>\n",
       "      <td>Mailed check</td>\n",
       "      <td>73.35</td>\n",
       "      <td>NaN</td>\n",
       "      <td>0</td>\n",
       "    </tr>\n",
       "    <tr>\n",
       "      <th>6744</th>\n",
       "      <td>Male</td>\n",
       "      <td>No</td>\n",
       "      <td>No</td>\n",
       "      <td>Yes</td>\n",
       "      <td>0</td>\n",
       "      <td>Yes</td>\n",
       "      <td>Yes</td>\n",
       "      <td>DSL</td>\n",
       "      <td>Yes</td>\n",
       "      <td>Yes</td>\n",
       "      <td>No</td>\n",
       "      <td>Yes</td>\n",
       "      <td>No</td>\n",
       "      <td>No</td>\n",
       "      <td>Two year</td>\n",
       "      <td>Yes</td>\n",
       "      <td>Bank transfer (automatic)</td>\n",
       "      <td>61.90</td>\n",
       "      <td>NaN</td>\n",
       "      <td>0</td>\n",
       "    </tr>\n",
       "  </tbody>\n",
       "</table>\n",
       "</div>"
      ],
      "text/plain": [
       "      gender SeniorCitizen Partner Dependents  tenure PhoneService  \\\n",
       "3821    Male            No     Yes        Yes       0          Yes   \n",
       "4375  Female            No     Yes        Yes       0          Yes   \n",
       "5212    Male            No     Yes        Yes       0          Yes   \n",
       "6661  Female            No     Yes        Yes       0          Yes   \n",
       "6744    Male            No      No        Yes       0          Yes   \n",
       "\n",
       "     MultipleLines InternetService       OnlineSecurity         OnlineBackup  \\\n",
       "3821           Yes              No  No internet service  No internet service   \n",
       "4375            No              No  No internet service  No internet service   \n",
       "5212            No              No  No internet service  No internet service   \n",
       "6661           Yes             DSL                   No                  Yes   \n",
       "6744           Yes             DSL                  Yes                  Yes   \n",
       "\n",
       "         DeviceProtection          TechSupport          StreamingTV  \\\n",
       "3821  No internet service  No internet service  No internet service   \n",
       "4375  No internet service  No internet service  No internet service   \n",
       "5212  No internet service  No internet service  No internet service   \n",
       "6661                  Yes                  Yes                  Yes   \n",
       "6744                   No                  Yes                   No   \n",
       "\n",
       "          StreamingMovies  Contract PaperlessBilling  \\\n",
       "3821  No internet service  Two year               No   \n",
       "4375  No internet service  Two year               No   \n",
       "5212  No internet service  One year              Yes   \n",
       "6661                   No  Two year               No   \n",
       "6744                   No  Two year              Yes   \n",
       "\n",
       "                  PaymentMethod  MonthlyCharges  TotalCharges  Churn  \n",
       "3821               Mailed check           25.35           NaN      0  \n",
       "4375               Mailed check           20.00           NaN      0  \n",
       "5212               Mailed check           19.70           NaN      0  \n",
       "6661               Mailed check           73.35           NaN      0  \n",
       "6744  Bank transfer (automatic)           61.90           NaN      0  "
      ]
     },
     "execution_count": 37,
     "metadata": {},
     "output_type": "execute_result"
    }
   ],
   "source": [
    "data.loc[data.isna().any(axis=1)].tail()"
   ]
  },
  {
   "cell_type": "code",
   "execution_count": 38,
   "metadata": {},
   "outputs": [
    {
     "name": "stdout",
     "output_type": "stream",
     "text": [
      "TotalCharges = Skewed\n"
     ]
    }
   ],
   "source": [
    "for feature in ['TotalCharges']:\n",
    "    skewness = data[feature].skew(axis = 0, skipna = True)\n",
    "    if skewness <= 0.5 and skewness >= -0.5:\n",
    "        print(f'{feature} = Normal Distribution')\n",
    "    else:\n",
    "        print(f'{feature} = Skewed')"
   ]
  },
  {
   "cell_type": "markdown",
   "metadata": {},
   "source": [
    "The missing values in `TotalCharges` are categorized as MCAR (Missing Completely At Random) because there are no other columns that explain why the data was missing. It could be human error. Thus, we will impute them with its median since the distribution is skewed."
   ]
  },
  {
   "cell_type": "code",
   "execution_count": 39,
   "metadata": {},
   "outputs": [],
   "source": [
    "imputer = MeanMedianImputer(imputation_method='median', variables=['TotalCharges'])\n",
    "\n",
    "X_train_pre = imputer.fit_transform(X_train)\n",
    "X_test_pre = imputer.fit_transform(X_test)"
   ]
  },
  {
   "cell_type": "markdown",
   "metadata": {},
   "source": [
    "Just to avoid confusion, we will also make a new variable for X validation set."
   ]
  },
  {
   "cell_type": "code",
   "execution_count": 40,
   "metadata": {},
   "outputs": [],
   "source": [
    "X_val_pre = X_val.copy()"
   ]
  },
  {
   "cell_type": "markdown",
   "metadata": {},
   "source": [
    "### **5.6 Feature Selection**"
   ]
  },
  {
   "cell_type": "markdown",
   "metadata": {},
   "source": [
    "We will check the correlation of each feature to the target variable using Pearson Correlation."
   ]
  },
  {
   "cell_type": "code",
   "execution_count": 41,
   "metadata": {},
   "outputs": [],
   "source": [
    "y_train_df = pd.DataFrame(y_train, columns=['Churn'])"
   ]
  },
  {
   "cell_type": "code",
   "execution_count": 42,
   "metadata": {},
   "outputs": [
    {
     "data": {
      "text/plain": [
       "(5380, 20)"
      ]
     },
     "execution_count": 42,
     "metadata": {},
     "output_type": "execute_result"
    }
   ],
   "source": [
    "feature_selection = X_train_pre.copy()\n",
    "feature_selection['Churn'] = y_train_df['Churn']\n",
    "feature_selection.shape"
   ]
  },
  {
   "cell_type": "code",
   "execution_count": 43,
   "metadata": {},
   "outputs": [
    {
     "data": {
      "image/png": "[encoded data removed]",
      "text/plain": [
       "<Figure size 720x360 with 2 Axes>"
      ]
     },
     "metadata": {
      "needs_background": "light"
     },
     "output_type": "display_data"
    }
   ],
   "source": [
    "plt.figure(figsize=(10,5))\n",
    "sns.heatmap(feature_selection.corr(),annot=True, mask=np.triu(feature_selection.corr()), cmap='Blues')\n",
    "plt.title('Pearson Correlation', fontsize=16)\n",
    "plt.show()"
   ]
  },
  {
   "cell_type": "markdown",
   "metadata": {},
   "source": [
    "We will not drop any features since the correlation is quite strong."
   ]
  },
  {
   "cell_type": "markdown",
   "metadata": {},
   "source": [
    "### **5.7 Feature Scaling and Encoding**"
   ]
  },
  {
   "cell_type": "markdown",
   "metadata": {},
   "source": [
    "#### **5.7.1 Splitting Numerical and Categorical Columns**"
   ]
  },
  {
   "cell_type": "markdown",
   "metadata": {},
   "source": [
    "We will divide the columns into 3 groups, which are Numerical, Binary Class, and Multiclass."
   ]
  },
  {
   "cell_type": "code",
   "execution_count": 45,
   "metadata": {},
   "outputs": [],
   "source": [
    "num_columns = X_train_pre.select_dtypes(include=np.number).columns.tolist()\n",
    "bin_columns = ['gender', 'SeniorCitizen', 'Partner', 'Dependents', 'PaperlessBilling', 'PhoneService']\n",
    "mcl_columns = ['InternetService', 'MultipleLines','OnlineSecurity', 'OnlineBackup', 'DeviceProtection', 'TechSupport', 'StreamingTV', 'StreamingMovies', 'Contract', 'PaymentMethod']"
   ]
  },
  {
   "cell_type": "code",
   "execution_count": 46,
   "metadata": {},
   "outputs": [],
   "source": [
    "X_train_num = X_train_pre[num_columns]\n",
    "X_train_bin = X_train_pre[bin_columns]\n",
    "X_train_mcl = X_train_pre[mcl_columns]\n",
    "\n",
    "X_val_num = X_val_pre[num_columns]\n",
    "X_val_bin = X_val_pre[bin_columns]\n",
    "X_val_mcl = X_val_pre[mcl_columns]\n",
    "\n",
    "X_test_num = X_test_pre[num_columns]\n",
    "X_test_bin = X_test_pre[bin_columns]\n",
    "X_test_mcl = X_test_pre[mcl_columns]"
   ]
  },
  {
   "cell_type": "markdown",
   "metadata": {},
   "source": [
    "#### **5.7.2 Feature Scaling**"
   ]
  },
  {
   "cell_type": "code",
   "execution_count": 47,
   "metadata": {},
   "outputs": [],
   "source": [
    "scaler = StandardScaler()\n",
    "\n",
    "X_train_scaled = scaler.fit_transform(X_train_num)\n",
    "X_val_scaled = scaler.fit_transform(X_val_num)\n",
    "X_test_scaled = scaler.transform(X_test_num)"
   ]
  },
  {
   "cell_type": "markdown",
   "metadata": {},
   "source": [
    "#### **5.7.3 Feature Encoding**"
   ]
  },
  {
   "cell_type": "markdown",
   "metadata": {},
   "source": [
    "For Binary Class data, we will encode it with Ordinal Encoder, for the Multiclass data we will encode it using One-Hot Encoder"
   ]
  },
  {
   "cell_type": "code",
   "execution_count": 48,
   "metadata": {},
   "outputs": [],
   "source": [
    "ord_encoder = OrdinalEncoder()\n",
    "ohe_encoder = OneHotEncoder()\n",
    "\n",
    "X_train_ord = ord_encoder.fit_transform(X_train_bin)\n",
    "X_val_ord = ord_encoder.fit_transform(X_val_bin)\n",
    "X_test_ord = ord_encoder.fit_transform(X_test_bin)\n",
    "\n",
    "X_train_ohe = ohe_encoder.fit_transform(X_train_mcl).toarray()\n",
    "X_val_ohe = ohe_encoder.fit_transform(X_val_mcl).toarray()\n",
    "X_test_ohe = ohe_encoder.fit_transform(X_test_mcl).toarray()"
   ]
  },
  {
   "cell_type": "markdown",
   "metadata": {},
   "source": [
    "#### **5.7.4 Concat Scaled and Encoded Data**"
   ]
  },
  {
   "cell_type": "code",
   "execution_count": 49,
   "metadata": {},
   "outputs": [
    {
     "name": "stdout",
     "output_type": "stream",
     "text": [
      "(5380, 40)\n",
      "(598, 40)\n",
      "(1055, 40)\n"
     ]
    }
   ],
   "source": [
    "X_train_concat = np.concatenate([X_train_scaled, X_train_ord, X_train_ohe], axis = 1)\n",
    "X_val_concat = np.concatenate([X_val_scaled, X_val_ord, X_val_ohe], axis = 1)\n",
    "X_test_concat = np.concatenate([X_test_scaled, X_test_ord, X_test_ohe], axis = 1)\n",
    "\n",
    "print(X_train_concat.shape)\n",
    "print(X_val_concat.shape)\n",
    "print(X_test_concat.shape)"
   ]
  },
  {
   "cell_type": "markdown",
   "metadata": {},
   "source": [
    "### **5.8 PCA**"
   ]
  },
  {
   "cell_type": "markdown",
   "metadata": {},
   "source": [
    "Because the data contains a bit too many columns after pre-processing, we will try to reduce it using PCA. We will tkae 90% information from the dataset."
   ]
  },
  {
   "cell_type": "code",
   "execution_count": 50,
   "metadata": {},
   "outputs": [],
   "source": [
    "pca = PCA(n_components=0.9).fit(X_train_concat)"
   ]
  },
  {
   "cell_type": "code",
   "execution_count": 51,
   "metadata": {},
   "outputs": [
    {
     "name": "stdout",
     "output_type": "stream",
     "text": [
      "(5380, 15)\n",
      "(598, 15)\n",
      "(1055, 15)\n"
     ]
    }
   ],
   "source": [
    "X_train_final = pca.transform(X_train_concat)\n",
    "X_val_final = pca.transform(X_val_concat)\n",
    "X_test_final = pca.transform(X_test_concat)\n",
    "\n",
    "print(X_train_final.shape)\n",
    "print(X_val_final.shape)\n",
    "print(X_test_final.shape)"
   ]
  },
  {
   "cell_type": "markdown",
   "metadata": {},
   "source": [
    "We now have 15 principal components."
   ]
  },
  {
   "cell_type": "markdown",
   "metadata": {},
   "source": [
    "## **6. Model Definition**"
   ]
  },
  {
   "cell_type": "markdown",
   "metadata": {},
   "source": [
    "### **6.1 Sequential API**"
   ]
  },
  {
   "cell_type": "markdown",
   "metadata": {},
   "source": [
    "We want to define 2 models for Sequential API to know the results of using different activation function, number of hidden layers, number of neurons, optimizers, and also using dropout."
   ]
  },
  {
   "cell_type": "markdown",
   "metadata": {},
   "source": [
    "#### **6.1.1 Sequential A**\n",
    "\n",
    "* Activation function: ReLU\n",
    "* Number of hidden layers: 1\n",
    "* Optimizer: Adam"
   ]
  },
  {
   "cell_type": "code",
   "execution_count": 101,
   "metadata": {},
   "outputs": [],
   "source": [
    "seq_model_A = Sequential()\n",
    "seq_model_A.add(Dense(9, activation='relu',                                       # hidden layer 1\n",
    "                         input_shape=(15,), \n",
    "                         kernel_initializer=tf.keras.initializers.HeUniform()))  \n",
    "seq_model_A.add(Dense(1, activation='sigmoid'))                                   # output layer"
   ]
  },
  {
   "cell_type": "code",
   "execution_count": 102,
   "metadata": {},
   "outputs": [],
   "source": [
    "seq_model_A.compile(loss='binary_crossentropy',\n",
    "                    optimizer='adam', # paling modern\n",
    "                    metrics=['accuracy'])"
   ]
  },
  {
   "cell_type": "markdown",
   "metadata": {},
   "source": [
    "#### **6.1.2 Sequential B**\n",
    "\n",
    "* Activation function: SeLU\n",
    "* Number of hidden layers: 2\n",
    "* Optimizer: Gradient Descent\n",
    "* Using dropout"
   ]
  },
  {
   "cell_type": "code",
   "execution_count": 103,
   "metadata": {},
   "outputs": [],
   "source": [
    "seq_model_B = Sequential()\n",
    "seq_model_B.add(Dense(18, activation='relu',                                     # hidden layer 1\n",
    "                         input_shape=(15,), \n",
    "                         kernel_initializer=tf.keras.initializers.HeUniform())) \n",
    "seq_model_B.add(Dropout(0.2))                                                         # Dropout\n",
    "seq_model_B.add(Dense(9, activation='relu'))                                          # hidden layer 2\n",
    "seq_model_B.add(Dropout(0.2))                                                         # Dropout\n",
    "seq_model_B.add(Dense(1, activation='sigmoid'))                                 # output layer"
   ]
  },
  {
   "cell_type": "code",
   "execution_count": 104,
   "metadata": {},
   "outputs": [],
   "source": [
    "seq_model_B.compile(loss='binary_crossentropy',\n",
    "                    optimizer='SGD',\n",
    "                    metrics=['accuracy'])"
   ]
  },
  {
   "cell_type": "markdown",
   "metadata": {},
   "source": [
    "### **6.2 Functional API**\n",
    "\n",
    "We will build the Functional API using the same hyperparameters as Sequential A."
   ]
  },
  {
   "cell_type": "code",
   "execution_count": 105,
   "metadata": {},
   "outputs": [],
   "source": [
    "data_input = Input(shape=(15,))\n",
    "hidden_1 = Dense(9, activation='relu', kernel_initializer=tf.keras.initializers.HeUniform())(data_input)\n",
    "output_layer = Dense(1, activation='sigmoid')(hidden_1)\n",
    "func_model = Model(inputs=data_input, outputs=output_layer)"
   ]
  },
  {
   "cell_type": "code",
   "execution_count": 106,
   "metadata": {},
   "outputs": [],
   "source": [
    "func_model.compile(loss=\"binary_crossentropy\", \n",
    "                   optimizer='adam',\n",
    "                   metrics=['accuracy'])"
   ]
  },
  {
   "cell_type": "markdown",
   "metadata": {},
   "source": [
    "## **7. Model Training**"
   ]
  },
  {
   "cell_type": "markdown",
   "metadata": {},
   "source": [
    "### **7.1 Sequential API A**"
   ]
  },
  {
   "cell_type": "code",
   "execution_count": 107,
   "metadata": {},
   "outputs": [
    {
     "name": "stdout",
     "output_type": "stream",
     "text": [
      "Epoch 1/25\n",
      "169/169 [==============================] - 1s 3ms/step - loss: 0.6673 - accuracy: 0.6117 - val_loss: 0.5709 - val_accuracy: 0.7174\n",
      "Epoch 2/25\n",
      "169/169 [==============================] - 0s 2ms/step - loss: 0.5296 - accuracy: 0.7372 - val_loss: 0.4931 - val_accuracy: 0.7592\n",
      "Epoch 3/25\n",
      "169/169 [==============================] - 0s 2ms/step - loss: 0.4705 - accuracy: 0.7734 - val_loss: 0.4530 - val_accuracy: 0.7876\n",
      "Epoch 4/25\n",
      "169/169 [==============================] - 0s 2ms/step - loss: 0.4451 - accuracy: 0.7894 - val_loss: 0.4367 - val_accuracy: 0.8043\n",
      "Epoch 5/25\n",
      "169/169 [==============================] - 0s 2ms/step - loss: 0.4358 - accuracy: 0.7935 - val_loss: 0.4284 - val_accuracy: 0.7993\n",
      "Epoch 6/25\n",
      "169/169 [==============================] - 0s 3ms/step - loss: 0.4309 - accuracy: 0.7948 - val_loss: 0.4237 - val_accuracy: 0.7993\n",
      "Epoch 7/25\n",
      "169/169 [==============================] - 0s 2ms/step - loss: 0.4282 - accuracy: 0.7968 - val_loss: 0.4209 - val_accuracy: 0.8010\n",
      "Epoch 8/25\n",
      "169/169 [==============================] - 0s 2ms/step - loss: 0.4262 - accuracy: 0.7959 - val_loss: 0.4184 - val_accuracy: 0.8010\n",
      "Epoch 9/25\n",
      "169/169 [==============================] - 0s 2ms/step - loss: 0.4244 - accuracy: 0.7946 - val_loss: 0.4166 - val_accuracy: 0.8027\n",
      "Epoch 10/25\n",
      "169/169 [==============================] - 0s 2ms/step - loss: 0.4231 - accuracy: 0.7955 - val_loss: 0.4148 - val_accuracy: 0.7977\n",
      "Epoch 11/25\n",
      "169/169 [==============================] - 0s 2ms/step - loss: 0.4221 - accuracy: 0.7970 - val_loss: 0.4134 - val_accuracy: 0.7993\n",
      "Epoch 12/25\n",
      "169/169 [==============================] - 0s 2ms/step - loss: 0.4209 - accuracy: 0.7950 - val_loss: 0.4120 - val_accuracy: 0.7977\n",
      "Epoch 13/25\n",
      "169/169 [==============================] - 0s 2ms/step - loss: 0.4200 - accuracy: 0.7950 - val_loss: 0.4108 - val_accuracy: 0.7993\n",
      "Epoch 14/25\n",
      "169/169 [==============================] - 0s 2ms/step - loss: 0.4191 - accuracy: 0.7972 - val_loss: 0.4104 - val_accuracy: 0.7993\n",
      "Epoch 15/25\n",
      "169/169 [==============================] - 0s 2ms/step - loss: 0.4183 - accuracy: 0.7998 - val_loss: 0.4097 - val_accuracy: 0.7977\n",
      "Epoch 16/25\n",
      "169/169 [==============================] - 0s 2ms/step - loss: 0.4177 - accuracy: 0.8004 - val_loss: 0.4091 - val_accuracy: 0.7977\n",
      "Epoch 17/25\n",
      "169/169 [==============================] - 0s 2ms/step - loss: 0.4170 - accuracy: 0.8007 - val_loss: 0.4087 - val_accuracy: 0.7993\n",
      "Epoch 18/25\n",
      "169/169 [==============================] - 0s 2ms/step - loss: 0.4165 - accuracy: 0.8000 - val_loss: 0.4084 - val_accuracy: 0.7977\n",
      "Epoch 19/25\n",
      "169/169 [==============================] - 0s 2ms/step - loss: 0.4158 - accuracy: 0.8035 - val_loss: 0.4081 - val_accuracy: 0.7943\n",
      "Epoch 20/25\n",
      "169/169 [==============================] - 0s 2ms/step - loss: 0.4152 - accuracy: 0.8030 - val_loss: 0.4081 - val_accuracy: 0.8043\n",
      "Epoch 21/25\n",
      "169/169 [==============================] - 0s 2ms/step - loss: 0.4147 - accuracy: 0.8056 - val_loss: 0.4079 - val_accuracy: 0.8043\n",
      "Epoch 22/25\n",
      "169/169 [==============================] - 0s 2ms/step - loss: 0.4141 - accuracy: 0.8032 - val_loss: 0.4077 - val_accuracy: 0.8027\n",
      "Epoch 23/25\n",
      "169/169 [==============================] - 0s 3ms/step - loss: 0.4137 - accuracy: 0.8054 - val_loss: 0.4073 - val_accuracy: 0.8060\n",
      "Epoch 24/25\n",
      "169/169 [==============================] - 0s 2ms/step - loss: 0.4129 - accuracy: 0.8058 - val_loss: 0.4078 - val_accuracy: 0.8027\n",
      "Epoch 25/25\n",
      "169/169 [==============================] - 0s 2ms/step - loss: 0.4126 - accuracy: 0.8061 - val_loss: 0.4078 - val_accuracy: 0.8043\n"
     ]
    }
   ],
   "source": [
    "history_a = seq_model_A.fit(X_train_final, y_train, epochs=25, validation_data=(X_val_final, y_val))"
   ]
  },
  {
   "cell_type": "markdown",
   "metadata": {},
   "source": [
    "### **7.2 Sequential API B**"
   ]
  },
  {
   "cell_type": "code",
   "execution_count": 108,
   "metadata": {},
   "outputs": [
    {
     "name": "stdout",
     "output_type": "stream",
     "text": [
      "Epoch 1/25\n",
      "169/169 [==============================] - 1s 3ms/step - loss: 0.6908 - accuracy: 0.6156 - val_loss: 0.6370 - val_accuracy: 0.7408\n",
      "Epoch 2/25\n",
      "169/169 [==============================] - 0s 2ms/step - loss: 0.6158 - accuracy: 0.7305 - val_loss: 0.5906 - val_accuracy: 0.7458\n",
      "Epoch 3/25\n",
      "169/169 [==============================] - 0s 2ms/step - loss: 0.5828 - accuracy: 0.7362 - val_loss: 0.5615 - val_accuracy: 0.7458\n",
      "Epoch 4/25\n",
      "169/169 [==============================] - 0s 2ms/step - loss: 0.5606 - accuracy: 0.7381 - val_loss: 0.5370 - val_accuracy: 0.7458\n",
      "Epoch 5/25\n",
      "169/169 [==============================] - 0s 2ms/step - loss: 0.5404 - accuracy: 0.7401 - val_loss: 0.5142 - val_accuracy: 0.7441\n",
      "Epoch 6/25\n",
      "169/169 [==============================] - 0s 2ms/step - loss: 0.5173 - accuracy: 0.7578 - val_loss: 0.4925 - val_accuracy: 0.7542\n",
      "Epoch 7/25\n",
      "169/169 [==============================] - 0s 2ms/step - loss: 0.5046 - accuracy: 0.7610 - val_loss: 0.4765 - val_accuracy: 0.7742\n",
      "Epoch 8/25\n",
      "169/169 [==============================] - 0s 2ms/step - loss: 0.4984 - accuracy: 0.7595 - val_loss: 0.4654 - val_accuracy: 0.7860\n",
      "Epoch 9/25\n",
      "169/169 [==============================] - 0s 2ms/step - loss: 0.4902 - accuracy: 0.7662 - val_loss: 0.4569 - val_accuracy: 0.7926\n",
      "Epoch 10/25\n",
      "169/169 [==============================] - 0s 2ms/step - loss: 0.4898 - accuracy: 0.7669 - val_loss: 0.4516 - val_accuracy: 0.7910\n",
      "Epoch 11/25\n",
      "169/169 [==============================] - 0s 2ms/step - loss: 0.4835 - accuracy: 0.7656 - val_loss: 0.4473 - val_accuracy: 0.7960\n",
      "Epoch 12/25\n",
      "169/169 [==============================] - 0s 2ms/step - loss: 0.4811 - accuracy: 0.7697 - val_loss: 0.4440 - val_accuracy: 0.8010\n",
      "Epoch 13/25\n",
      "169/169 [==============================] - 0s 3ms/step - loss: 0.4773 - accuracy: 0.7684 - val_loss: 0.4407 - val_accuracy: 0.7993\n",
      "Epoch 14/25\n",
      "169/169 [==============================] - 0s 2ms/step - loss: 0.4717 - accuracy: 0.7712 - val_loss: 0.4379 - val_accuracy: 0.7993\n",
      "Epoch 15/25\n",
      "169/169 [==============================] - 0s 2ms/step - loss: 0.4734 - accuracy: 0.7710 - val_loss: 0.4360 - val_accuracy: 0.7977\n",
      "Epoch 16/25\n",
      "169/169 [==============================] - 0s 2ms/step - loss: 0.4653 - accuracy: 0.7758 - val_loss: 0.4341 - val_accuracy: 0.7993\n",
      "Epoch 17/25\n",
      "169/169 [==============================] - 0s 2ms/step - loss: 0.4725 - accuracy: 0.7745 - val_loss: 0.4341 - val_accuracy: 0.7977\n",
      "Epoch 18/25\n",
      "169/169 [==============================] - 0s 2ms/step - loss: 0.4663 - accuracy: 0.7743 - val_loss: 0.4325 - val_accuracy: 0.7977\n",
      "Epoch 19/25\n",
      "169/169 [==============================] - 0s 2ms/step - loss: 0.4606 - accuracy: 0.7777 - val_loss: 0.4310 - val_accuracy: 0.7993\n",
      "Epoch 20/25\n",
      "169/169 [==============================] - 0s 2ms/step - loss: 0.4640 - accuracy: 0.7807 - val_loss: 0.4298 - val_accuracy: 0.8043\n",
      "Epoch 21/25\n",
      "169/169 [==============================] - 0s 2ms/step - loss: 0.4687 - accuracy: 0.7723 - val_loss: 0.4301 - val_accuracy: 0.7993\n",
      "Epoch 22/25\n",
      "169/169 [==============================] - 0s 2ms/step - loss: 0.4673 - accuracy: 0.7742 - val_loss: 0.4296 - val_accuracy: 0.7977\n",
      "Epoch 23/25\n",
      "169/169 [==============================] - 0s 2ms/step - loss: 0.4608 - accuracy: 0.7719 - val_loss: 0.4294 - val_accuracy: 0.8027\n",
      "Epoch 24/25\n",
      "169/169 [==============================] - 0s 2ms/step - loss: 0.4605 - accuracy: 0.7753 - val_loss: 0.4289 - val_accuracy: 0.7993\n",
      "Epoch 25/25\n",
      "169/169 [==============================] - 0s 2ms/step - loss: 0.4580 - accuracy: 0.7797 - val_loss: 0.4282 - val_accuracy: 0.8060\n"
     ]
    }
   ],
   "source": [
    "history_b = seq_model_B.fit(X_train_final, y_train, epochs=25, validation_data=(X_val_final, y_val))"
   ]
  },
  {
   "cell_type": "markdown",
   "metadata": {},
   "source": [
    "### **7.3 Functional API**"
   ]
  },
  {
   "cell_type": "code",
   "execution_count": 109,
   "metadata": {},
   "outputs": [
    {
     "name": "stdout",
     "output_type": "stream",
     "text": [
      "Epoch 1/25\n",
      "169/169 [==============================] - 1s 3ms/step - loss: 0.5556 - accuracy: 0.7257 - val_loss: 0.4963 - val_accuracy: 0.7726\n",
      "Epoch 2/25\n",
      "169/169 [==============================] - 0s 2ms/step - loss: 0.4715 - accuracy: 0.7719 - val_loss: 0.4518 - val_accuracy: 0.7910\n",
      "Epoch 3/25\n",
      "169/169 [==============================] - 0s 2ms/step - loss: 0.4434 - accuracy: 0.7913 - val_loss: 0.4356 - val_accuracy: 0.7977\n",
      "Epoch 4/25\n",
      "169/169 [==============================] - 0s 3ms/step - loss: 0.4333 - accuracy: 0.7946 - val_loss: 0.4289 - val_accuracy: 0.8043\n",
      "Epoch 5/25\n",
      "169/169 [==============================] - 0s 2ms/step - loss: 0.4285 - accuracy: 0.7976 - val_loss: 0.4246 - val_accuracy: 0.7977\n",
      "Epoch 6/25\n",
      "169/169 [==============================] - 0s 2ms/step - loss: 0.4258 - accuracy: 0.8007 - val_loss: 0.4223 - val_accuracy: 0.7993\n",
      "Epoch 7/25\n",
      "169/169 [==============================] - 0s 2ms/step - loss: 0.4237 - accuracy: 0.8002 - val_loss: 0.4205 - val_accuracy: 0.7993\n",
      "Epoch 8/25\n",
      "169/169 [==============================] - 0s 2ms/step - loss: 0.4223 - accuracy: 0.8011 - val_loss: 0.4185 - val_accuracy: 0.7993\n",
      "Epoch 9/25\n",
      "169/169 [==============================] - 0s 2ms/step - loss: 0.4210 - accuracy: 0.8017 - val_loss: 0.4179 - val_accuracy: 0.8010\n",
      "Epoch 10/25\n",
      "169/169 [==============================] - 0s 2ms/step - loss: 0.4200 - accuracy: 0.8032 - val_loss: 0.4168 - val_accuracy: 0.8010\n",
      "Epoch 11/25\n",
      "169/169 [==============================] - 0s 2ms/step - loss: 0.4191 - accuracy: 0.8035 - val_loss: 0.4157 - val_accuracy: 0.8027\n",
      "Epoch 12/25\n",
      "169/169 [==============================] - 0s 2ms/step - loss: 0.4180 - accuracy: 0.8056 - val_loss: 0.4155 - val_accuracy: 0.8027\n",
      "Epoch 13/25\n",
      "169/169 [==============================] - 0s 2ms/step - loss: 0.4174 - accuracy: 0.8056 - val_loss: 0.4143 - val_accuracy: 0.8027\n",
      "Epoch 14/25\n",
      "169/169 [==============================] - 0s 2ms/step - loss: 0.4167 - accuracy: 0.8063 - val_loss: 0.4142 - val_accuracy: 0.8043\n",
      "Epoch 15/25\n",
      "169/169 [==============================] - 0s 2ms/step - loss: 0.4163 - accuracy: 0.8046 - val_loss: 0.4138 - val_accuracy: 0.8027\n",
      "Epoch 16/25\n",
      "169/169 [==============================] - 0s 2ms/step - loss: 0.4158 - accuracy: 0.8076 - val_loss: 0.4132 - val_accuracy: 0.8027\n",
      "Epoch 17/25\n",
      "169/169 [==============================] - 0s 2ms/step - loss: 0.4153 - accuracy: 0.8074 - val_loss: 0.4121 - val_accuracy: 0.8043\n",
      "Epoch 18/25\n",
      "169/169 [==============================] - 0s 2ms/step - loss: 0.4148 - accuracy: 0.8071 - val_loss: 0.4128 - val_accuracy: 0.8027\n",
      "Epoch 19/25\n",
      "169/169 [==============================] - 0s 2ms/step - loss: 0.4144 - accuracy: 0.8058 - val_loss: 0.4120 - val_accuracy: 0.8010\n",
      "Epoch 20/25\n",
      "169/169 [==============================] - 0s 2ms/step - loss: 0.4140 - accuracy: 0.8076 - val_loss: 0.4119 - val_accuracy: 0.8060\n",
      "Epoch 21/25\n",
      "169/169 [==============================] - 0s 2ms/step - loss: 0.4137 - accuracy: 0.8074 - val_loss: 0.4123 - val_accuracy: 0.8043\n",
      "Epoch 22/25\n",
      "169/169 [==============================] - 0s 3ms/step - loss: 0.4134 - accuracy: 0.8065 - val_loss: 0.4121 - val_accuracy: 0.8027\n",
      "Epoch 23/25\n",
      "169/169 [==============================] - 0s 2ms/step - loss: 0.4130 - accuracy: 0.8069 - val_loss: 0.4117 - val_accuracy: 0.8043\n",
      "Epoch 24/25\n",
      "169/169 [==============================] - 0s 2ms/step - loss: 0.4125 - accuracy: 0.8065 - val_loss: 0.4113 - val_accuracy: 0.8060\n",
      "Epoch 25/25\n",
      "169/169 [==============================] - 0s 2ms/step - loss: 0.4123 - accuracy: 0.8069 - val_loss: 0.4114 - val_accuracy: 0.8077\n"
     ]
    }
   ],
   "source": [
    "history_c = func_model.fit(X_train_final, y_train, epochs=25, validation_data=(X_val_final, y_val))"
   ]
  },
  {
   "cell_type": "markdown",
   "metadata": {},
   "source": [
    "## **8. Model Evaluation**"
   ]
  },
  {
   "cell_type": "markdown",
   "metadata": {},
   "source": [
    "### **8.1 Sequential API A**"
   ]
  },
  {
   "cell_type": "code",
   "execution_count": 110,
   "metadata": {},
   "outputs": [
    {
     "name": "stdout",
     "output_type": "stream",
     "text": [
      "33/33 [==============================] - 0s 1ms/step\n",
      "              precision    recall  f1-score   support\n",
      "\n",
      "           0       0.84      0.88      0.86       756\n",
      "           1       0.66      0.57      0.61       299\n",
      "\n",
      "    accuracy                           0.80      1055\n",
      "   macro avg       0.75      0.73      0.74      1055\n",
      "weighted avg       0.79      0.80      0.79      1055\n",
      "\n"
     ]
    }
   ],
   "source": [
    "y_pred_a = seq_model_A.predict(X_test_final)\n",
    "y_pred_a = np.where(y_pred_a >= 0.5, 1, 0)\n",
    "print(classification_report(y_test, y_pred_a))"
   ]
  },
  {
   "cell_type": "code",
   "execution_count": 111,
   "metadata": {},
   "outputs": [
    {
     "data": {
      "text/html": [
       "<div>\n",
       "<style scoped>\n",
       "    .dataframe tbody tr th:only-of-type {\n",
       "        vertical-align: middle;\n",
       "    }\n",
       "\n",
       "    .dataframe tbody tr th {\n",
       "        vertical-align: top;\n",
       "    }\n",
       "\n",
       "    .dataframe thead th {\n",
       "        text-align: right;\n",
       "    }\n",
       "</style>\n",
       "<table border=\"1\" class=\"dataframe\">\n",
       "  <thead>\n",
       "    <tr style=\"text-align: right;\">\n",
       "      <th></th>\n",
       "      <th>loss</th>\n",
       "      <th>accuracy</th>\n",
       "      <th>val_loss</th>\n",
       "      <th>val_accuracy</th>\n",
       "    </tr>\n",
       "  </thead>\n",
       "  <tbody>\n",
       "    <tr>\n",
       "      <th>20</th>\n",
       "      <td>0.414716</td>\n",
       "      <td>0.805576</td>\n",
       "      <td>0.407927</td>\n",
       "      <td>0.804348</td>\n",
       "    </tr>\n",
       "    <tr>\n",
       "      <th>21</th>\n",
       "      <td>0.414100</td>\n",
       "      <td>0.803160</td>\n",
       "      <td>0.407745</td>\n",
       "      <td>0.802676</td>\n",
       "    </tr>\n",
       "    <tr>\n",
       "      <th>22</th>\n",
       "      <td>0.413703</td>\n",
       "      <td>0.805390</td>\n",
       "      <td>0.407330</td>\n",
       "      <td>0.806020</td>\n",
       "    </tr>\n",
       "    <tr>\n",
       "      <th>23</th>\n",
       "      <td>0.412939</td>\n",
       "      <td>0.805762</td>\n",
       "      <td>0.407776</td>\n",
       "      <td>0.802676</td>\n",
       "    </tr>\n",
       "    <tr>\n",
       "      <th>24</th>\n",
       "      <td>0.412640</td>\n",
       "      <td>0.806134</td>\n",
       "      <td>0.407823</td>\n",
       "      <td>0.804348</td>\n",
       "    </tr>\n",
       "  </tbody>\n",
       "</table>\n",
       "</div>"
      ],
      "text/plain": [
       "        loss  accuracy  val_loss  val_accuracy\n",
       "20  0.414716  0.805576  0.407927      0.804348\n",
       "21  0.414100  0.803160  0.407745      0.802676\n",
       "22  0.413703  0.805390  0.407330      0.806020\n",
       "23  0.412939  0.805762  0.407776      0.802676\n",
       "24  0.412640  0.806134  0.407823      0.804348"
      ]
     },
     "execution_count": 111,
     "metadata": {},
     "output_type": "execute_result"
    }
   ],
   "source": [
    "metrics_a = pd.DataFrame(history_a.history)\n",
    "metrics_a.tail()"
   ]
  },
  {
   "cell_type": "code",
   "execution_count": 112,
   "metadata": {},
   "outputs": [
    {
     "data": {
      "image/png": "[encoded data removed]",
      "text/plain": [
       "<Figure size 864x288 with 2 Axes>"
      ]
     },
     "metadata": {
      "needs_background": "light"
     },
     "output_type": "display_data"
    }
   ],
   "source": [
    "fig,ax=plt.subplots(ncols=2,figsize=(12,4))\n",
    "\n",
    "ax[0].plot(metrics_a[['loss', 'val_loss']])\n",
    "ax[0].set_title('Loss')\n",
    "ax[0].set_xlabel('Epoch')\n",
    "\n",
    "ax[1].plot(metrics_a[['accuracy', 'val_accuracy']])\n",
    "ax[1].set_title('Accuracy')\n",
    "ax[1].set_xlabel('Epoch')\n",
    "\n",
    "plt.show()"
   ]
  },
  {
   "cell_type": "markdown",
   "metadata": {},
   "source": [
    "Sequential API A shows accuracy of **0.79**, and the graph above shows that the fitting is just right. There aren't any exploding gradient or vanishing gradient detected."
   ]
  },
  {
   "cell_type": "markdown",
   "metadata": {},
   "source": [
    "### **8.2 Sequential API B**"
   ]
  },
  {
   "cell_type": "code",
   "execution_count": 113,
   "metadata": {},
   "outputs": [
    {
     "name": "stdout",
     "output_type": "stream",
     "text": [
      "33/33 [==============================] - 0s 2ms/step\n",
      "              precision    recall  f1-score   support\n",
      "\n",
      "           0       0.79      0.92      0.85       756\n",
      "           1       0.66      0.38      0.49       299\n",
      "\n",
      "    accuracy                           0.77      1055\n",
      "   macro avg       0.73      0.65      0.67      1055\n",
      "weighted avg       0.76      0.77      0.75      1055\n",
      "\n"
     ]
    }
   ],
   "source": [
    "y_pred_b = seq_model_B.predict(X_test_final)\n",
    "y_pred_b = np.where(y_pred_b >= 0.5, 1, 0)\n",
    "print(classification_report(y_test, y_pred_b))"
   ]
  },
  {
   "cell_type": "code",
   "execution_count": 114,
   "metadata": {},
   "outputs": [
    {
     "data": {
      "text/html": [
       "<div>\n",
       "<style scoped>\n",
       "    .dataframe tbody tr th:only-of-type {\n",
       "        vertical-align: middle;\n",
       "    }\n",
       "\n",
       "    .dataframe tbody tr th {\n",
       "        vertical-align: top;\n",
       "    }\n",
       "\n",
       "    .dataframe thead th {\n",
       "        text-align: right;\n",
       "    }\n",
       "</style>\n",
       "<table border=\"1\" class=\"dataframe\">\n",
       "  <thead>\n",
       "    <tr style=\"text-align: right;\">\n",
       "      <th></th>\n",
       "      <th>loss</th>\n",
       "      <th>accuracy</th>\n",
       "      <th>val_loss</th>\n",
       "      <th>val_accuracy</th>\n",
       "    </tr>\n",
       "  </thead>\n",
       "  <tbody>\n",
       "    <tr>\n",
       "      <th>20</th>\n",
       "      <td>0.468732</td>\n",
       "      <td>0.772305</td>\n",
       "      <td>0.430099</td>\n",
       "      <td>0.799331</td>\n",
       "    </tr>\n",
       "    <tr>\n",
       "      <th>21</th>\n",
       "      <td>0.467331</td>\n",
       "      <td>0.774164</td>\n",
       "      <td>0.429621</td>\n",
       "      <td>0.797659</td>\n",
       "    </tr>\n",
       "    <tr>\n",
       "      <th>22</th>\n",
       "      <td>0.460816</td>\n",
       "      <td>0.771933</td>\n",
       "      <td>0.429444</td>\n",
       "      <td>0.802676</td>\n",
       "    </tr>\n",
       "    <tr>\n",
       "      <th>23</th>\n",
       "      <td>0.460535</td>\n",
       "      <td>0.775279</td>\n",
       "      <td>0.428879</td>\n",
       "      <td>0.799331</td>\n",
       "    </tr>\n",
       "    <tr>\n",
       "      <th>24</th>\n",
       "      <td>0.457977</td>\n",
       "      <td>0.779740</td>\n",
       "      <td>0.428238</td>\n",
       "      <td>0.806020</td>\n",
       "    </tr>\n",
       "  </tbody>\n",
       "</table>\n",
       "</div>"
      ],
      "text/plain": [
       "        loss  accuracy  val_loss  val_accuracy\n",
       "20  0.468732  0.772305  0.430099      0.799331\n",
       "21  0.467331  0.774164  0.429621      0.797659\n",
       "22  0.460816  0.771933  0.429444      0.802676\n",
       "23  0.460535  0.775279  0.428879      0.799331\n",
       "24  0.457977  0.779740  0.428238      0.806020"
      ]
     },
     "execution_count": 114,
     "metadata": {},
     "output_type": "execute_result"
    }
   ],
   "source": [
    "metrics_b = pd.DataFrame(history_b.history)\n",
    "metrics_b.tail()"
   ]
  },
  {
   "cell_type": "code",
   "execution_count": 115,
   "metadata": {},
   "outputs": [
    {
     "data": {
      "image/png": "[encoded data removed]",
      "text/plain": [
       "<Figure size 864x288 with 2 Axes>"
      ]
     },
     "metadata": {
      "needs_background": "light"
     },
     "output_type": "display_data"
    }
   ],
   "source": [
    "fig,ax=plt.subplots(ncols=2,figsize=(12,4))\n",
    "\n",
    "ax[0].plot(metrics_b[['loss', 'val_loss']])\n",
    "ax[0].set_title('Loss')\n",
    "ax[0].set_xlabel('Epoch')\n",
    "\n",
    "ax[1].plot(metrics_b[['accuracy', 'val_accuracy']])\n",
    "ax[1].set_title('Accuracy')\n",
    "ax[1].set_xlabel('Epoch')\n",
    "\n",
    "plt.show()"
   ]
  },
  {
   "cell_type": "markdown",
   "metadata": {},
   "source": [
    "Sequential API B shows accuracy of **0.77** same with Seqeuntial API A, and the graph above shows that the fitting is just right. There aren't any significant exploding gradient or vanishing gradient detected as well. However, the graph of Sequential API A is better since the train and validation line in Sequential API A are closer than Sequential API B."
   ]
  },
  {
   "cell_type": "markdown",
   "metadata": {},
   "source": [
    "### **8.3 Functional API**"
   ]
  },
  {
   "cell_type": "code",
   "execution_count": 116,
   "metadata": {},
   "outputs": [
    {
     "name": "stdout",
     "output_type": "stream",
     "text": [
      "33/33 [==============================] - 0s 2ms/step\n",
      "              precision    recall  f1-score   support\n",
      "\n",
      "           0       0.83      0.88      0.86       756\n",
      "           1       0.65      0.56      0.60       299\n",
      "\n",
      "    accuracy                           0.79      1055\n",
      "   macro avg       0.74      0.72      0.73      1055\n",
      "weighted avg       0.78      0.79      0.78      1055\n",
      "\n"
     ]
    }
   ],
   "source": [
    "y_pred_c = func_model.predict(X_test_final)\n",
    "y_pred_c = np.where(y_pred_c >= 0.5, 1, 0)\n",
    "print(classification_report(y_test, y_pred_c))"
   ]
  },
  {
   "cell_type": "code",
   "execution_count": 117,
   "metadata": {},
   "outputs": [
    {
     "data": {
      "text/html": [
       "<div>\n",
       "<style scoped>\n",
       "    .dataframe tbody tr th:only-of-type {\n",
       "        vertical-align: middle;\n",
       "    }\n",
       "\n",
       "    .dataframe tbody tr th {\n",
       "        vertical-align: top;\n",
       "    }\n",
       "\n",
       "    .dataframe thead th {\n",
       "        text-align: right;\n",
       "    }\n",
       "</style>\n",
       "<table border=\"1\" class=\"dataframe\">\n",
       "  <thead>\n",
       "    <tr style=\"text-align: right;\">\n",
       "      <th></th>\n",
       "      <th>loss</th>\n",
       "      <th>accuracy</th>\n",
       "      <th>val_loss</th>\n",
       "      <th>val_accuracy</th>\n",
       "    </tr>\n",
       "  </thead>\n",
       "  <tbody>\n",
       "    <tr>\n",
       "      <th>20</th>\n",
       "      <td>0.413698</td>\n",
       "      <td>0.807435</td>\n",
       "      <td>0.412293</td>\n",
       "      <td>0.804348</td>\n",
       "    </tr>\n",
       "    <tr>\n",
       "      <th>21</th>\n",
       "      <td>0.413360</td>\n",
       "      <td>0.806506</td>\n",
       "      <td>0.412143</td>\n",
       "      <td>0.802676</td>\n",
       "    </tr>\n",
       "    <tr>\n",
       "      <th>22</th>\n",
       "      <td>0.412987</td>\n",
       "      <td>0.806877</td>\n",
       "      <td>0.411724</td>\n",
       "      <td>0.804348</td>\n",
       "    </tr>\n",
       "    <tr>\n",
       "      <th>23</th>\n",
       "      <td>0.412525</td>\n",
       "      <td>0.806506</td>\n",
       "      <td>0.411305</td>\n",
       "      <td>0.806020</td>\n",
       "    </tr>\n",
       "    <tr>\n",
       "      <th>24</th>\n",
       "      <td>0.412334</td>\n",
       "      <td>0.806877</td>\n",
       "      <td>0.411413</td>\n",
       "      <td>0.807692</td>\n",
       "    </tr>\n",
       "  </tbody>\n",
       "</table>\n",
       "</div>"
      ],
      "text/plain": [
       "        loss  accuracy  val_loss  val_accuracy\n",
       "20  0.413698  0.807435  0.412293      0.804348\n",
       "21  0.413360  0.806506  0.412143      0.802676\n",
       "22  0.412987  0.806877  0.411724      0.804348\n",
       "23  0.412525  0.806506  0.411305      0.806020\n",
       "24  0.412334  0.806877  0.411413      0.807692"
      ]
     },
     "execution_count": 117,
     "metadata": {},
     "output_type": "execute_result"
    }
   ],
   "source": [
    "metrics_c = pd.DataFrame(history_c.history)\n",
    "metrics_c.tail()"
   ]
  },
  {
   "cell_type": "code",
   "execution_count": 118,
   "metadata": {},
   "outputs": [
    {
     "data": {
      "image/png": "[encoded data removed]",
      "text/plain": [
       "<Figure size 864x288 with 2 Axes>"
      ]
     },
     "metadata": {
      "needs_background": "light"
     },
     "output_type": "display_data"
    }
   ],
   "source": [
    "fig,ax=plt.subplots(ncols=2,figsize=(12,4))\n",
    "\n",
    "ax[0].plot(metrics_c[['loss', 'val_loss']])\n",
    "ax[0].set_title('Loss')\n",
    "ax[0].set_xlabel('Epoch')\n",
    "\n",
    "ax[1].plot(metrics_c[['accuracy', 'val_accuracy']])\n",
    "ax[1].set_title('Accuracy')\n",
    "ax[1].set_xlabel('Epoch')\n",
    "\n",
    "plt.show()"
   ]
  },
  {
   "cell_type": "markdown",
   "metadata": {},
   "source": [
    "Funtional API have the same hyperparameters as Sequential API A, therefore teh modelling is actually the same."
   ]
  },
  {
   "cell_type": "markdown",
   "metadata": {},
   "source": [
    "## **9. Model Saving**"
   ]
  },
  {
   "cell_type": "markdown",
   "metadata": {},
   "source": [
    "### **9.1 Pipeline**"
   ]
  },
  {
   "cell_type": "code",
   "execution_count": 119,
   "metadata": {},
   "outputs": [
    {
     "name": "stdout",
     "output_type": "stream",
     "text": [
      "Epoch 1/25\n",
      "108/108 [==============================] - 1s 4ms/step - loss: 0.9138 - accuracy: 0.4680 - val_loss: 0.7333 - val_accuracy: 0.5635\n",
      "Epoch 2/25\n",
      "108/108 [==============================] - 0s 3ms/step - loss: 0.6750 - accuracy: 0.6004 - val_loss: 0.5941 - val_accuracy: 0.6656\n",
      "Epoch 3/25\n",
      "108/108 [==============================] - 0s 2ms/step - loss: 0.5758 - accuracy: 0.6773 - val_loss: 0.5315 - val_accuracy: 0.7140\n",
      "Epoch 4/25\n",
      "108/108 [==============================] - 0s 2ms/step - loss: 0.5250 - accuracy: 0.7333 - val_loss: 0.4966 - val_accuracy: 0.7525\n",
      "Epoch 5/25\n",
      "108/108 [==============================] - 0s 2ms/step - loss: 0.4938 - accuracy: 0.7613 - val_loss: 0.4744 - val_accuracy: 0.7726\n",
      "Epoch 6/25\n",
      "108/108 [==============================] - 0s 2ms/step - loss: 0.4724 - accuracy: 0.7809 - val_loss: 0.4587 - val_accuracy: 0.7876\n",
      "Epoch 7/25\n",
      "108/108 [==============================] - 0s 2ms/step - loss: 0.4571 - accuracy: 0.7874 - val_loss: 0.4472 - val_accuracy: 0.7960\n",
      "Epoch 8/25\n",
      "108/108 [==============================] - 0s 2ms/step - loss: 0.4463 - accuracy: 0.7905 - val_loss: 0.4387 - val_accuracy: 0.7960\n",
      "Epoch 9/25\n",
      "108/108 [==============================] - 0s 2ms/step - loss: 0.4387 - accuracy: 0.7924 - val_loss: 0.4324 - val_accuracy: 0.8010\n",
      "Epoch 10/25\n",
      "108/108 [==============================] - 0s 2ms/step - loss: 0.4333 - accuracy: 0.7954 - val_loss: 0.4275 - val_accuracy: 0.7977\n",
      "Epoch 11/25\n",
      "108/108 [==============================] - 0s 2ms/step - loss: 0.4292 - accuracy: 0.7983 - val_loss: 0.4237 - val_accuracy: 0.7977\n",
      "Epoch 12/25\n",
      "108/108 [==============================] - 0s 2ms/step - loss: 0.4260 - accuracy: 0.7994 - val_loss: 0.4208 - val_accuracy: 0.7977\n",
      "Epoch 13/25\n",
      "108/108 [==============================] - 0s 2ms/step - loss: 0.4236 - accuracy: 0.7998 - val_loss: 0.4186 - val_accuracy: 0.7977\n",
      "Epoch 14/25\n",
      "108/108 [==============================] - 0s 2ms/step - loss: 0.4218 - accuracy: 0.8015 - val_loss: 0.4169 - val_accuracy: 0.7977\n",
      "Epoch 15/25\n",
      "108/108 [==============================] - 0s 2ms/step - loss: 0.4203 - accuracy: 0.8020 - val_loss: 0.4155 - val_accuracy: 0.7977\n",
      "Epoch 16/25\n",
      "108/108 [==============================] - 0s 2ms/step - loss: 0.4191 - accuracy: 0.8028 - val_loss: 0.4144 - val_accuracy: 0.7943\n",
      "Epoch 17/25\n",
      "108/108 [==============================] - 0s 2ms/step - loss: 0.4180 - accuracy: 0.8035 - val_loss: 0.4135 - val_accuracy: 0.7960\n",
      "Epoch 18/25\n",
      "108/108 [==============================] - 0s 2ms/step - loss: 0.4171 - accuracy: 0.8033 - val_loss: 0.4127 - val_accuracy: 0.7943\n",
      "Epoch 19/25\n",
      "108/108 [==============================] - 0s 2ms/step - loss: 0.4163 - accuracy: 0.8026 - val_loss: 0.4122 - val_accuracy: 0.8010\n",
      "Epoch 20/25\n",
      "108/108 [==============================] - 0s 2ms/step - loss: 0.4156 - accuracy: 0.8024 - val_loss: 0.4117 - val_accuracy: 0.8010\n",
      "Epoch 21/25\n",
      "108/108 [==============================] - 0s 2ms/step - loss: 0.4150 - accuracy: 0.8017 - val_loss: 0.4112 - val_accuracy: 0.8027\n",
      "Epoch 22/25\n",
      "108/108 [==============================] - 0s 2ms/step - loss: 0.4144 - accuracy: 0.8020 - val_loss: 0.4109 - val_accuracy: 0.8027\n",
      "Epoch 23/25\n",
      "108/108 [==============================] - 0s 2ms/step - loss: 0.4139 - accuracy: 0.8030 - val_loss: 0.4106 - val_accuracy: 0.8027\n",
      "Epoch 24/25\n",
      "108/108 [==============================] - 0s 2ms/step - loss: 0.4135 - accuracy: 0.8033 - val_loss: 0.4103 - val_accuracy: 0.8043\n",
      "Epoch 25/25\n",
      "108/108 [==============================] - 0s 3ms/step - loss: 0.4130 - accuracy: 0.8037 - val_loss: 0.4100 - val_accuracy: 0.8060\n"
     ]
    },
    {
     "data": {
      "text/plain": [
       "<keras.callbacks.History at 0x180dd716bb0>"
      ]
     },
     "execution_count": 119,
     "metadata": {},
     "output_type": "execute_result"
    }
   ],
   "source": [
    "# Define pipeline for train, val, and test set\n",
    "train_set = tf.data.Dataset.from_tensor_slices((X_train_final, y_train))\n",
    "train_set = train_set.batch(50)\n",
    "\n",
    "val_set = tf.data.Dataset.from_tensor_slices((X_val_final, y_val))\n",
    "val_set = val_set.batch(50)\n",
    "\n",
    "test_set = tf.data.Dataset.from_tensor_slices((X_test_final, y_test))\n",
    "test_set = test_set.batch(50)\n",
    "\n",
    "# Define the model\n",
    "model_pipe = Sequential()\n",
    "model_pipe.add(Dense(9, input_shape=(15,), activation=\"relu\", kernel_initializer=tf.keras.initializers.HeUniform()))\n",
    "model_pipe.add(Dense(1, activation=\"sigmoid\"))\n",
    "model_pipe.compile(optimizer = 'adam',\n",
    "                   loss = 'binary_crossentropy',\n",
    "                   metrics = ['accuracy'])\n",
    "                   \n",
    "model_pipe.fit(train_set, epochs=25, validation_data=val_set)"
   ]
  },
  {
   "cell_type": "code",
   "execution_count": 120,
   "metadata": {},
   "outputs": [],
   "source": [
    "model_pipe.save('churn_model.h5')"
   ]
  },
  {
   "cell_type": "markdown",
   "metadata": {},
   "source": [
    "### **9.2 Preprocessing Pipeline**"
   ]
  },
  {
   "cell_type": "code",
   "execution_count": 121,
   "metadata": {},
   "outputs": [
    {
     "name": "stdout",
     "output_type": "stream",
     "text": [
      "[Pipeline] ..... (step 1 of 2) Processing normalization, total=   0.1s\n",
      "[Pipeline] ......... (step 2 of 2) Processing reduction, total=   0.0s\n"
     ]
    }
   ],
   "source": [
    "# Numerical pipeline\n",
    "num_pipe = make_pipeline(Winsorizer(capping_method='gaussian', \n",
    "                                    tail='both',\n",
    "                                    fold=1.5,\n",
    "                                    missing_values='ignore'),\n",
    "                         MeanMedianImputer(imputation_method='median'),\n",
    "                         StandardScaler())\n",
    "\n",
    "# Binary Class pipeline\n",
    "bin_pipe = make_pipeline(OrdinalEncoder())\n",
    "\n",
    "# Multiclass pipeline\n",
    "mcl_pipe = make_pipeline(OneHotEncoder())\n",
    "\n",
    "preprocess_pipeline = Pipeline(steps=[(\"normalization\", ColumnTransformer(transformers=[('num_input', num_pipe, num_columns),\n",
    "                                                                                        ('bin_input', bin_pipe, bin_columns),\n",
    "                                                                                        ('mcl_input', mcl_pipe, mcl_columns)\n",
    "                                                                                       ], remainder='passthrough')),\n",
    "                                      (\"reduction\", PCA(n_components=0.9))], verbose=True)\n",
    "\n",
    "preprocess_pipeline.fit(X_train)\n",
    "\n",
    "with open(\"churn_preprocessing.pkl\", \"wb\") as f:\n",
    "    pickle.dump(preprocess_pipeline, f)"
   ]
  },
  {
   "cell_type": "markdown",
   "metadata": {},
   "source": [
    "## **10. Model Inference**"
   ]
  },
  {
   "cell_type": "code",
   "execution_count": 122,
   "metadata": {},
   "outputs": [
    {
     "data": {
      "text/html": [
       "<div>\n",
       "<style scoped>\n",
       "    .dataframe tbody tr th:only-of-type {\n",
       "        vertical-align: middle;\n",
       "    }\n",
       "\n",
       "    .dataframe tbody tr th {\n",
       "        vertical-align: top;\n",
       "    }\n",
       "\n",
       "    .dataframe thead th {\n",
       "        text-align: right;\n",
       "    }\n",
       "</style>\n",
       "<table border=\"1\" class=\"dataframe\">\n",
       "  <thead>\n",
       "    <tr style=\"text-align: right;\">\n",
       "      <th></th>\n",
       "      <th>gender</th>\n",
       "      <th>SeniorCitizen</th>\n",
       "      <th>Partner</th>\n",
       "      <th>Dependents</th>\n",
       "      <th>tenure</th>\n",
       "      <th>PhoneService</th>\n",
       "      <th>MultipleLines</th>\n",
       "      <th>InternetService</th>\n",
       "      <th>OnlineSecurity</th>\n",
       "      <th>OnlineBackup</th>\n",
       "      <th>DeviceProtection</th>\n",
       "      <th>TechSupport</th>\n",
       "      <th>StreamingTV</th>\n",
       "      <th>StreamingMovies</th>\n",
       "      <th>Contract</th>\n",
       "      <th>PaperlessBilling</th>\n",
       "      <th>PaymentMethod</th>\n",
       "      <th>MonthlyCharges</th>\n",
       "      <th>TotalCharges</th>\n",
       "      <th>Churn</th>\n",
       "    </tr>\n",
       "  </thead>\n",
       "  <tbody>\n",
       "    <tr>\n",
       "      <th>0</th>\n",
       "      <td>Female</td>\n",
       "      <td>No</td>\n",
       "      <td>Yes</td>\n",
       "      <td>Yes</td>\n",
       "      <td>71</td>\n",
       "      <td>Yes</td>\n",
       "      <td>Yes</td>\n",
       "      <td>No</td>\n",
       "      <td>No internet service</td>\n",
       "      <td>No internet service</td>\n",
       "      <td>No internet service</td>\n",
       "      <td>No internet service</td>\n",
       "      <td>No internet service</td>\n",
       "      <td>No internet service</td>\n",
       "      <td>Two year</td>\n",
       "      <td>No</td>\n",
       "      <td>Bank transfer (automatic)</td>\n",
       "      <td>24.70</td>\n",
       "      <td>1810.55</td>\n",
       "      <td>0</td>\n",
       "    </tr>\n",
       "    <tr>\n",
       "      <th>1</th>\n",
       "      <td>Female</td>\n",
       "      <td>No</td>\n",
       "      <td>No</td>\n",
       "      <td>No</td>\n",
       "      <td>1</td>\n",
       "      <td>Yes</td>\n",
       "      <td>Yes</td>\n",
       "      <td>Fiber optic</td>\n",
       "      <td>No</td>\n",
       "      <td>No</td>\n",
       "      <td>No</td>\n",
       "      <td>No</td>\n",
       "      <td>No</td>\n",
       "      <td>No</td>\n",
       "      <td>Month-to-month</td>\n",
       "      <td>Yes</td>\n",
       "      <td>Electronic check</td>\n",
       "      <td>74.50</td>\n",
       "      <td>74.50</td>\n",
       "      <td>1</td>\n",
       "    </tr>\n",
       "    <tr>\n",
       "      <th>2</th>\n",
       "      <td>Male</td>\n",
       "      <td>No</td>\n",
       "      <td>Yes</td>\n",
       "      <td>Yes</td>\n",
       "      <td>35</td>\n",
       "      <td>Yes</td>\n",
       "      <td>Yes</td>\n",
       "      <td>DSL</td>\n",
       "      <td>No</td>\n",
       "      <td>No</td>\n",
       "      <td>No</td>\n",
       "      <td>Yes</td>\n",
       "      <td>Yes</td>\n",
       "      <td>Yes</td>\n",
       "      <td>One year</td>\n",
       "      <td>Yes</td>\n",
       "      <td>Bank transfer (automatic)</td>\n",
       "      <td>73.45</td>\n",
       "      <td>2661.10</td>\n",
       "      <td>0</td>\n",
       "    </tr>\n",
       "    <tr>\n",
       "      <th>3</th>\n",
       "      <td>Male</td>\n",
       "      <td>No</td>\n",
       "      <td>Yes</td>\n",
       "      <td>Yes</td>\n",
       "      <td>36</td>\n",
       "      <td>Yes</td>\n",
       "      <td>Yes</td>\n",
       "      <td>No</td>\n",
       "      <td>No internet service</td>\n",
       "      <td>No internet service</td>\n",
       "      <td>No internet service</td>\n",
       "      <td>No internet service</td>\n",
       "      <td>No internet service</td>\n",
       "      <td>No internet service</td>\n",
       "      <td>Two year</td>\n",
       "      <td>No</td>\n",
       "      <td>Credit card (automatic)</td>\n",
       "      <td>25.10</td>\n",
       "      <td>930.95</td>\n",
       "      <td>0</td>\n",
       "    </tr>\n",
       "    <tr>\n",
       "      <th>4</th>\n",
       "      <td>Female</td>\n",
       "      <td>No</td>\n",
       "      <td>No</td>\n",
       "      <td>No</td>\n",
       "      <td>9</td>\n",
       "      <td>Yes</td>\n",
       "      <td>Yes</td>\n",
       "      <td>Fiber optic</td>\n",
       "      <td>No</td>\n",
       "      <td>No</td>\n",
       "      <td>No</td>\n",
       "      <td>No</td>\n",
       "      <td>No</td>\n",
       "      <td>No</td>\n",
       "      <td>Month-to-month</td>\n",
       "      <td>Yes</td>\n",
       "      <td>Credit card (automatic)</td>\n",
       "      <td>75.20</td>\n",
       "      <td>633.85</td>\n",
       "      <td>0</td>\n",
       "    </tr>\n",
       "  </tbody>\n",
       "</table>\n",
       "</div>"
      ],
      "text/plain": [
       "   gender SeniorCitizen Partner Dependents  tenure PhoneService MultipleLines  \\\n",
       "0  Female            No     Yes        Yes      71          Yes           Yes   \n",
       "1  Female            No      No         No       1          Yes           Yes   \n",
       "2    Male            No     Yes        Yes      35          Yes           Yes   \n",
       "3    Male            No     Yes        Yes      36          Yes           Yes   \n",
       "4  Female            No      No         No       9          Yes           Yes   \n",
       "\n",
       "  InternetService       OnlineSecurity         OnlineBackup  \\\n",
       "0              No  No internet service  No internet service   \n",
       "1     Fiber optic                   No                   No   \n",
       "2             DSL                   No                   No   \n",
       "3              No  No internet service  No internet service   \n",
       "4     Fiber optic                   No                   No   \n",
       "\n",
       "      DeviceProtection          TechSupport          StreamingTV  \\\n",
       "0  No internet service  No internet service  No internet service   \n",
       "1                   No                   No                   No   \n",
       "2                   No                  Yes                  Yes   \n",
       "3  No internet service  No internet service  No internet service   \n",
       "4                   No                   No                   No   \n",
       "\n",
       "       StreamingMovies        Contract PaperlessBilling  \\\n",
       "0  No internet service        Two year               No   \n",
       "1                   No  Month-to-month              Yes   \n",
       "2                  Yes        One year              Yes   \n",
       "3  No internet service        Two year               No   \n",
       "4                   No  Month-to-month              Yes   \n",
       "\n",
       "               PaymentMethod  MonthlyCharges  TotalCharges  Churn  \n",
       "0  Bank transfer (automatic)           24.70       1810.55      0  \n",
       "1           Electronic check           74.50         74.50      1  \n",
       "2  Bank transfer (automatic)           73.45       2661.10      0  \n",
       "3    Credit card (automatic)           25.10        930.95      0  \n",
       "4    Credit card (automatic)           75.20        633.85      0  "
      ]
     },
     "execution_count": 122,
     "metadata": {},
     "output_type": "execute_result"
    }
   ],
   "source": [
    "data_inf.head()"
   ]
  },
  {
   "cell_type": "markdown",
   "metadata": {},
   "source": [
    "#### **Check missing values**"
   ]
  },
  {
   "cell_type": "code",
   "execution_count": 123,
   "metadata": {},
   "outputs": [
    {
     "data": {
      "text/plain": [
       "gender              False\n",
       "SeniorCitizen       False\n",
       "Partner             False\n",
       "Dependents          False\n",
       "tenure              False\n",
       "PhoneService        False\n",
       "MultipleLines       False\n",
       "InternetService     False\n",
       "OnlineSecurity      False\n",
       "OnlineBackup        False\n",
       "DeviceProtection    False\n",
       "TechSupport         False\n",
       "StreamingTV         False\n",
       "StreamingMovies     False\n",
       "Contract            False\n",
       "PaperlessBilling    False\n",
       "PaymentMethod       False\n",
       "MonthlyCharges      False\n",
       "TotalCharges        False\n",
       "Churn               False\n",
       "dtype: bool"
      ]
     },
     "execution_count": 123,
     "metadata": {},
     "output_type": "execute_result"
    }
   ],
   "source": [
    "data_inf.isnull().any()"
   ]
  },
  {
   "cell_type": "markdown",
   "metadata": {},
   "source": [
    "#### **Separate target variable**"
   ]
  },
  {
   "cell_type": "code",
   "execution_count": 125,
   "metadata": {},
   "outputs": [],
   "source": [
    "data_inf_X = data_inf[X_train_pre.columns]\n",
    "data_inf_y = data_inf['Churn']"
   ]
  },
  {
   "cell_type": "markdown",
   "metadata": {},
   "source": [
    "#### **Data Pre-processing**"
   ]
  },
  {
   "cell_type": "code",
   "execution_count": 126,
   "metadata": {},
   "outputs": [],
   "source": [
    "data_inf_final = preprocess_pipeline.transform(data_inf_X)"
   ]
  },
  {
   "cell_type": "markdown",
   "metadata": {},
   "source": [
    "#### **Prediction**"
   ]
  },
  {
   "cell_type": "code",
   "execution_count": 127,
   "metadata": {},
   "outputs": [
    {
     "name": "stdout",
     "output_type": "stream",
     "text": [
      "Model: \"sequential_7\"\n",
      "_________________________________________________________________\n",
      " Layer (type)                Output Shape              Param #   \n",
      "=================================================================\n",
      " dense_23 (Dense)            (None, 9)                 144       \n",
      "                                                                 \n",
      " dense_24 (Dense)            (None, 1)                 10        \n",
      "                                                                 \n",
      "=================================================================\n",
      "Total params: 154\n",
      "Trainable params: 154\n",
      "Non-trainable params: 0\n",
      "_________________________________________________________________\n"
     ]
    }
   ],
   "source": [
    "churn_model = load_model('churn_model.h5')\n",
    "churn_model.summary()"
   ]
  },
  {
   "cell_type": "code",
   "execution_count": 128,
   "metadata": {},
   "outputs": [
    {
     "name": "stdout",
     "output_type": "stream",
     "text": [
      "1/1 [==============================] - 0s 58ms/step\n"
     ]
    }
   ],
   "source": [
    "y_pred_inf = churn_model.predict(data_inf_final)"
   ]
  },
  {
   "cell_type": "code",
   "execution_count": 129,
   "metadata": {},
   "outputs": [],
   "source": [
    "y_pred_inf = np.where(y_pred_inf < 0.5, 0, 1)\n",
    "y_pred_inf = pd.DataFrame(y_pred_inf, columns=['predicted_Churn'])\n",
    "y_pred_inf['predicted_Churn'] = y_pred_inf.predicted_Churn.replace({0:'No', 1:'Yes'})"
   ]
  },
  {
   "cell_type": "code",
   "execution_count": 130,
   "metadata": {},
   "outputs": [
    {
     "data": {
      "text/html": [
       "<div>\n",
       "<style scoped>\n",
       "    .dataframe tbody tr th:only-of-type {\n",
       "        vertical-align: middle;\n",
       "    }\n",
       "\n",
       "    .dataframe tbody tr th {\n",
       "        vertical-align: top;\n",
       "    }\n",
       "\n",
       "    .dataframe thead th {\n",
       "        text-align: right;\n",
       "    }\n",
       "</style>\n",
       "<table border=\"1\" class=\"dataframe\">\n",
       "  <thead>\n",
       "    <tr style=\"text-align: right;\">\n",
       "      <th></th>\n",
       "      <th>predicted_Churn</th>\n",
       "    </tr>\n",
       "  </thead>\n",
       "  <tbody>\n",
       "    <tr>\n",
       "      <th>0</th>\n",
       "      <td>No</td>\n",
       "    </tr>\n",
       "    <tr>\n",
       "      <th>1</th>\n",
       "      <td>Yes</td>\n",
       "    </tr>\n",
       "    <tr>\n",
       "      <th>2</th>\n",
       "      <td>No</td>\n",
       "    </tr>\n",
       "    <tr>\n",
       "      <th>3</th>\n",
       "      <td>No</td>\n",
       "    </tr>\n",
       "    <tr>\n",
       "      <th>4</th>\n",
       "      <td>Yes</td>\n",
       "    </tr>\n",
       "    <tr>\n",
       "      <th>5</th>\n",
       "      <td>No</td>\n",
       "    </tr>\n",
       "    <tr>\n",
       "      <th>6</th>\n",
       "      <td>No</td>\n",
       "    </tr>\n",
       "    <tr>\n",
       "      <th>7</th>\n",
       "      <td>No</td>\n",
       "    </tr>\n",
       "    <tr>\n",
       "      <th>8</th>\n",
       "      <td>Yes</td>\n",
       "    </tr>\n",
       "    <tr>\n",
       "      <th>9</th>\n",
       "      <td>Yes</td>\n",
       "    </tr>\n",
       "  </tbody>\n",
       "</table>\n",
       "</div>"
      ],
      "text/plain": [
       "  predicted_Churn\n",
       "0              No\n",
       "1             Yes\n",
       "2              No\n",
       "3              No\n",
       "4             Yes\n",
       "5              No\n",
       "6              No\n",
       "7              No\n",
       "8             Yes\n",
       "9             Yes"
      ]
     },
     "execution_count": 130,
     "metadata": {},
     "output_type": "execute_result"
    }
   ],
   "source": [
    "y_pred_inf"
   ]
  },
  {
   "cell_type": "markdown",
   "metadata": {},
   "source": [
    "The model is working well with the data inference."
   ]
  },
  {
   "cell_type": "markdown",
   "metadata": {},
   "source": [
    "## **11. Conclusion**\n",
    "\n",
    "Tensorflow is a powerful deep learning algorithm. In this case, we predicted whether the customers of a Telco Company will churn or not. \n",
    "\n",
    "We used 2 methods, Sequential API and Functional API. For the sequential API we try to define 2 models using different activation function, optimizer, and number of hidden layers and neurons. The result was not too significant, the accuracy of Sequential API A is **0.80** and B is **0.79**. However from the loss and accuracy plot we could see that the train and validation loss and accuracy in Sequential API A shows closer lines than Sequential API B. This means that we do not need many layers if using 1 hidden layer is already good.\n",
    "\n",
    "We also used PCA before we input the data to the model, and it showed a good result. At the first attempt I did not use PCA so I input 40 features to the model and the result was not satisfactory. So I tried to reduce the features using PCA and it showed a significant improvement.\n",
    "\n",
    "In this case, the activation function that we used is **`ReLU`**, the optimizer is **`Adam`**, the weight initializer is **`HeUniform`**, 1 hidden layer, and no dropout."
   ]
  }
 ],
 "metadata": {
  "interpreter": {
   "hash": "263930470851f494f0ed2879c35b57985588df20f9e529b86e97dd5eb9ddc466"
  },
  "kernelspec": {
   "display_name": "Python 3.9.7 ('base')",
   "language": "python",
   "name": "python3"
  },
  "language_info": {
   "codemirror_mode": {
    "name": "ipython",
    "version": 3
   },
   "file_extension": ".py",
   "mimetype": "text/x-python",
   "name": "python",
   "nbconvert_exporter": "python",
   "pygments_lexer": "ipython3",
   "version": "3.9.7"
  },
  "orig_nbformat": 4
 },
 "nbformat": 4,
 "nbformat_minor": 2
}
